{
 "cells": [
  {
   "cell_type": "markdown",
   "metadata": {},
   "source": [
    "+ This notebook is part of the addition lecture *Geometric view of linear algebra* in the OCW MIT course 18.06 by Prof Gilbert Strang [1]\n",
    "+ Created by me, Dr Juan H Klopper\n",
    "    + Specialist Surgeon\n",
    "    + Groote Schuur Hospital\n",
    "    + Senior Lecturer in Surgery and Biostatistics & Machine Learning\n",
    "    + University Cape Town\n",
    "    + <a href=\"mailto:juan.klopper@uct.ac.za\">Email me with your thoughts, comments, suggestions and corrections</a> \n",
    "<a rel=\"license\" href=\"http://creativecommons.org/licenses/by-nc/4.0/\"><img alt=\"Creative Commons Licence\" style=\"border-width:0\" src=\"https://i.creativecommons.org/l/by-nc/4.0/88x31.png\" /></a><br /><span xmlns:dct=\"http://purl.org/dc/terms/\" href=\"http://purl.org/dc/dcmitype/InteractiveResource\" property=\"dct:title\" rel=\"dct:type\">Linear Algebra OCW MIT18.06</span> <span xmlns:cc=\"http://creativecommons.org/ns#\" property=\"cc:attributionName\">IPython notebook [2] study notes by Dr Juan H Klopper</span> is licensed under a <a rel=\"license\" href=\"http://creativecommons.org/licenses/by-nc/4.0/\">Creative Commons Attribution-NonCommercial 4.0 International License</a>.\n",
    "\n",
    "+ [1] <a href=\"http://ocw.mit.edu/courses/mathematics/18-06sc-linear-algebra-fall-2011/index.htm\">OCW MIT 18.06</a>\n",
    "+ [2] Fernando Pérez, Brian E. Granger, IPython: A System for Interactive Scientific Computing, Computing in Science and Engineering, vol. 9, no. 3, pp. 21-29, May/June 2007, doi:10.1109/MCSE.2007.53. URL: http://ipython.org"
   ]
  },
  {
   "cell_type": "code",
   "execution_count": 1,
   "metadata": {},
   "outputs": [
    {
     "data": {
      "text/html": [
       "<link href='http://fonts.googleapis.com/css?family=Alegreya+Sans:100,300,400,500,700,800,900,100italic,300italic,400italic,500italic,700italic,800italic,900italic' rel='stylesheet' type='text/css'>\n",
       "<link href='http://fonts.googleapis.com/css?family=Arvo:400,700,400italic' rel='stylesheet' type='text/css'>\n",
       "<link href='http://fonts.googleapis.com/css?family=PT+Mono' rel='stylesheet' type='text/css'>\n",
       "<link href='http://fonts.googleapis.com/css?family=Shadows+Into+Light' rel='stylesheet' type='text/css'>\n",
       "<link href='http://fonts.googleapis.com/css?family=Philosopher:400,700,400italic,700italic' rel='stylesheet' type='text/css'>\n",
       "\n",
       "<style>\n",
       "\n",
       "@font-face {\n",
       "    font-family: \"Computer Modern\";\n",
       "    src: url('http://mirrors.ctan.org/fonts/cm-unicode/fonts/otf/cmunss.otf');\n",
       "}\n",
       "\n",
       "\n",
       "\n",
       "/* Formatting for header cells */\n",
       ".text_cell_render h1 {\n",
       "    font-family: 'Philosopher', sans-serif;\n",
       "    font-weight: 400;\n",
       "    font-size: 2.2em;\n",
       "    line-height: 100%;\n",
       "    color: rgb(0, 80, 120);\n",
       "    margin-bottom: 0.1em;\n",
       "    margin-top: 0.1em;\n",
       "    display: block;\n",
       "}\t\n",
       ".text_cell_render h2 {\n",
       "    font-family: 'Philosopher', serif;\n",
       "    font-weight: 400;\n",
       "    font-size: 1.9em;\n",
       "    line-height: 100%;\n",
       "    color: rgb(245,179,64);\n",
       "    margin-bottom: 0.1em;\n",
       "    margin-top: 0.1em;\n",
       "    display: block;\n",
       "}\t\n",
       "\n",
       ".text_cell_render h3 {\n",
       "    font-family: 'Philosopher', serif;\n",
       "    margin-top:12px;\n",
       "    margin-bottom: 3px;\n",
       "    font-style: italic;\n",
       "    color: rgb(94,127,192);\n",
       "}\n",
       "\n",
       ".text_cell_render h4 {\n",
       "    font-family: 'Philosopher', serif;\n",
       "}\n",
       "\n",
       ".text_cell_render h5 {\n",
       "    font-family: 'Alegreya Sans', sans-serif;\n",
       "    font-weight: 300;\n",
       "    font-size: 16pt;\n",
       "    color: grey;\n",
       "    font-style: italic;\n",
       "    margin-bottom: .1em;\n",
       "    margin-top: 0.1em;\n",
       "    display: block;\n",
       "}\n",
       "\n",
       ".text_cell_render h6 {\n",
       "    font-family: 'PT Mono', sans-serif;\n",
       "    font-weight: 300;\n",
       "    font-size: 10pt;\n",
       "    color: grey;\n",
       "    margin-bottom: 1px;\n",
       "    margin-top: 1px;\n",
       "}\n",
       "\n",
       ".CodeMirror{\n",
       "        font-family: \"PT Mono\";\n",
       "        font-size: 100%;\n",
       "}\n",
       "\n",
       "</style>\n",
       "\n"
      ],
      "text/plain": [
       "<IPython.core.display.HTML object>"
      ]
     },
     "execution_count": 1,
     "metadata": {},
     "output_type": "execute_result"
    }
   ],
   "source": [
    "from IPython.core.display import HTML\n",
    "css_file = 'style.css'\n",
    "HTML(open(css_file, 'r').read())"
   ]
  },
  {
   "cell_type": "markdown",
   "metadata": {},
   "source": [
    "![SegmentLocal](KRG_elegant_logo_for_light_BG.png \"segment\")\n",
    "![SegmentLocal](UCT_logo.gif \"segment\")"
   ]
  },
  {
   "cell_type": "code",
   "execution_count": null,
   "metadata": {},
   "outputs": [],
   "source": [
    "# Comments will be in this form\n",
    "# Comments are not executed"
   ]
  },
  {
   "cell_type": "markdown",
   "metadata": {},
   "source": [
    "# Geometrical view"
   ]
  },
  {
   "cell_type": "markdown",
   "metadata": {},
   "source": [
    "## Preamble"
   ]
  },
  {
   "cell_type": "markdown",
   "metadata": {},
   "source": []
  },
  {
   "cell_type": "markdown",
   "metadata": {},
   "source": [
    "## System of linear equations"
   ]
  },
  {
   "cell_type": "markdown",
   "metadata": {},
   "source": [
    "Most courses and textbooks introduce linear algebra to solve systems of linear equations.  _Linear equations_ have independent variables that are each of power one and not transcendental.  Example are shown in (1) below."
   ]
  },
  {
   "cell_type": "markdown",
   "metadata": {},
   "source": [
    "$$ \\begin{align} {2x}-{y}&={3} \\\\ -{x} + 2{y} &= {0} \\end{align} \\tag{1} $$"
   ]
  },
  {
   "cell_type": "markdown",
   "metadata": {},
   "source": [
    "Solving systems of linear equations attempts at finding numerical solutions for the variables taht solve all the equations in the linear system.  A solution to (1) is shown in (2) below."
   ]
  },
  {
   "cell_type": "markdown",
   "metadata": {},
   "source": [
    "$$\\begin{align}2 &\\left( 2 \\right) - 1 \\left( 1 \\right) = 3 \\\\ - &\\left( 2 \\right) + 2 \\left( 1 \\right) = 0\\end{align}\\tag{2}$$"
   ]
  },
  {
   "cell_type": "markdown",
   "metadata": {},
   "source": [
    "We can create an _augmented matrix_ from the system in (1).  To do this, we create a matrix of coefficients, including those from both sides of the equations.  We store the matrix as a computer variable called `A_augm`."
   ]
  },
  {
   "cell_type": "code",
   "execution_count": 10,
   "metadata": {},
   "outputs": [],
   "source": [
    "from sympy import Matrix"
   ]
  },
  {
   "cell_type": "code",
   "execution_count": 42,
   "metadata": {},
   "outputs": [
    {
     "data": {
      "text/latex": [
       "$\\displaystyle \\left[\\begin{matrix}2 & -1 & 3\\\\-1 & 2 & 0\\end{matrix}\\right]$"
      ],
      "text/plain": [
       "Matrix([\n",
       "[ 2, -1, 3],\n",
       "[-1,  2, 0]])"
      ]
     },
     "execution_count": 42,
     "metadata": {},
     "output_type": "execute_result"
    }
   ],
   "source": [
    "A_augm = Matrix([[2, -1, 3], [-1, 2, 0]]) # Note the placement of ()'s and []'s\n",
    "A_augm # A_augm is a computer variable that contains the matrix"
   ]
  },
  {
   "cell_type": "markdown",
   "metadata": {},
   "source": [
    "Because `A_augm` was created using the `Matrix()` function from `sympy`, it is an instance of this type.  The `type()` indicates it more specificically as a _mutable, dense matrix_.  Mutable means that we can change the values of the elements (coefficients in this case) and dense because the value of each position in the matrix is stored.  (when there are many zeros, the a sparse matrix can be created, that only stores the values that are not zero and their positions.)"
   ]
  },
  {
   "cell_type": "code",
   "execution_count": 43,
   "metadata": {},
   "outputs": [
    {
     "data": {
      "text/plain": [
       "sympy.matrices.dense.MutableDenseMatrix"
      ]
     },
     "execution_count": 43,
     "metadata": {},
     "output_type": "execute_result"
    }
   ],
   "source": [
    "# We can ask python what type of computer variable A_augm holds\n",
    "type(A_augm)  # We see that it is a mutable dense matrix"
   ]
  },
  {
   "cell_type": "markdown",
   "metadata": {},
   "source": [
    "We can also create a _matrix of coefficients_.  It includes only ethe left-hand side coefficients."
   ]
  },
  {
   "cell_type": "code",
   "execution_count": 44,
   "metadata": {},
   "outputs": [
    {
     "data": {
      "text/latex": [
       "$\\displaystyle \\left[\\begin{matrix}2 & -1\\\\-1 & 2\\end{matrix}\\right]$"
      ],
      "text/plain": [
       "Matrix([\n",
       "[ 2, -1],\n",
       "[-1,  2]])"
      ]
     },
     "execution_count": 44,
     "metadata": {},
     "output_type": "execute_result"
    }
   ],
   "source": [
    "A = Matrix([[2, -1], [-1, 2]])  # Matrix of coefficients\n",
    "A"
   ]
  },
  {
   "cell_type": "markdown",
   "metadata": {},
   "source": [
    "The variables (unknowns) can be expressed as a column vector, saved as the computer variable `x_vect` below.  First, we specify the variable `x` and `y` as mathematical variables using the `symbols()` function."
   ]
  },
  {
   "cell_type": "code",
   "execution_count": 45,
   "metadata": {},
   "outputs": [],
   "source": [
    "from sympy import symbols"
   ]
  },
  {
   "cell_type": "code",
   "execution_count": 46,
   "metadata": {},
   "outputs": [],
   "source": [
    "x, y, z = symbols('x y z') # Creating symbolic mathematical variables as opposed to computer variables\n",
    "# These symbols can no longer be used as computer variable names"
   ]
  },
  {
   "cell_type": "code",
   "execution_count": 47,
   "metadata": {},
   "outputs": [
    {
     "data": {
      "text/latex": [
       "$\\displaystyle \\left[\\begin{matrix}x\\\\y\\end{matrix}\\right]$"
      ],
      "text/plain": [
       "Matrix([\n",
       "[x],\n",
       "[y]])"
      ]
     },
     "execution_count": 47,
     "metadata": {},
     "output_type": "execute_result"
    }
   ],
   "source": [
    "x_vect = Matrix([x, y])\n",
    "x_vect"
   ]
  },
  {
   "cell_type": "markdown",
   "metadata": {},
   "source": [
    "The same goes for the column vector of solutions, saved as the computer variable `b_vect`."
   ]
  },
  {
   "cell_type": "code",
   "execution_count": 48,
   "metadata": {},
   "outputs": [
    {
     "data": {
      "text/latex": [
       "$\\displaystyle \\left[\\begin{matrix}3\\\\0\\end{matrix}\\right]$"
      ],
      "text/plain": [
       "Matrix([\n",
       "[3],\n",
       "[0]])"
      ]
     },
     "execution_count": 48,
     "metadata": {},
     "output_type": "execute_result"
    }
   ],
   "source": [
    "b_vect = Matrix([3, 0])\n",
    "b_vect"
   ]
  },
  {
   "cell_type": "markdown",
   "metadata": {},
   "source": [
    "In (3) below we see the matrix times the column vector results in the vector of solutions.  The (row, column) sizes are also shown."
   ]
  },
  {
   "cell_type": "markdown",
   "metadata": {},
   "source": [
    "$$ \\begin{align} A_{2 \\times 2} \\quad \\mathbf{x}_{2 \\times 1} = \\mathbf{b}_{2 \\times 1} \\\\ \\\\ \\begin{bmatrix} 2 && -1 \\\\ -1 && 2 \\end{bmatrix} \\begin{bmatrix} x \\\\ y\\end{bmatrix} = \\begin{bmatrix} 3 \\\\ 0 \\end{bmatrix} \\end{align} \\tag{3}$$"
   ]
  },
  {
   "cell_type": "markdown",
   "metadata": {},
   "source": [
    "The `Eq()` function is used below to do the matrix times the vector on the left-hand side (resulting in a column vector) and the solution vector on the right.  It gives a visual idea of how we use linear algebra to solve these systems."
   ]
  },
  {
   "cell_type": "code",
   "execution_count": 49,
   "metadata": {},
   "outputs": [],
   "source": [
    "from sympy import Eq"
   ]
  },
  {
   "cell_type": "code",
   "execution_count": 50,
   "metadata": {},
   "outputs": [
    {
     "data": {
      "text/latex": [
       "$\\displaystyle \\left[\\begin{matrix}2 x - y\\\\- x + 2 y\\end{matrix}\\right] = \\left[\\begin{matrix}3\\\\0\\end{matrix}\\right]$"
      ],
      "text/plain": [
       "Eq(Matrix([\n",
       "[ 2*x - y],\n",
       "[-x + 2*y]]), Matrix([\n",
       "[3],\n",
       "[0]]))"
      ]
     },
     "execution_count": 50,
     "metadata": {},
     "output_type": "execute_result"
    }
   ],
   "source": [
    "Eq(A * x_vect, b_vect) # From Ax = b\n",
    "# The Eq function takes the arguments left-hand-side (LHS), right-handside (RHS) of the equation"
   ]
  },
  {
   "cell_type": "markdown",
   "metadata": {},
   "source": [
    "## The row picture"
   ]
  },
  {
   "cell_type": "markdown",
   "metadata": {},
   "source": [
    "Each linear equation above is an equation of a straight line.  This represents the _row picture_ of a linear system.  The solutions to both equations is at the point where they cross.  Have a look at the plot below. Don't be too concerned about the code for plotting.  It does not form part of this series of notebooks."
   ]
  },
  {
   "cell_type": "code",
   "execution_count": 51,
   "metadata": {},
   "outputs": [],
   "source": [
    "import numpy as np\n",
    "%matplotlib inline\n",
    "import matplotlib.pyplot as plt"
   ]
  },
  {
   "cell_type": "code",
   "execution_count": 52,
   "metadata": {},
   "outputs": [
    {
     "data": {
      "image/png": "[encoded data removed]",
      "text/plain": [
       "<Figure size 720x576 with 1 Axes>"
      ]
     },
     "metadata": {
      "needs_background": "light"
     },
     "output_type": "display_data"
    }
   ],
   "source": [
    "x_vals = np.linspace(-3, 3, 100) # Create 100 values between -3 and 3\n",
    "# Note that we cannot use the computer variable x, because it has been reserved above as a mathematical variable in\n",
    "# the symbols function\n",
    "\n",
    "plt.figure(figsize = (10,8)) # Create a graph of size 10 by 8\n",
    "plt.plot(x_vals, 2 * x_vals - 3) # Plot every single value created above with 2 times that values\n",
    "# Taken from the first equation which was y = 2x or f(x) = 2x\n",
    "# The plot takes the arguments (code between parentheses) of x,y\n",
    "plt.plot(x_vals, ((x_vals / 2))) # Also plot the second equation\n",
    "plt.show; # Draw the plot on screen"
   ]
  },
  {
   "cell_type": "markdown",
   "metadata": {},
   "source": [
    "We note that the two line cross at the point $\\left( 2, 1 \\right)$.  It should be clear that there are three possible outcomes for a system with two variables and two equations.  Either the lines cross with a single solution, or they do not cross at all (parallel lines), with no solutions, or they coincide, with infinitely many solutions."
   ]
  },
  {
   "cell_type": "markdown",
   "metadata": {},
   "source": [
    "## The column picture"
   ]
  },
  {
   "cell_type": "markdown",
   "metadata": {},
   "source": [
    "We can view the same system as a vector problem.  Here the coefficients of each separate variable as a column vector.  This problem now becomes a linear combination of vectors.  We are thus asking how many (scalar multiplication) of one vector plus how many of the other vector will equal the vector on the right hand side.  This should be clear from (4) below."
   ]
  },
  {
   "cell_type": "markdown",
   "metadata": {},
   "source": [
    "$$ x\\begin{bmatrix} 2 \\\\ -1 \\end{bmatrix}+y\\begin{bmatrix} -1 \\\\ 2 \\end{bmatrix}=\\begin{bmatrix} 3 \\\\ 0 \\end{bmatrix} \\tag{4}$$"
   ]
  },
  {
   "cell_type": "markdown",
   "metadata": {},
   "source": [
    "As before, we create separate computer variables and show that the end-result is the same."
   ]
  },
  {
   "cell_type": "code",
   "execution_count": 53,
   "metadata": {},
   "outputs": [
    {
     "data": {
      "text/latex": [
       "$\\displaystyle \\left[\\begin{matrix}2\\\\-1\\end{matrix}\\right]$"
      ],
      "text/plain": [
       "Matrix([\n",
       "[ 2],\n",
       "[-1]])"
      ]
     },
     "execution_count": 53,
     "metadata": {},
     "output_type": "execute_result"
    }
   ],
   "source": [
    "x_var_vect = Matrix([2, -1])\n",
    "x_var_vect"
   ]
  },
  {
   "cell_type": "code",
   "execution_count": 54,
   "metadata": {},
   "outputs": [
    {
     "data": {
      "text/latex": [
       "$\\displaystyle \\left[\\begin{matrix}-1\\\\2\\end{matrix}\\right]$"
      ],
      "text/plain": [
       "Matrix([\n",
       "[-1],\n",
       "[ 2]])"
      ]
     },
     "execution_count": 54,
     "metadata": {},
     "output_type": "execute_result"
    }
   ],
   "source": [
    "y_var_vect = Matrix([-1, 2])\n",
    "y_var_vect"
   ]
  },
  {
   "cell_type": "code",
   "execution_count": 55,
   "metadata": {},
   "outputs": [
    {
     "data": {
      "text/latex": [
       "$\\displaystyle \\left[\\begin{matrix}2 x - y\\\\- x + 2 y\\end{matrix}\\right] = \\left[\\begin{matrix}3\\\\0\\end{matrix}\\right]$"
      ],
      "text/plain": [
       "Eq(Matrix([\n",
       "[ 2*x - y],\n",
       "[-x + 2*y]]), Matrix([\n",
       "[3],\n",
       "[0]]))"
      ]
     },
     "execution_count": 55,
     "metadata": {},
     "output_type": "execute_result"
    }
   ],
   "source": [
    "Eq(x * x_var_vect + y * y_var_vect, b_vect)"
   ]
  },
  {
   "cell_type": "markdown",
   "metadata": {},
   "source": [
    "In the image below, we see the two vectors (blue and green) and the resultant vector (orange)."
   ]
  },
  {
   "cell_type": "code",
   "execution_count": 70,
   "metadata": {},
   "outputs": [
    {
     "data": {
      "image/png": "[encoded data removed]",
      "text/plain": [
       "<Figure size 432x288 with 1 Axes>"
      ]
     },
     "metadata": {
      "needs_background": "light"
     },
     "output_type": "display_data"
    }
   ],
   "source": [
    "ax = plt.axes()\n",
    "\n",
    "ax.arrow(0.0, 0.0, 2.0, -1.0,\n",
    "        length_includes_head=True,\n",
    "        head_width=0.5,\n",
    "         head_length=0.7,\n",
    "         fc='lightblue',\n",
    "         ec='black')\n",
    "ax.arrow(0.0, 0.0, -1.0, 2.0,\n",
    "        length_includes_head=True,\n",
    "        head_width=0.5,\n",
    "        head_length=0.7,\n",
    "        fc='lightgreen',\n",
    "        ec='black')\n",
    "ax.arrow(0.0, 0.0, 3.0, 0.0,\n",
    "        length_includes_head=True,\n",
    "        head_width=0.5,\n",
    "         head_length=0.7,\n",
    "         fc='orange',\n",
    "         ec='black')\n",
    "\n",
    "plt.grid()\n",
    "\n",
    "plt.xlim(-5,5)\n",
    "plt.ylim(-5,5)\n",
    "\n",
    "plt.title('Vector view',fontsize=10)\n",
    "\n",
    "plt.show();"
   ]
  },
  {
   "cell_type": "markdown",
   "metadata": {},
   "source": [
    "We know that it takes twice the blue vector and one time the green vector to give us the orange vector."
   ]
  },
  {
   "cell_type": "code",
   "execution_count": 69,
   "metadata": {},
   "outputs": [
    {
     "data": {
      "image/png": "[encoded data removed]",
      "text/plain": [
       "<Figure size 432x288 with 1 Axes>"
      ]
     },
     "metadata": {
      "needs_background": "light"
     },
     "output_type": "display_data"
    }
   ],
   "source": [
    "ax = plt.axes()\n",
    "\n",
    "ax.arrow(0.0, 0.0, 2.0, -1.0,\n",
    "        length_includes_head=True,\n",
    "        head_width=0.5,\n",
    "         head_length=0.7,\n",
    "         fc='lightblue',\n",
    "         ec='black')\n",
    "ax.arrow(2.0, -1.0, 2.0, -1.0,\n",
    "        length_includes_head=True,\n",
    "        head_width=0.5,\n",
    "         head_length=0.7,\n",
    "         fc='lightblue',\n",
    "         ec='black')\n",
    "\n",
    "ax.arrow(4.0, -2.0, -1.0, 2.0,\n",
    "        length_includes_head=True,\n",
    "        head_width=0.5,\n",
    "        head_length=0.7,\n",
    "        fc='lightgreen',\n",
    "        ec='black')\n",
    "ax.arrow(0.0, 0.0, 3.0, 0.0,\n",
    "        length_includes_head=True,\n",
    "        head_width=0.5,\n",
    "         head_length=0.7,\n",
    "         fc='orange',\n",
    "         ec='black')\n",
    "\n",
    "plt.grid()\n",
    "\n",
    "plt.xlim(-5,5)\n",
    "plt.ylim(-5,5)\n",
    "\n",
    "plt.title('Vector view',fontsize=10)\n",
    "\n",
    "plt.show();"
   ]
  },
  {
   "cell_type": "markdown",
   "metadata": {},
   "source": [
    "It should be very clear that the two vectors are special in that linear combinations of them will allow us to fill a plane in $\\mathbb{R}^{2}$ (in which they both lie)."
   ]
  },
  {
   "cell_type": "markdown",
   "metadata": {},
   "source": [
    "It should also be clear to see that these two vectors are not linear combinations of each other.  If this were so, they are linearly independent and linear combinations of them fill only a line in $\\mathbb{R}$. "
   ]
  },
  {
   "cell_type": "markdown",
   "metadata": {},
   "source": [
    "We can imagine that the $xy$-plane is filled with (all the points are created by) vectors, i.e. I can find any coordinate by drawing a vector to it.  All these vectors together can be called a _set_ and they fill $\\mathbb{R}^{2}$.  Later we will learn about _basis vectors_ and how they _span_ a space."
   ]
  },
  {
   "cell_type": "markdown",
   "metadata": {},
   "source": [
    "## The 3-space picture"
   ]
  },
  {
   "cell_type": "markdown",
   "metadata": {},
   "source": [
    "To end this section, we take a look at the three equation with three variables."
   ]
  },
  {
   "cell_type": "markdown",
   "metadata": {},
   "source": [
    "$$ \\begin{align} {3x}+{2y}-{z}&=2 \\\\ {x}-{2y}-{z}&=3 \\\\ {2x}+{y}-{z}&={1} \\end{align} \\tag{5}$$"
   ]
  },
  {
   "cell_type": "markdown",
   "metadata": {},
   "source": [
    "We can create an augmented matrix from the coefficents, stored in the computer variable `A_augm` below."
   ]
  },
  {
   "cell_type": "code",
   "execution_count": 30,
   "metadata": {},
   "outputs": [
    {
     "data": {
      "text/latex": [
       "$\\displaystyle \\left[\\begin{matrix}3 & 2 & -1 & 2\\\\1 & -2 & -1 & 3\\\\2 & 1 & -1 & 1\\end{matrix}\\right]$"
      ],
      "text/plain": [
       "Matrix([\n",
       "[3,  2, -1, 2],\n",
       "[1, -2, -1, 3],\n",
       "[2,  1, -1, 1]])"
      ]
     },
     "execution_count": 30,
     "metadata": {},
     "output_type": "execute_result"
    }
   ],
   "source": [
    "A_augm = Matrix([[3, 2, -1, 2], [1, -2, -1, 3], [2, 1, -1, 1]])\n",
    "A_augm"
   ]
  },
  {
   "cell_type": "markdown",
   "metadata": {},
   "source": [
    "The `.rref()` method will quickly solve the linear system for use."
   ]
  },
  {
   "cell_type": "code",
   "execution_count": 31,
   "metadata": {},
   "outputs": [
    {
     "data": {
      "text/plain": [
       "(Matrix([\n",
       " [1, 0, 0,  5/2],\n",
       " [0, 1, 0, -3/2],\n",
       " [0, 0, 1,  5/2]]), (0, 1, 2))"
      ]
     },
     "execution_count": 31,
     "metadata": {},
     "output_type": "execute_result"
    }
   ],
   "source": [
    "A_augm.rref()"
   ]
  },
  {
   "cell_type": "markdown",
   "metadata": {},
   "source": [
    "The solution is where three planes in $\\mathbb{R}^{3}$ _cross_.  We can once again imagine that the planes (each equation) may never cross or lie on-top of each other.  Below is an image of three planes crossing at one point."
   ]
  },
  {
   "cell_type": "code",
   "execution_count": 33,
   "metadata": {},
   "outputs": [],
   "source": [
    "from sympy.plotting import plot3d"
   ]
  },
  {
   "cell_type": "code",
   "execution_count": 35,
   "metadata": {},
   "outputs": [
    {
     "data": {
      "image/png": "[encoded data removed]",
      "text/plain": [
       "<Figure size 432x288 with 1 Axes>"
      ]
     },
     "metadata": {
      "needs_background": "light"
     },
     "output_type": "display_data"
    }
   ],
   "source": [
    "plot3d((3*x+2*y-2, (x,-5,5), (y,-5,5)),\n",
    "      (x-2*y-3, (x,-5,5), (y,-5,5)),\n",
    "      (2*x+y-1, (x,-5,5), (y,-5,5)));"
   ]
  },
  {
   "cell_type": "markdown",
   "metadata": {},
   "source": [
    "As before, we can view this problem as a column picture."
   ]
  },
  {
   "cell_type": "markdown",
   "metadata": {},
   "source": [
    "## Conclusion"
   ]
  },
  {
   "cell_type": "markdown",
   "metadata": {},
   "source": [
    "We have seen how linear systems can be viewed as rows or columns and how they can be seen as matrices and vectors."
   ]
  },
  {
   "cell_type": "code",
   "execution_count": null,
   "metadata": {},
   "outputs": [],
   "source": []
  }
 ],
 "metadata": {
  "kernelspec": {
   "display_name": "Python 3",
   "language": "python",
   "name": "python3"
  },
  "language_info": {
   "codemirror_mode": {
    "name": "ipython",
    "version": 3
   },
   "file_extension": ".py",
   "mimetype": "text/x-python",
   "name": "python",
   "nbconvert_exporter": "python",
   "pygments_lexer": "ipython3",
   "version": "3.7.5"
  }
 },
 "nbformat": 4,
 "nbformat_minor": 1
}
