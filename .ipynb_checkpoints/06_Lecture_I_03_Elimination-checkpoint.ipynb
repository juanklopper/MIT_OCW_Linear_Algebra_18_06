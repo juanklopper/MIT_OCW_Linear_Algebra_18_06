{
 "cells": [
  {
   "cell_type": "markdown",
   "metadata": {},
   "source": [
    "+ This notebook is part of the addition lecture *An overview of key ideas* in the OCW MIT course 18.06 by Prof Gilbert Strang [1]\n",
    "+ Created by me, Dr Juan H Klopper\n",
    "    + Specialist Surgeon\n",
    "    + Groote Schuur Hospital\n",
    "    + Senior Lecturer in Surgery and Biostatistics & Machine Learning\n",
    "    + University Cape Town\n",
    "    + <a href=\"mailto:juan.klopper@uct.ac.za\">Email me with your thoughts, comments, suggestions and corrections</a> \n",
    "<a rel=\"license\" href=\"http://creativecommons.org/licenses/by-nc/4.0/\"><img alt=\"Creative Commons Licence\" style=\"border-width:0\" src=\"https://i.creativecommons.org/l/by-nc/4.0/88x31.png\" /></a><br /><span xmlns:dct=\"http://purl.org/dc/terms/\" href=\"http://purl.org/dc/dcmitype/InteractiveResource\" property=\"dct:title\" rel=\"dct:type\">Linear Algebra OCW MIT18.06</span> <span xmlns:cc=\"http://creativecommons.org/ns#\" property=\"cc:attributionName\">IPython notebook [2] study notes by Dr Juan H Klopper</span> is licensed under a <a rel=\"license\" href=\"http://creativecommons.org/licenses/by-nc/4.0/\">Creative Commons Attribution-NonCommercial 4.0 International License</a>.\n",
    "\n",
    "+ [1] <a href=\"http://ocw.mit.edu/courses/mathematics/18-06sc-linear-algebra-fall-2011/index.htm\">OCW MIT 18.06</a>\n",
    "+ [2] Fernando Pérez, Brian E. Granger, IPython: A System for Interactive Scientific Computing, Computing in Science and Engineering, vol. 9, no. 3, pp. 21-29, May/June 2007, doi:10.1109/MCSE.2007.53. URL: http://ipython.org"
   ]
  },
  {
   "cell_type": "code",
   "execution_count": 2,
   "metadata": {},
   "outputs": [
    {
     "data": {
      "text/html": [
       "<link href='http://fonts.googleapis.com/css?family=Alegreya+Sans:100,300,400,500,700,800,900,100italic,300italic,400italic,500italic,700italic,800italic,900italic' rel='stylesheet' type='text/css'>\n",
       "<link href='http://fonts.googleapis.com/css?family=Arvo:400,700,400italic' rel='stylesheet' type='text/css'>\n",
       "<link href='http://fonts.googleapis.com/css?family=PT+Mono' rel='stylesheet' type='text/css'>\n",
       "<link href='http://fonts.googleapis.com/css?family=Shadows+Into+Light' rel='stylesheet' type='text/css'>\n",
       "<link href='http://fonts.googleapis.com/css?family=Philosopher:400,700,400italic,700italic' rel='stylesheet' type='text/css'>\n",
       "\n",
       "<style>\n",
       "\n",
       "@font-face {\n",
       "    font-family: \"Computer Modern\";\n",
       "    src: url('http://mirrors.ctan.org/fonts/cm-unicode/fonts/otf/cmunss.otf');\n",
       "}\n",
       "\n",
       "\n",
       "\n",
       "/* Formatting for header cells */\n",
       ".text_cell_render h1 {\n",
       "    font-family: 'Philosopher', sans-serif;\n",
       "    font-weight: 400;\n",
       "    font-size: 2.2em;\n",
       "    line-height: 100%;\n",
       "    color: rgb(0, 80, 120);\n",
       "    margin-bottom: 0.1em;\n",
       "    margin-top: 0.1em;\n",
       "    display: block;\n",
       "}\t\n",
       ".text_cell_render h2 {\n",
       "    font-family: 'Philosopher', serif;\n",
       "    font-weight: 400;\n",
       "    font-size: 1.9em;\n",
       "    line-height: 100%;\n",
       "    color: rgb(245,179,64);\n",
       "    margin-bottom: 0.1em;\n",
       "    margin-top: 0.1em;\n",
       "    display: block;\n",
       "}\t\n",
       "\n",
       ".text_cell_render h3 {\n",
       "    font-family: 'Philosopher', serif;\n",
       "    margin-top:12px;\n",
       "    margin-bottom: 3px;\n",
       "    font-style: italic;\n",
       "    color: rgb(94,127,192);\n",
       "}\n",
       "\n",
       ".text_cell_render h4 {\n",
       "    font-family: 'Philosopher', serif;\n",
       "}\n",
       "\n",
       ".text_cell_render h5 {\n",
       "    font-family: 'Alegreya Sans', sans-serif;\n",
       "    font-weight: 300;\n",
       "    font-size: 16pt;\n",
       "    color: grey;\n",
       "    font-style: italic;\n",
       "    margin-bottom: .1em;\n",
       "    margin-top: 0.1em;\n",
       "    display: block;\n",
       "}\n",
       "\n",
       ".text_cell_render h6 {\n",
       "    font-family: 'PT Mono', sans-serif;\n",
       "    font-weight: 300;\n",
       "    font-size: 10pt;\n",
       "    color: grey;\n",
       "    margin-bottom: 1px;\n",
       "    margin-top: 1px;\n",
       "}\n",
       "\n",
       ".CodeMirror{\n",
       "        font-family: \"PT Mono\";\n",
       "        font-size: 100%;\n",
       "}\n",
       "\n",
       "</style>\n",
       "\n"
      ],
      "text/plain": [
       "<IPython.core.display.HTML object>"
      ]
     },
     "execution_count": 2,
     "metadata": {},
     "output_type": "execute_result"
    }
   ],
   "source": [
    "from IPython.core.display import HTML, Image\n",
    "css_file = 'style.css'\n",
    "HTML(open(css_file, 'r').read())"
   ]
  },
  {
   "cell_type": "markdown",
   "metadata": {},
   "source": [
    "![SegmentLocal](KRG_elegant_logo_for_light_BG.png \"segment\")\n",
    "![SegmentLocal](UCT_logo.gif \"segment\")"
   ]
  },
  {
   "cell_type": "markdown",
   "metadata": {},
   "source": [
    "### Library import"
   ]
  },
  {
   "cell_type": "code",
   "execution_count": 1,
   "metadata": {},
   "outputs": [],
   "source": [
    "from sympy import init_printing, Matrix, symbols, eye, Rational\n",
    "init_printing()"
   ]
  },
  {
   "cell_type": "markdown",
   "metadata": {},
   "source": [
    "# Elimination"
   ]
  },
  {
   "cell_type": "markdown",
   "metadata": {},
   "source": [
    "## A system of linear equations"
   ]
  },
  {
   "cell_type": "markdown",
   "metadata": {},
   "source": [
    "In the previous lesson, we had a brief glimpse at linear systems.  The _linear_ in _linear systems_ refers to the fact that each variable appears on its own (i.e. to the power $1$ and not in the form $x \\times y$ or the like) and it is not transcendental.  If a solution exists, it then satisfies all of the equations at once.  We will consider the linear system in (1)."
   ]
  },
  {
   "cell_type": "markdown",
   "metadata": {},
   "source": [
    "$$ \\begin{align} 1x+2y+1z &= 2 \\\\ 3x + 8y + 1z &= 12 \\\\ 0x + 4y + 1z &= 2 \\end{align} \\tag{1} $$"
   ]
  },
  {
   "cell_type": "markdown",
   "metadata": {},
   "source": [
    "A possible solution for $x,y$, and $z$ is given in (2), where $x=2$, $y=1$, and $z = -2$."
   ]
  },
  {
   "cell_type": "markdown",
   "metadata": {},
   "source": [
    "$$ \\begin{align} 1\\left(2\\right)+2\\left(1\\right)+1\\left(-2\\right) &= 2 \\\\ 3\\left(2\\right)+8\\left(1\\right)+1\\left(-2\\right) &= 12 \\\\ 0\\left(2\\right)+4\\left(1\\right)+1\\left(-2\\right) &= 2 \\end{align} \\tag{2} $$"
   ]
  },
  {
   "cell_type": "markdown",
   "metadata": {},
   "source": [
    "Since (1) is a set (three) equations that have a solution ( or possibly solutions) for their variables in common, all left- and all right hand sides can be manipulated in certain ways."
   ]
  },
  {
   "cell_type": "markdown",
   "metadata": {},
   "source": [
    "We could simply exchange the order of the equations.  In (3) the second and third equations have been exchanged, called _row exchange_."
   ]
  },
  {
   "cell_type": "markdown",
   "metadata": {},
   "source": [
    "$$ \\begin{align}1x+2y+1z &= 2 \\\\ 0x + 4y + 1z &= 2 \\\\ 3x + 8y + 1z &= 12 \\end{align} \\tag{3} $$"
   ]
  },
  {
   "cell_type": "markdown",
   "metadata": {},
   "source": [
    "We could multiply both the left- and right-hand side of one of the equations with a scalar.  In (4) we multiply the first equation by $2$."
   ]
  },
  {
   "cell_type": "markdown",
   "metadata": {},
   "source": [
    "$$ \\begin{align} 2x+4y+2z &= 4 \\\\ 3x + 8y + 1z &= 12 \\\\ 0x + 4y + 1z &= 2 \\end{align} \\tag{4}$$"
   ]
  },
  {
   "cell_type": "markdown",
   "metadata": {},
   "source": [
    "Lastly, we can subtract a constant multiple of one equation from another."
   ]
  },
  {
   "cell_type": "markdown",
   "metadata": {},
   "source": [
    "These three _manipulations_ serve an excellent purpose, as it allows us to eliminate of one (or more) of the variables (that is, give it a coefficient of $0$).  Remember that we are trying to solve for all three equations and have three unknowns.  We can most definitely struggle by doing this problem algebraically by substitution, but linear algebra makes it much easier."
   ]
  },
  {
   "cell_type": "markdown",
   "metadata": {},
   "source": [
    "In (5) we have multiplied the first equation by $3$ (both sides, so that we maintain integrity of the equation) and subtracted the left hand side of this new equation from the left-hand side of the second equation and the new right-hand side of the first equation from the right-hand side of the second equation.  This is quite legitimate, as the left- and right-hand sides are equal (it is an equation after all) and so, when subtracting from the second equation, we are still doing the same thing to the left-hand side as the right-hand side."
   ]
  },
  {
   "cell_type": "markdown",
   "metadata": {},
   "source": [
    "$$ \\begin{align} 1x+2y+1z &= 2 \\\\ 0x + 2y - 2z &= 6 \\\\ 0x + 4y + 1z &= 2 \\end{align} \\tag{5} $$"
   ]
  },
  {
   "cell_type": "markdown",
   "metadata": {},
   "source": [
    "This has introduced a nice $0$ in the second equation.  Let's go further and multiply the second equation by $2$ and subtract that from the third equation as seen in (6) below."
   ]
  },
  {
   "cell_type": "markdown",
   "metadata": {},
   "source": [
    "$$ \\begin{align} 1x+2y+1z &= 2 \\\\ 0x + 2y - 2z &= 6 \\\\ 0x + 0y + 5z &= -10 \\end{align} \\tag{6} $$"
   ]
  },
  {
   "cell_type": "markdown",
   "metadata": {},
   "source": [
    "Now let last equation is easy to solve for $z$."
   ]
  },
  {
   "cell_type": "markdown",
   "metadata": {},
   "source": [
    "$$ z=-2 \\tag{7}$$"
   ]
  },
  {
   "cell_type": "markdown",
   "metadata": {},
   "source": [
    "Knowing this, we can go back up to the second equation and solve for $y$."
   ]
  },
  {
   "cell_type": "markdown",
   "metadata": {},
   "source": [
    "$$ \\begin{align} 2y+2(-2) &= 6 \\\\ y &= 1 \\end{align} \\tag{8} $$"
   ]
  },
  {
   "cell_type": "markdown",
   "metadata": {},
   "source": [
    "Finally, up to the first equation."
   ]
  },
  {
   "cell_type": "markdown",
   "metadata": {},
   "source": [
    "$$ \\begin{align} x+2(1)+1(-2) &= 2 \\\\ x &= 2 \\end{align} \\tag{9} $$"
   ]
  },
  {
   "cell_type": "markdown",
   "metadata": {},
   "source": [
    "W have solve the linear system by substitution.  We need to have gone straight for substitution, though.  Indeed, we could have tried to get zeros above all our leading (non-zero) coefficients.  Let's just clean up the third equation by multiplying throughout by $\\frac{1}{5}$ as in (10) below."
   ]
  },
  {
   "cell_type": "markdown",
   "metadata": {},
   "source": [
    "$$ \\begin{align} 1x+2y+1z &= 2 \\\\ 0x + 2y - 2z &= 6 \\\\ 0x + 0y + 1z &= -2 \\end{align} \\tag{10} $$"
   ]
  },
  {
   "cell_type": "markdown",
   "metadata": {},
   "source": [
    "Now we have to get rid of the $-2z$ in the second equation, which we can do by multiplying the third equation by $-2$ and subtracting from the second equation."
   ]
  },
  {
   "cell_type": "markdown",
   "metadata": {},
   "source": [
    "$$ \\begin{align}  1x+2y+1z &= 2 \\\\ 0x + 2y - 0z &= 2 \\\\ 0x + 0y + 1z &= -2 \\end{align} \\tag{11}$$"
   ]
  },
  {
   "cell_type": "markdown",
   "metadata": {},
   "source": [
    "Multiplying the second equation by $\\frac{1}{2}$ yields (12)."
   ]
  },
  {
   "cell_type": "markdown",
   "metadata": {},
   "source": [
    "$$ \\begin{align}1x+2y+1z &= 2 \\\\ 0x + 1y + 0z &= 1 \\\\ 0x + 0y + 1z &= -2 \\end{align} \\tag{12} $$"
   ]
  },
  {
   "cell_type": "markdown",
   "metadata": {},
   "source": [
    "Now we can do the same to get rid of the $1z$ in the first equation (multiply the third equation by $1$ and subtract it from the first equation."
   ]
  },
  {
   "cell_type": "markdown",
   "metadata": {},
   "source": [
    "$$ \\begin{align} 1x+2y+0z &= 4 \\\\ 0x + 1y + 0z &= 1 \\\\ 0x + 0y + 1z &= -2 \\end{align} \\tag{12}$$"
   ]
  },
  {
   "cell_type": "markdown",
   "metadata": {},
   "source": [
    "Now tow get rid of the $2y$ in the first equation, which is above our leading $1y$ in the second equation.  Simple enough, we multiply he second equation by $2$ and subtract that from the first equation."
   ]
  },
  {
   "cell_type": "markdown",
   "metadata": {},
   "source": [
    "$$ \\begin{align} 1x+0y+0z &= 2 \\\\ 0x + 1y + 0z &= 1 \\\\ 0x + 0y + 1z &= -2 \\end{align} \\tag{13} $$"
   ]
  },
  {
   "cell_type": "markdown",
   "metadata": {},
   "source": [
    "The solution is now clear for $x,y$, and $z$."
   ]
  },
  {
   "cell_type": "markdown",
   "metadata": {},
   "source": [
    "We need not rewrite all of the variables all the time.  We can simply write the coefficients.  The augmented matrix of coefficients is in (14)."
   ]
  },
  {
   "cell_type": "markdown",
   "metadata": {},
   "source": [
    "$$ \\begin{bmatrix} 1&2&1&2\\\\3&8&1&12\\\\0&4&1&2 \\end{bmatrix} \\tag{14} $$"
   ]
  },
  {
   "cell_type": "markdown",
   "metadata": {},
   "source": [
    "A matrix has rows and columns (attached, in position, to our algebraic equation above).  We simply omit the variables.  The left-upper entry is called the pivot.  Our aim is to get everything below it to be a zero (as we did with the algebra).  We do exactly the same as we did above, which is multiply row 1 by 3 and subtract these new values from row 2."
   ]
  },
  {
   "cell_type": "markdown",
   "metadata": {},
   "source": [
    "$$ \\begin{bmatrix} 1&2&1&2\\\\0&2&-2&6\\\\0&4&1&2 \\end{bmatrix} \\tag{15} $$"
   ]
  },
  {
   "cell_type": "markdown",
   "metadata": {},
   "source": [
    "Now $2$ times row 2 subtracted from row 3."
   ]
  },
  {
   "cell_type": "markdown",
   "metadata": {},
   "source": [
    "$$ \\begin{bmatrix} 1&2&1&2\\\\0&2&-2&6\\\\0&0&5&-10 \\end{bmatrix} \\tag{16} $$"
   ]
  },
  {
   "cell_type": "markdown",
   "metadata": {},
   "source": [
    "Multiply the last row with $\\frac{1}{5}$."
   ]
  },
  {
   "cell_type": "markdown",
   "metadata": {},
   "source": [
    "$$ \\begin{bmatrix} 1&2&1&2\\\\0&2&-2&6\\\\0&0&1&-2 \\end{bmatrix} \\tag{17} $$"
   ]
  },
  {
   "cell_type": "markdown",
   "metadata": {},
   "source": [
    "This shows $z = -2$ in the last row of (17).  "
   ]
  },
  {
   "cell_type": "markdown",
   "metadata": {},
   "source": [
    "With this small matrix, it's easy to do back substitution as we did algebraically.  The first non-zero number in each row is the pivot (just like the upper-left entry).  The steps we have taken up to this point is called _Gauss elimination_ and the form we end up with is _row-echelon form_.  We could carry on and do the same sort of thing to get rid of all the non-zero entries above each pivot.  This is called _Gauss-Jordan elimination_ and the result is _reduced row-echelon form_ (see the computer code below)."
   ]
  },
  {
   "cell_type": "markdown",
   "metadata": {},
   "source": [
    "All of these steps are called _elementary row operations_.  The only one we didn't do is _row exchange_.  We reserve this action so as not to have leading (in the pivot position) zeros."
   ]
  },
  {
   "cell_type": "markdown",
   "metadata": {},
   "source": [
    "Let's create some code to show-case elementary row operations."
   ]
  },
  {
   "cell_type": "code",
   "execution_count": 2,
   "metadata": {},
   "outputs": [
    {
     "data": {
      "image/png": "[encoded data removed]",
      "text/latex": [
       "$\\displaystyle \\left[\\begin{matrix}1 & 2 & 1 & 2\\\\3 & 8 & 1 & 12\\\\0 & 4 & 1 & 2\\end{matrix}\\right]$"
      ],
      "text/plain": [
       "⎡1  2  1  2 ⎤\n",
       "⎢           ⎥\n",
       "⎢3  8  1  12⎥\n",
       "⎢           ⎥\n",
       "⎣0  4  1  2 ⎦"
      ]
     },
     "execution_count": 2,
     "metadata": {},
     "output_type": "execute_result"
    }
   ],
   "source": [
    "A_augmented = Matrix([[1, 2, 1, 2], [3, 8, 1, 12], [0, 4, 1, 2]])\n",
    "A_augmented"
   ]
  },
  {
   "cell_type": "markdown",
   "metadata": {},
   "source": [
    "We can ask `sympy` to simply get the augmented matrix in reduced row-echelon form and read off the solutions.  This is done with the `.rref()` method."
   ]
  },
  {
   "cell_type": "code",
   "execution_count": 3,
   "metadata": {},
   "outputs": [
    {
     "data": {
      "image/png": "[encoded data removed]",
      "text/latex": [
       "$\\displaystyle \\left( \\left[\\begin{matrix}1 & 0 & 0 & 2\\\\0 & 1 & 0 & 1\\\\0 & 0 & 1 & -2\\end{matrix}\\right], \\  \\left( 0, \\  1, \\  2\\right)\\right)$"
      ],
      "text/plain": [
       "⎛⎡1  0  0  2 ⎤           ⎞\n",
       "⎜⎢           ⎥           ⎟\n",
       "⎜⎢0  1  0  1 ⎥, (0, 1, 2)⎟\n",
       "⎜⎢           ⎥           ⎟\n",
       "⎝⎣0  0  1  -2⎦           ⎠"
      ]
     },
     "execution_count": 3,
     "metadata": {},
     "output_type": "execute_result"
    }
   ],
   "source": [
    "A_augmented.rref() # The rref() method returns the reduced row-echelon form"
   ]
  },
  {
   "cell_type": "markdown",
   "metadata": {},
   "source": [
    "## Elimination matrices"
   ]
  },
  {
   "cell_type": "markdown",
   "metadata": {},
   "source": [
    "Matrices can only be multiplied by each other if in order we have the first column size equal the second row size.  Rows are usually called $m$ and columns $n$ when considering their dimensions.  So, our augmented matrix above will be $m \\times n = 3 \\times 4$."
   ]
  },
  {
   "cell_type": "markdown",
   "metadata": {},
   "source": [
    "Let's look at how matrices are multiplied by looking at two small matrices in (18)."
   ]
  },
  {
   "cell_type": "markdown",
   "metadata": {},
   "source": [
    "$$ \\begin{bmatrix} {a}_{11}&{a}_{12} \\\\ {a}_{21}&{a}_{22} \\end{bmatrix} \\\\ \\\\ \\begin{bmatrix} {b}_{11}&{b}_{12}\\\\{b}_{21}&{b}_{22} \\end{bmatrix} \\tag{18} $$"
   ]
  },
  {
   "cell_type": "markdown",
   "metadata": {},
   "source": [
    "The subscripts refer to row and column position, i.e. $21$ means row $2$ column $1$>"
   ]
  },
  {
   "cell_type": "markdown",
   "metadata": {},
   "source": [
    "We see that we have a two $ 2 \\times 2 $ matrices.  The *inner* two values are the same ($2$ and $2$), so this multiplication is allowed.  The resultant matrix will have the size equal to the *outer* two values (first row and last columns); here also a $2 \\times 2$ matrix."
   ]
  },
  {
   "cell_type": "markdown",
   "metadata": {},
   "source": []
  },
  {
   "cell_type": "markdown",
   "metadata": {},
   "source": [
    "So let's look at position $11$ (row $1$ and column $1$).  To get this we take the entries in row $1$ of the first matrix and multiply them by the entries in the first column of the second matrix.  We do this element by element and add the multiplication of each set of separate elements to each other.  The python code below shows you exactly how this is done."
   ]
  },
  {
   "cell_type": "code",
   "execution_count": 4,
   "metadata": {},
   "outputs": [],
   "source": [
    "a11, a12, a21, a22, b11, b12, b21, b22 = symbols('a11 a12 a21 a22 b11 b12 b21 b22')"
   ]
  },
  {
   "cell_type": "code",
   "execution_count": 5,
   "metadata": {},
   "outputs": [
    {
     "data": {
      "image/png": "[encoded data removed]",
      "text/latex": [
       "$\\displaystyle \\left( \\left[\\begin{matrix}a_{11} & a_{12}\\\\a_{21} & a_{22}\\end{matrix}\\right], \\  \\left[\\begin{matrix}b_{11} & b_{12}\\\\b_{21} & b_{22}\\end{matrix}\\right]\\right)$"
      ],
      "text/plain": [
       "⎛⎡a₁₁  a₁₂⎤  ⎡b₁₁  b₁₂⎤⎞\n",
       "⎜⎢        ⎥, ⎢        ⎥⎟\n",
       "⎝⎣a₂₁  a₂₂⎦  ⎣b₂₁  b₂₂⎦⎠"
      ]
     },
     "execution_count": 5,
     "metadata": {},
     "output_type": "execute_result"
    }
   ],
   "source": [
    "A = Matrix([[a11, a12], [a21, a22]])\n",
    "B = Matrix([[b11, b12], [b21, b22]])\n",
    "A, B"
   ]
  },
  {
   "cell_type": "code",
   "execution_count": 6,
   "metadata": {},
   "outputs": [
    {
     "data": {
      "image/png": "[encoded data removed]",
      "text/latex": [
       "$\\displaystyle \\left[\\begin{matrix}a_{11} b_{11} + a_{12} b_{21} & a_{11} b_{12} + a_{12} b_{22}\\\\a_{21} b_{11} + a_{22} b_{21} & a_{21} b_{12} + a_{22} b_{22}\\end{matrix}\\right]$"
      ],
      "text/plain": [
       "⎡a₁₁⋅b₁₁ + a₁₂⋅b₂₁  a₁₁⋅b₁₂ + a₁₂⋅b₂₂⎤\n",
       "⎢                                    ⎥\n",
       "⎣a₂₁⋅b₁₁ + a₂₂⋅b₂₁  a₂₁⋅b₁₂ + a₂₂⋅b₂₂⎦"
      ]
     },
     "execution_count": 6,
     "metadata": {},
     "output_type": "execute_result"
    }
   ],
   "source": [
    "A * B"
   ]
  },
  {
   "cell_type": "markdown",
   "metadata": {},
   "source": [
    "Let's constrain ourselves to the matrix of coefficients (this discards the right-hand side from the augmented matrix above)."
   ]
  },
  {
   "cell_type": "code",
   "execution_count": 7,
   "metadata": {},
   "outputs": [
    {
     "data": {
      "image/png": "[encoded data removed]",
      "text/latex": [
       "$\\displaystyle \\left[\\begin{matrix}1 & 2 & 1\\\\3 & 8 & 1\\\\0 & 4 & 1\\end{matrix}\\right]$"
      ],
      "text/plain": [
       "⎡1  2  1⎤\n",
       "⎢       ⎥\n",
       "⎢3  8  1⎥\n",
       "⎢       ⎥\n",
       "⎣0  4  1⎦"
      ]
     },
     "execution_count": 7,
     "metadata": {},
     "output_type": "execute_result"
    }
   ],
   "source": [
    "A = Matrix([[1, 2, 1], [3, 8, 1], [0, 4, 1]]) # I use the same computer variable above, which\n",
    "# will change its value in the computer memory\n",
    "A # A 3 by 3 matrix, which we call square"
   ]
  },
  {
   "cell_type": "markdown",
   "metadata": {},
   "source": [
    "The _identity matrix_ is akin to the number $1$, i.e. multiplying by it leaves everything unchanged.  It has ones along what is called the main diagonal and zeros everywhere else."
   ]
  },
  {
   "cell_type": "code",
   "execution_count": 8,
   "metadata": {},
   "outputs": [
    {
     "data": {
      "image/png": "[encoded data removed]",
      "text/latex": [
       "$\\displaystyle \\left[\\begin{matrix}1 & 0 & 0\\\\0 & 1 & 0\\\\0 & 0 & 1\\end{matrix}\\right]$"
      ],
      "text/plain": [
       "⎡1  0  0⎤\n",
       "⎢       ⎥\n",
       "⎢0  1  0⎥\n",
       "⎢       ⎥\n",
       "⎣0  0  1⎦"
      ]
     },
     "execution_count": 8,
     "metadata": {},
     "output_type": "execute_result"
    }
   ],
   "source": [
    "I = eye(3) # Identity matrices are always square and the argument\n",
    "# here is 3, so it is a 3 by 3 matrix\n",
    "I # Note what the main diagonal is"
   ]
  },
  {
   "cell_type": "markdown",
   "metadata": {},
   "source": [
    "Let's multiply $I$ by $A$."
   ]
  },
  {
   "cell_type": "code",
   "execution_count": 9,
   "metadata": {},
   "outputs": [
    {
     "data": {
      "image/png": "[encoded data removed]",
      "text/latex": [
       "$\\displaystyle \\left[\\begin{matrix}1 & 2 & 1\\\\3 & 8 & 1\\\\0 & 4 & 1\\end{matrix}\\right]$"
      ],
      "text/plain": [
       "⎡1  2  1⎤\n",
       "⎢       ⎥\n",
       "⎢3  8  1⎥\n",
       "⎢       ⎥\n",
       "⎣0  4  1⎦"
      ]
     },
     "execution_count": 9,
     "metadata": {},
     "output_type": "execute_result"
    }
   ],
   "source": [
    "I * A # Nothing will change"
   ]
  },
  {
   "cell_type": "markdown",
   "metadata": {},
   "source": [
    "To get rid of the leading $3$ in the second row(because we want a $0$ under the first pivot in the first row), we multiply the first row by $3$ and subtracted that from the second row.  Interestingly enough, we can do the same to the identity matrix."
   ]
  },
  {
   "cell_type": "code",
   "execution_count": 10,
   "metadata": {},
   "outputs": [
    {
     "data": {
      "image/png": "[encoded data removed]",
      "text/latex": [
       "$\\displaystyle \\left[\\begin{matrix}1 & 0 & 0\\\\-3 & 1 & 0\\\\0 & 0 & 1\\end{matrix}\\right]$"
      ],
      "text/plain": [
       "⎡1   0  0⎤\n",
       "⎢        ⎥\n",
       "⎢-3  1  0⎥\n",
       "⎢        ⎥\n",
       "⎣0   0  1⎦"
      ]
     },
     "execution_count": 10,
     "metadata": {},
     "output_type": "execute_result"
    }
   ],
   "source": [
    "E21 = Matrix([[1, 0, 0], [-3, 1, 0], [0, 0, 1]])\n",
    "E21 # 21 because we are working on row 2, column 1"
   ]
  },
  {
   "cell_type": "markdown",
   "metadata": {},
   "source": [
    "That gives us the required 3 times the first row and the negative shows that we subtract (add the negative).  It's a thing of beauty!"
   ]
  },
  {
   "cell_type": "code",
   "execution_count": 11,
   "metadata": {},
   "outputs": [
    {
     "data": {
      "image/png": "[encoded data removed]",
      "text/latex": [
       "$\\displaystyle \\left[\\begin{matrix}1 & 2 & 1\\\\0 & 2 & -2\\\\0 & 4 & 1\\end{matrix}\\right]$"
      ],
      "text/plain": [
       "⎡1  2  1 ⎤\n",
       "⎢        ⎥\n",
       "⎢0  2  -2⎥\n",
       "⎢        ⎥\n",
       "⎣0  4  1 ⎦"
      ]
     },
     "execution_count": 11,
     "metadata": {},
     "output_type": "execute_result"
    }
   ],
   "source": [
    "E21 * A"
   ]
  },
  {
   "cell_type": "markdown",
   "metadata": {},
   "source": [
    "Just what we wanted.  $E1$ is called the first elimination matrix."
   ]
  },
  {
   "cell_type": "markdown",
   "metadata": {},
   "source": [
    "Let's do something to the identity matrix to get rid of the $4$ in the third row (the second column).  It would require $2$ times the second row subtracted from the third row.  Look carefully at the positions."
   ]
  },
  {
   "cell_type": "code",
   "execution_count": 12,
   "metadata": {},
   "outputs": [
    {
     "data": {
      "image/png": "[encoded data removed]",
      "text/latex": [
       "$\\displaystyle \\left[\\begin{matrix}1 & 0 & 0\\\\0 & 1 & 0\\\\0 & -2 & 1\\end{matrix}\\right]$"
      ],
      "text/plain": [
       "⎡1  0   0⎤\n",
       "⎢        ⎥\n",
       "⎢0  1   0⎥\n",
       "⎢        ⎥\n",
       "⎣0  -2  1⎦"
      ]
     },
     "execution_count": 12,
     "metadata": {},
     "output_type": "execute_result"
    }
   ],
   "source": [
    "E32 = Matrix([[1, 0, 0], [0, 1, 0], [0, -2, 1]])\n",
    "E32"
   ]
  },
  {
   "cell_type": "code",
   "execution_count": 13,
   "metadata": {},
   "outputs": [
    {
     "data": {
      "image/png": "[encoded data removed]",
      "text/latex": [
       "$\\displaystyle \\left[\\begin{matrix}1 & 2 & 1\\\\0 & 2 & -2\\\\0 & 0 & 5\\end{matrix}\\right]$"
      ],
      "text/plain": [
       "⎡1  2  1 ⎤\n",
       "⎢        ⎥\n",
       "⎢0  2  -2⎥\n",
       "⎢        ⎥\n",
       "⎣0  0  5 ⎦"
      ]
     },
     "execution_count": 13,
     "metadata": {},
     "output_type": "execute_result"
    }
   ],
   "source": [
    "E32 * (E21 * A)"
   ]
  },
  {
   "cell_type": "markdown",
   "metadata": {},
   "source": [
    "Spot on!  We now have nice pivots (leading non-zeros), with nothing under them (along the columns).  As a tip, try not to get fractions involved.  As far as the other two row operations are concerned, we can either exchange rows in the identity matrix or multiply the required row by a scalar constant."
   ]
  },
  {
   "cell_type": "markdown",
   "metadata": {},
   "source": [
    "Look at what happens when we multiply $E2$ and $E1$."
   ]
  },
  {
   "cell_type": "code",
   "execution_count": 14,
   "metadata": {},
   "outputs": [
    {
     "data": {
      "image/png": "[encoded data removed]",
      "text/latex": [
       "$\\displaystyle \\left[\\begin{matrix}1 & 0 & 0\\\\-3 & 1 & 0\\\\6 & -2 & 1\\end{matrix}\\right]$"
      ],
      "text/plain": [
       "⎡1   0   0⎤\n",
       "⎢         ⎥\n",
       "⎢-3  1   0⎥\n",
       "⎢         ⎥\n",
       "⎣6   -2  1⎦"
      ]
     },
     "execution_count": 14,
     "metadata": {},
     "output_type": "execute_result"
    }
   ],
   "source": [
    "L_inv = E32 * E21\n",
    "L_inv"
   ]
  },
  {
   "cell_type": "markdown",
   "metadata": {},
   "source": [
    "Later we'll call this matrix the inverse of $L$.  It is in triangular form, in this case lower triangular (note all the zeros above the main diagonal)."
   ]
  },
  {
   "cell_type": "code",
   "execution_count": 15,
   "metadata": {},
   "outputs": [
    {
     "data": {
      "image/png": "[encoded data removed]",
      "text/latex": [
       "$\\displaystyle \\left[\\begin{matrix}1 & 2 & 1\\\\0 & 2 & -2\\\\0 & 0 & 5\\end{matrix}\\right]$"
      ],
      "text/plain": [
       "⎡1  2  1 ⎤\n",
       "⎢        ⎥\n",
       "⎢0  2  -2⎥\n",
       "⎢        ⎥\n",
       "⎣0  0  5 ⎦"
      ]
     },
     "execution_count": 15,
     "metadata": {},
     "output_type": "execute_result"
    }
   ],
   "source": [
    "L_inv * A # Later we'll call this result the matrix U"
   ]
  },
  {
   "cell_type": "markdown",
   "metadata": {},
   "source": [
    "We now have the following, shown in (19)."
   ]
  },
  {
   "cell_type": "markdown",
   "metadata": {},
   "source": [
    "$$ {L}^{-1}{A}={U} \\tag{19} $$"
   ]
  },
  {
   "cell_type": "markdown",
   "metadata": {},
   "source": [
    "Left-multiplying by $L$ leaves (20)."
   ]
  },
  {
   "cell_type": "markdown",
   "metadata": {},
   "source": [
    "$$ {L}{L}^{-1}{A}={L}{U} \\tag{20} $$"
   ]
  },
  {
   "cell_type": "markdown",
   "metadata": {},
   "source": [
    "The inverse of a square matrix multiplied by itself gives the identity matrix."
   ]
  },
  {
   "cell_type": "markdown",
   "metadata": {},
   "source": [
    "$$ {I}{A}={L}{U} \\\\ {A}={L}{U} \\tag{20} $$"
   ]
  },
  {
   "cell_type": "markdown",
   "metadata": {},
   "source": [
    "We can construct $L$ from $E32$ and $E21$ above."
   ]
  },
  {
   "cell_type": "markdown",
   "metadata": {},
   "source": [
    "$$ {E}_{21}^{-1}{E}_{32}^{-1}{E}_{32}{E}_{21}={E}_{21}^{-1}{E}_{32}^{-1}{U} \\\\ \\therefore {E}_{21}^{-1}{E}_{32}^{-1}={L} \\tag{21} $$"
   ]
  },
  {
   "cell_type": "code",
   "execution_count": 16,
   "metadata": {},
   "outputs": [
    {
     "data": {
      "image/png": "[encoded data removed]",
      "text/latex": [
       "$\\displaystyle \\left[\\begin{matrix}1 & 0 & 0\\\\3 & 1 & 0\\\\0 & 0 & 1\\end{matrix}\\right]$"
      ],
      "text/plain": [
       "⎡1  0  0⎤\n",
       "⎢       ⎥\n",
       "⎢3  1  0⎥\n",
       "⎢       ⎥\n",
       "⎣0  0  1⎦"
      ]
     },
     "execution_count": 16,
     "metadata": {},
     "output_type": "execute_result"
    }
   ],
   "source": [
    "E21.inv() # The inverse is easy to understand in words\n",
    "# We just want to add 3 instead of subtracting 3"
   ]
  },
  {
   "cell_type": "code",
   "execution_count": 17,
   "metadata": {},
   "outputs": [
    {
     "data": {
      "image/png": "[encoded data removed]",
      "text/latex": [
       "$\\displaystyle \\left[\\begin{matrix}1 & 0 & 0\\\\0 & 1 & 0\\\\0 & 2 & 1\\end{matrix}\\right]$"
      ],
      "text/plain": [
       "⎡1  0  0⎤\n",
       "⎢       ⎥\n",
       "⎢0  1  0⎥\n",
       "⎢       ⎥\n",
       "⎣0  2  1⎦"
      ]
     },
     "execution_count": 17,
     "metadata": {},
     "output_type": "execute_result"
    }
   ],
   "source": [
    "E32.inv()"
   ]
  },
  {
   "cell_type": "code",
   "execution_count": 18,
   "metadata": {},
   "outputs": [
    {
     "data": {
      "image/png": "[encoded data removed]",
      "text/latex": [
       "$\\displaystyle \\left[\\begin{matrix}1 & 0 & 0\\\\3 & 1 & 0\\\\0 & 2 & 1\\end{matrix}\\right]$"
      ],
      "text/plain": [
       "⎡1  0  0⎤\n",
       "⎢       ⎥\n",
       "⎢3  1  0⎥\n",
       "⎢       ⎥\n",
       "⎣0  2  1⎦"
      ]
     },
     "execution_count": 18,
     "metadata": {},
     "output_type": "execute_result"
    }
   ],
   "source": [
    "E21.inv() * E32.inv()"
   ]
  },
  {
   "cell_type": "markdown",
   "metadata": {},
   "source": [
    "This is exactly the inverse of our inverse of $L$ above."
   ]
  },
  {
   "cell_type": "code",
   "execution_count": 19,
   "metadata": {},
   "outputs": [
    {
     "data": {
      "image/png": "[encoded data removed]",
      "text/latex": [
       "$\\displaystyle \\left[\\begin{matrix}1 & 0 & 0\\\\3 & 1 & 0\\\\0 & 2 & 1\\end{matrix}\\right]$"
      ],
      "text/plain": [
       "⎡1  0  0⎤\n",
       "⎢       ⎥\n",
       "⎢3  1  0⎥\n",
       "⎢       ⎥\n",
       "⎣0  2  1⎦"
      ]
     },
     "execution_count": 19,
     "metadata": {},
     "output_type": "execute_result"
    }
   ],
   "source": [
    "L_inv.inv()"
   ]
  },
  {
   "cell_type": "markdown",
   "metadata": {},
   "source": [
    "This is called _LU-decomposition_ of $A$.  More about this in two chapters from now (I_05_LU_decomposition)."
   ]
  },
  {
   "cell_type": "markdown",
   "metadata": {},
   "source": [
    "As an aside we can also do elementary column operation, but then we have to multiply on the right of $A$ and not on the left as above."
   ]
  },
  {
   "cell_type": "markdown",
   "metadata": {
    "collapsed": true
   },
   "source": [
    "## Example problems"
   ]
  },
  {
   "cell_type": "markdown",
   "metadata": {},
   "source": [
    "### Example problem 1"
   ]
  },
  {
   "cell_type": "markdown",
   "metadata": {},
   "source": [
    "Solve the linear system in (22)."
   ]
  },
  {
   "cell_type": "markdown",
   "metadata": {},
   "source": [
    "$$ \\begin{align} x-y-z+u &= 0 \\\\ 2x+2z &= 8 \\\\ -y-2z &= -8 \\\\ 3x-3y-2z+4u &= 7 \\end{align} \\tag{22} $$"
   ]
  },
  {
   "cell_type": "markdown",
   "metadata": {},
   "source": [
    "#### Solution"
   ]
  },
  {
   "cell_type": "code",
   "execution_count": 20,
   "metadata": {},
   "outputs": [
    {
     "data": {
      "image/png": "[encoded data removed]",
      "text/latex": [
       "$\\displaystyle \\left[\\begin{matrix}1 & -1 & -1 & 1 & 0\\\\2 & 0 & 2 & 0 & 8\\\\0 & -1 & -2 & 0 & -8\\\\3 & -3 & -2 & 4 & 7\\end{matrix}\\right]$"
      ],
      "text/plain": [
       "⎡1  -1  -1  1  0 ⎤\n",
       "⎢                ⎥\n",
       "⎢2  0   2   0  8 ⎥\n",
       "⎢                ⎥\n",
       "⎢0  -1  -2  0  -8⎥\n",
       "⎢                ⎥\n",
       "⎣3  -3  -2  4  7 ⎦"
      ]
     },
     "execution_count": 20,
     "metadata": {},
     "output_type": "execute_result"
    }
   ],
   "source": [
    "A_augm = Matrix([[1, -1, -1, 1, 0], [2, 0, 2, 0, 8], [0, -1, -2, 0, -8], [3, -3, -2, 4, 7]])\n",
    "A_augm"
   ]
  },
  {
   "cell_type": "code",
   "execution_count": 21,
   "metadata": {},
   "outputs": [
    {
     "data": {
      "image/png": "[encoded data removed]",
      "text/latex": [
       "$\\displaystyle \\left( \\left[\\begin{matrix}1 & 0 & 0 & 0 & 1\\\\0 & 1 & 0 & 0 & 2\\\\0 & 0 & 1 & 0 & 3\\\\0 & 0 & 0 & 1 & 4\\end{matrix}\\right], \\  \\left( 0, \\  1, \\  2, \\  3\\right)\\right)$"
      ],
      "text/plain": [
       "⎛⎡1  0  0  0  1⎤              ⎞\n",
       "⎜⎢             ⎥              ⎟\n",
       "⎜⎢0  1  0  0  2⎥              ⎟\n",
       "⎜⎢             ⎥, (0, 1, 2, 3)⎟\n",
       "⎜⎢0  0  1  0  3⎥              ⎟\n",
       "⎜⎢             ⎥              ⎟\n",
       "⎝⎣0  0  0  1  4⎦              ⎠"
      ]
     },
     "execution_count": 21,
     "metadata": {},
     "output_type": "execute_result"
    }
   ],
   "source": [
    "A_augm.rref()"
   ]
  },
  {
   "cell_type": "markdown",
   "metadata": {
    "collapsed": true
   },
   "source": [
    "Whoa! That was easy!  Let's take it a notch down and create some elementary matrices.  First off, we want the matrix of coefficients."
   ]
  },
  {
   "cell_type": "code",
   "execution_count": 25,
   "metadata": {},
   "outputs": [
    {
     "data": {
      "image/png": "[encoded data removed]",
      "text/latex": [
       "$\\displaystyle \\left[\\begin{matrix}1 & -1 & -1 & 1\\\\2 & 0 & 2 & 0\\\\0 & -1 & -2 & 0\\\\3 & -3 & -2 & 4\\end{matrix}\\right]$"
      ],
      "text/plain": [
       "⎡1  -1  -1  1⎤\n",
       "⎢            ⎥\n",
       "⎢2  0   2   0⎥\n",
       "⎢            ⎥\n",
       "⎢0  -1  -2  0⎥\n",
       "⎢            ⎥\n",
       "⎣3  -3  -2  4⎦"
      ]
     },
     "execution_count": 25,
     "metadata": {},
     "output_type": "execute_result"
    }
   ],
   "source": [
    "A = Matrix([[1, -1, -1, 1], [2, 0, 2, 0], [0, -1, -2, 0], [3, -3, -2, 4]])\n",
    "A"
   ]
  },
  {
   "cell_type": "markdown",
   "metadata": {},
   "source": [
    "Now we need to get rid of the $2$ in position row `2`, column `1`.  We start by numbering the elementary matrix by this position and modifying the identity matrix."
   ]
  },
  {
   "cell_type": "code",
   "execution_count": 26,
   "metadata": {},
   "outputs": [
    {
     "data": {
      "image/png": "[encoded data removed]",
      "text/latex": [
       "$\\displaystyle \\left[\\begin{matrix}1 & -1 & -1 & 1\\\\0 & 2 & 4 & -2\\\\0 & -1 & -2 & 0\\\\3 & -3 & -2 & 4\\end{matrix}\\right]$"
      ],
      "text/plain": [
       "⎡1  -1  -1  1 ⎤\n",
       "⎢             ⎥\n",
       "⎢0  2   4   -2⎥\n",
       "⎢             ⎥\n",
       "⎢0  -1  -2  0 ⎥\n",
       "⎢             ⎥\n",
       "⎣3  -3  -2  4 ⎦"
      ]
     },
     "execution_count": 26,
     "metadata": {},
     "output_type": "execute_result"
    }
   ],
   "source": [
    "E21 = Matrix([[1, 0, 0, 0], [-2, 1, 0, 0], [0, 0, 1, 0], [0, 0, 0, 1]])\n",
    "E21 * A"
   ]
  },
  {
   "cell_type": "markdown",
   "metadata": {},
   "source": [
    "Now for position row `3`, column `2`.  We have to use row `2` to do this.  If we used row `1`, we would introduce a non-zero into position row `3`, column `1`."
   ]
  },
  {
   "cell_type": "code",
   "execution_count": 27,
   "metadata": {},
   "outputs": [
    {
     "data": {
      "image/png": "[encoded data removed]",
      "text/latex": [
       "$\\displaystyle \\left[\\begin{matrix}1 & -1 & -1 & 1\\\\0 & 2 & 4 & -2\\\\0 & 0 & 0 & -1\\\\3 & -3 & -2 & 4\\end{matrix}\\right]$"
      ],
      "text/plain": [
       "⎡1  -1  -1  1 ⎤\n",
       "⎢             ⎥\n",
       "⎢0  2   4   -2⎥\n",
       "⎢             ⎥\n",
       "⎢0  0   0   -1⎥\n",
       "⎢             ⎥\n",
       "⎣3  -3  -2  4 ⎦"
      ]
     },
     "execution_count": 27,
     "metadata": {},
     "output_type": "execute_result"
    }
   ],
   "source": [
    "E32 = Matrix([[1, 0, 0, 0], [0, 1, 0, 0], [0, Rational(1, 2), 1, 0], [0, 0, 0, 1]])\n",
    "E32 * (E21 * A)"
   ]
  },
  {
   "cell_type": "markdown",
   "metadata": {},
   "source": [
    "Now for the $3$ in position row `4`, column `1`."
   ]
  },
  {
   "cell_type": "code",
   "execution_count": 28,
   "metadata": {},
   "outputs": [
    {
     "data": {
      "image/png": "[encoded data removed]",
      "text/latex": [
       "$\\displaystyle \\left[\\begin{matrix}1 & -1 & -1 & 1\\\\0 & 2 & 4 & -2\\\\0 & 0 & 0 & -1\\\\0 & 0 & 1 & 1\\end{matrix}\\right]$"
      ],
      "text/plain": [
       "⎡1  -1  -1  1 ⎤\n",
       "⎢             ⎥\n",
       "⎢0  2   4   -2⎥\n",
       "⎢             ⎥\n",
       "⎢0  0   0   -1⎥\n",
       "⎢             ⎥\n",
       "⎣0  0   1   1 ⎦"
      ]
     },
     "execution_count": 28,
     "metadata": {},
     "output_type": "execute_result"
    }
   ],
   "source": [
    "E41 = Matrix([[1, 0, 0, 0], [0, 1, 0, 0], [0, 0, 1, 0], [-3, 0, 0, 1]])\n",
    "E41 * (E32 * E21 * A)"
   ]
  },
  {
   "cell_type": "markdown",
   "metadata": {},
   "source": [
    "Let's exchange rows `3` and `4`."
   ]
  },
  {
   "cell_type": "code",
   "execution_count": 29,
   "metadata": {},
   "outputs": [
    {
     "data": {
      "image/png": "[encoded data removed]",
      "text/latex": [
       "$\\displaystyle \\left[\\begin{matrix}1 & -1 & -1 & 1\\\\0 & 2 & 4 & -2\\\\0 & 0 & 1 & 1\\\\0 & 0 & 0 & -1\\end{matrix}\\right]$"
      ],
      "text/plain": [
       "⎡1  -1  -1  1 ⎤\n",
       "⎢             ⎥\n",
       "⎢0  2   4   -2⎥\n",
       "⎢             ⎥\n",
       "⎢0  0   1   1 ⎥\n",
       "⎢             ⎥\n",
       "⎣0  0   0   -1⎦"
      ]
     },
     "execution_count": 29,
     "metadata": {},
     "output_type": "execute_result"
    }
   ],
   "source": [
    "Ee34 = Matrix([[1, 0, 0, 0], [0, 1, 0, 0], [0, 0, 0, 1], [0, 0, 1, 0]])\n",
    "Ee34 * E41 * E32 * E21 * A"
   ]
  },
  {
   "cell_type": "markdown",
   "metadata": {},
   "source": [
    "Let's see where that leaves $\\mathbf{b}$.  After all, what we do to the left, we must do to the right."
   ]
  },
  {
   "cell_type": "markdown",
   "metadata": {},
   "source": [
    "$$ {Ee}_{34}\\times{E}_{41}\\times{E}_{32}\\times{E}_{21}{A}{x}={Ee}_{34}\\times{E}_{41}\\times{E}_{32}\\times{E}_{21}{b} \\tag{23}$$"
   ]
  },
  {
   "cell_type": "code",
   "execution_count": 30,
   "metadata": {},
   "outputs": [
    {
     "data": {
      "image/png": "[encoded data removed]",
      "text/latex": [
       "$\\displaystyle \\left[\\begin{matrix}0\\\\8\\\\-8\\\\7\\end{matrix}\\right]$"
      ],
      "text/plain": [
       "⎡0 ⎤\n",
       "⎢  ⎥\n",
       "⎢8 ⎥\n",
       "⎢  ⎥\n",
       "⎢-8⎥\n",
       "⎢  ⎥\n",
       "⎣7 ⎦"
      ]
     },
     "execution_count": 30,
     "metadata": {},
     "output_type": "execute_result"
    }
   ],
   "source": [
    "b_vect = Matrix([[0], [8], [-8], [7]])\n",
    "b_vect"
   ]
  },
  {
   "cell_type": "code",
   "execution_count": 31,
   "metadata": {},
   "outputs": [
    {
     "data": {
      "image/png": "[encoded data removed]",
      "text/latex": [
       "$\\displaystyle \\left[\\begin{matrix}0\\\\8\\\\7\\\\-4\\end{matrix}\\right]$"
      ],
      "text/plain": [
       "⎡0 ⎤\n",
       "⎢  ⎥\n",
       "⎢8 ⎥\n",
       "⎢  ⎥\n",
       "⎢7 ⎥\n",
       "⎢  ⎥\n",
       "⎣-4⎦"
      ]
     },
     "execution_count": 31,
     "metadata": {},
     "output_type": "execute_result"
    }
   ],
   "source": [
    "Ee34 * E41 * E32 * E21 * b_vect"
   ]
  },
  {
   "cell_type": "markdown",
   "metadata": {},
   "source": [
    "Let's print them next to each other on the screen."
   ]
  },
  {
   "cell_type": "code",
   "execution_count": 32,
   "metadata": {},
   "outputs": [
    {
     "data": {
      "image/png": "[encoded data removed]",
      "text/latex": [
       "$\\displaystyle \\left( \\left[\\begin{matrix}1 & -1 & -1 & 1\\\\0 & 2 & 4 & -2\\\\0 & 0 & 1 & 1\\\\0 & 0 & 0 & -1\\end{matrix}\\right], \\  \\left[\\begin{matrix}0\\\\8\\\\7\\\\-4\\end{matrix}\\right]\\right)$"
      ],
      "text/plain": [
       "⎛⎡1  -1  -1  1 ⎤  ⎡0 ⎤⎞\n",
       "⎜⎢             ⎥  ⎢  ⎥⎟\n",
       "⎜⎢0  2   4   -2⎥  ⎢8 ⎥⎟\n",
       "⎜⎢             ⎥, ⎢  ⎥⎟\n",
       "⎜⎢0  0   1   1 ⎥  ⎢7 ⎥⎟\n",
       "⎜⎢             ⎥  ⎢  ⎥⎟\n",
       "⎝⎣0  0   0   -1⎦  ⎣-4⎦⎠"
      ]
     },
     "execution_count": 32,
     "metadata": {},
     "output_type": "execute_result"
    }
   ],
   "source": [
    "Ee34 * E41 * E32 * E21 * A, Ee34 * E41 * E32 * E21 * b_vect"
   ]
  },
  {
   "cell_type": "markdown",
   "metadata": {},
   "source": [
    "So we can simply do back substitution.  We note that $-1u = -4$ and thus $u = 4$.  From here, we work our way back up."
   ]
  },
  {
   "cell_type": "markdown",
   "metadata": {
    "collapsed": true
   },
   "source": [
    "$$ \\begin{align} -1(u) = -4 \\quad &\\therefore \\quad u=4 \\\\ 1(z)+1(4) = 7 \\quad &\\therefore \\quad z=3 \\\\  2(y) + 4(3) - 2(4) = 8 \\quad &\\therefore \\quad y=2 \\\\ 1(x)-1(2)-1(3)+1(4)=0 \\quad &\\therefore \\quad x=1 \\end{align} \\tag{24}$$"
   ]
  },
  {
   "cell_type": "code",
   "execution_count": null,
   "metadata": {},
   "outputs": [],
   "source": []
  }
 ],
 "metadata": {
  "kernelspec": {
   "display_name": "Python 3",
   "language": "python",
   "name": "python3"
  },
  "language_info": {
   "codemirror_mode": {
    "name": "ipython",
    "version": 3
   },
   "file_extension": ".py",
   "mimetype": "text/x-python",
   "name": "python",
   "nbconvert_exporter": "python",
   "pygments_lexer": "ipython3",
   "version": "3.7.0"
  }
 },
 "nbformat": 4,
 "nbformat_minor": 1
}
