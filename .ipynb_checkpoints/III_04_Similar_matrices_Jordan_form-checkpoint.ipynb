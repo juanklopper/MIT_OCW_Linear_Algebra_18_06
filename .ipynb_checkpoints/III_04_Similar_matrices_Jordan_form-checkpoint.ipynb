{
 "cells": [
  {
   "cell_type": "markdown",
   "metadata": {},
   "source": [
    "+ This notebook is part of lecture 28 *Similar matrices and Jordan form* in the OCW MIT course 18.06 by Prof Gilbert Strang [1]\n",
    "+ Created by me, Dr Juan H Klopper\n",
    "    + Head of Acute Care Surgery\n",
    "    + Groote Schuur Hospital\n",
    "    + University Cape Town\n",
    "    + <a href=\"mailto:juan.klopper@uct.ac.za\">Email me with your thoughts, comments, suggestions and corrections</a> \n",
    "<a rel=\"license\" href=\"http://creativecommons.org/licenses/by-nc/4.0/\"><img alt=\"Creative Commons Licence\" style=\"border-width:0\" src=\"https://i.creativecommons.org/l/by-nc/4.0/88x31.png\" /></a><br /><span xmlns:dct=\"http://purl.org/dc/terms/\" href=\"http://purl.org/dc/dcmitype/InteractiveResource\" property=\"dct:title\" rel=\"dct:type\">Linear Algebra OCW MIT18.06</span> <span xmlns:cc=\"http://creativecommons.org/ns#\" property=\"cc:attributionName\">IPython notebook [2] study notes by Dr Juan H Klopper</span> is licensed under a <a rel=\"license\" href=\"http://creativecommons.org/licenses/by-nc/4.0/\">Creative Commons Attribution-NonCommercial 4.0 International License</a>.\n",
    "\n",
    "+ [1] <a href=\"http://ocw.mit.edu/courses/mathematics/18-06sc-linear-algebra-fall-2011/index.htm\">OCW MIT 18.06</a>\n",
    "+ [2] Fernando Pérez, Brian E. Granger, IPython: A System for Interactive Scientific Computing, Computing in Science and Engineering, vol. 9, no. 3, pp. 21-29, May/June 2007, doi:10.1109/MCSE.2007.53. URL: http://ipython.org"
   ]
  },
  {
   "cell_type": "code",
   "execution_count": 1,
   "metadata": {
    "collapsed": false
   },
   "outputs": [
    {
     "data": {
      "text/html": [
       "<link href='http://fonts.googleapis.com/css?family=Alegreya+Sans:100,300,400,500,700,800,900,100italic,300italic,400italic,500italic,700italic,800italic,900italic' rel='stylesheet' type='text/css'>\n",
       "<link href='http://fonts.googleapis.com/css?family=Arvo:400,700,400italic' rel='stylesheet' type='text/css'>\n",
       "<link href='http://fonts.googleapis.com/css?family=PT+Mono' rel='stylesheet' type='text/css'>\n",
       "<link href='http://fonts.googleapis.com/css?family=Shadows+Into+Light' rel='stylesheet' type='text/css'>\n",
       "<link href='http://fonts.googleapis.com/css?family=Philosopher:400,700,400italic,700italic' rel='stylesheet' type='text/css'>\n",
       "\n",
       "<style>\n",
       "\n",
       "@font-face {\n",
       "    font-family: \"Computer Modern\";\n",
       "    src: url('http://mirrors.ctan.org/fonts/cm-unicode/fonts/otf/cmunss.otf');\n",
       "}\n",
       "\n",
       "#notebook_panel { /* main background */\n",
       "    background: #ddd;\n",
       "    color: #000000;\n",
       "}\n",
       "\n",
       "\n",
       "\n",
       "/* Formatting for header cells */\n",
       ".text_cell_render h1 {\n",
       "    font-family: 'Philosopher', sans-serif;\n",
       "    font-weight: 400;\n",
       "    font-size: 2.2em;\n",
       "    line-height: 100%;\n",
       "    color: rgb(0, 80, 120);\n",
       "    margin-bottom: 0.1em;\n",
       "    margin-top: 0.1em;\n",
       "    display: block;\n",
       "}\t\n",
       ".text_cell_render h2 {\n",
       "    font-family: 'Philosopher', serif;\n",
       "    font-weight: 400;\n",
       "    font-size: 1.9em;\n",
       "    line-height: 100%;\n",
       "    color: rgb(200,100,0);\n",
       "    margin-bottom: 0.1em;\n",
       "    margin-top: 0.1em;\n",
       "    display: block;\n",
       "}\t\n",
       "\n",
       ".text_cell_render h3 {\n",
       "    font-family: 'Philosopher', serif;\n",
       "    margin-top:12px;\n",
       "    margin-bottom: 3px;\n",
       "    font-style: italic;\n",
       "    color: rgb(94,127,192);\n",
       "}\n",
       "\n",
       ".text_cell_render h4 {\n",
       "    font-family: 'Philosopher', serif;\n",
       "}\n",
       "\n",
       ".text_cell_render h5 {\n",
       "    font-family: 'Alegreya Sans', sans-serif;\n",
       "    font-weight: 300;\n",
       "    font-size: 16pt;\n",
       "    color: grey;\n",
       "    font-style: italic;\n",
       "    margin-bottom: .1em;\n",
       "    margin-top: 0.1em;\n",
       "    display: block;\n",
       "}\n",
       "\n",
       ".text_cell_render h6 {\n",
       "    font-family: 'PT Mono', sans-serif;\n",
       "    font-weight: 300;\n",
       "    font-size: 10pt;\n",
       "    color: grey;\n",
       "    margin-bottom: 1px;\n",
       "    margin-top: 1px;\n",
       "}\n",
       "\n",
       ".CodeMirror{\n",
       "        font-family: \"PT Mono\";\n",
       "        font-size: 100%;\n",
       "}\n",
       "\n",
       "</style>\n",
       "\n"
      ],
      "text/plain": [
       "<IPython.core.display.HTML object>"
      ]
     },
     "execution_count": 1,
     "metadata": {},
     "output_type": "execute_result"
    }
   ],
   "source": [
    "from IPython.core.display import HTML, Image\n",
    "css_file = 'style.css'\n",
    "HTML(open(css_file, 'r').read())"
   ]
  },
  {
   "cell_type": "code",
   "execution_count": 2,
   "metadata": {
    "collapsed": false
   },
   "outputs": [],
   "source": [
    "from sympy import init_printing, Matrix, symbols, eye\n",
    "from warnings import filterwarnings"
   ]
  },
  {
   "cell_type": "code",
   "execution_count": 3,
   "metadata": {
    "collapsed": true
   },
   "outputs": [],
   "source": [
    "init_printing(use_latex = 'mathjax')\n",
    "filterwarnings('ignore')"
   ]
  },
  {
   "cell_type": "markdown",
   "metadata": {},
   "source": [
    "# Similar matrices"
   ]
  },
  {
   "cell_type": "markdown",
   "metadata": {},
   "source": [
    "## Positive definite matrices"
   ]
  },
  {
   "cell_type": "markdown",
   "metadata": {},
   "source": [
    "* Remember the following from positive definite matrices\n",
    "$$ {x}^{T}{A}{x}>{0}; {x}\\ne{0} $$\n",
    "* These always refer to symmetric matrices\n",
    "* What do we know about their inverses?\n",
    "    * We can't say anything about their pivots\n",
    "    * The following is true for their eigenvalues, though\n",
    "    $$ {\\lambda}_{{A}^{-1}}=\\frac{1}{{\\lambda}_{A}} $$\n",
    "    * The inverse is also positive definite\n",
    "* If both A and B are positive definite\n",
    "    * We don't know the pivots of (A+B)\n",
    "    * We don't know the eigenvalues of (A+B)\n",
    "    * We could look at the following (which is true)\n",
    "    $$ {x}^{T}\\left({A}+{B}\\right){x}>0 $$"
   ]
  },
  {
   "cell_type": "markdown",
   "metadata": {},
   "source": [
    "* From least squares the *m*&#215;*n* matrix A (is not square, neither symmetric (for this section, though, we assume rank is *n*)) we used A<sup>T</sup>A, which is square and symmetric, but is it positive definite?\n",
    "* Analogous with real numbers, where we ask is the square of any value positive?\n",
    "    * Again we don't know is the pivots or eigenvalues\n",
    "    * We do look at the following which is always positive (which you can show by grouping some terms)\n",
    "    $$ {x}^{T}{A}^{T}{A}{x} \\\\ =\\left({{A}{x}}\\right)^{T}\\left({A}{x}\\right) \\\\ ={ \\left\\| Ax \\right\\|  }^{ 2 } $$\n",
    "    * This last statement is just the length of A**x**, which must be positive (or zero; only if **x**=0)"
   ]
  },
  {
   "cell_type": "markdown",
   "metadata": {},
   "source": [
    "## Similar matrices"
   ]
  },
  {
   "cell_type": "markdown",
   "metadata": {},
   "source": [
    "* Consider two similar, square matrices A and B (no longer with the requirement that they are symmetric)\n",
    "* They have similar sizes, though\n",
    "* The similarity lies in the fact that there is some invertible matrix M for which the following holds\n",
    "$$ {B}={M}^{-1}{A}{M} $$"
   ]
  },
  {
   "cell_type": "markdown",
   "metadata": {},
   "source": [
    "* Remember the creation of the diagonal matrix using the eigenvector matrix\n",
    "$$ {S}^{-1}{A}{S}={\\Lambda} $$\n",
    "* This says A is similar to &Lambda;"
   ]
  },
  {
   "cell_type": "markdown",
   "metadata": {
    "collapsed": true
   },
   "source": [
    "* Now we consider some (invertible) matrix M and create a matrix B from M<sup>-1</sup>AM\n",
    "* We state that B is then similar to A (it is now part of some family of matrices of A, the *neatest* of which is the diagonal matrix &Lambda; for its creation via the eigenvector matrix of A)"
   ]
  },
  {
   "cell_type": "code",
   "execution_count": 4,
   "metadata": {
    "collapsed": false
   },
   "outputs": [
    {
     "data": {
      "text/latex": [
       "$$\\left[\\begin{matrix}2 & 1\\\\1 & 2\\end{matrix}\\right]$$"
      ],
      "text/plain": [
       "⎡2  1⎤\n",
       "⎢    ⎥\n",
       "⎣1  2⎦"
      ]
     },
     "execution_count": 4,
     "metadata": {},
     "output_type": "execute_result"
    }
   ],
   "source": [
    "A = Matrix([[2, 1], [1, 2]])\n",
    "A"
   ]
  },
  {
   "cell_type": "code",
   "execution_count": 5,
   "metadata": {
    "collapsed": true
   },
   "outputs": [],
   "source": [
    "S, D = A.diagonalize() # S is the eigenvector matrix"
   ]
  },
  {
   "cell_type": "code",
   "execution_count": 6,
   "metadata": {
    "collapsed": false
   },
   "outputs": [
    {
     "data": {
      "text/latex": [
       "$$\\left[\\begin{matrix}1 & 0\\\\0 & 3\\end{matrix}\\right]$$"
      ],
      "text/plain": [
       "⎡1  0⎤\n",
       "⎢    ⎥\n",
       "⎣0  3⎦"
      ]
     },
     "execution_count": 6,
     "metadata": {},
     "output_type": "execute_result"
    }
   ],
   "source": [
    "S.inv() * A * S # The matrix Lambda"
   ]
  },
  {
   "cell_type": "markdown",
   "metadata": {},
   "source": [
    "* Now let's invent a matrix M"
   ]
  },
  {
   "cell_type": "code",
   "execution_count": 7,
   "metadata": {
    "collapsed": false
   },
   "outputs": [
    {
     "data": {
      "text/latex": [
       "$$\\left[\\begin{matrix}1 & 4\\\\0 & 1\\end{matrix}\\right]$$"
      ],
      "text/plain": [
       "⎡1  4⎤\n",
       "⎢    ⎥\n",
       "⎣0  1⎦"
      ]
     },
     "execution_count": 7,
     "metadata": {},
     "output_type": "execute_result"
    }
   ],
   "source": [
    "M = Matrix([[1, 4], [0, 1]])\n",
    "M"
   ]
  },
  {
   "cell_type": "code",
   "execution_count": 8,
   "metadata": {
    "collapsed": false
   },
   "outputs": [
    {
     "data": {
      "text/latex": [
       "$$\\begin{pmatrix}\\left[\\begin{matrix}2 & 1\\\\1 & 2\\end{matrix}\\right], & \\left[\\begin{matrix}-2 & -15\\\\1 & 6\\end{matrix}\\right]\\end{pmatrix}$$"
      ],
      "text/plain": [
       "⎛⎡2  1⎤, ⎡-2  -15⎤⎞\n",
       "⎜⎢    ⎥  ⎢       ⎥⎟\n",
       "⎝⎣1  2⎦  ⎣1    6 ⎦⎠"
      ]
     },
     "execution_count": 8,
     "metadata": {},
     "output_type": "execute_result"
    }
   ],
   "source": [
    "B = M.inv() * A * M\n",
    "A, B # Printing both to the screen"
   ]
  },
  {
   "cell_type": "markdown",
   "metadata": {},
   "source": [
    "* What does A and B have in common?\n",
    "* The have the same eigenvalues"
   ]
  },
  {
   "cell_type": "code",
   "execution_count": 9,
   "metadata": {
    "collapsed": false
   },
   "outputs": [
    {
     "data": {
      "text/latex": [
       "$$\\begin{pmatrix}\\begin{Bmatrix}1 : 1, & 3 : 1\\end{Bmatrix}, & \\begin{Bmatrix}1 : 1, & 3 : 1\\end{Bmatrix}\\end{pmatrix}$$"
      ],
      "text/plain": [
       "({1: 1, 3: 1}, {1: 1, 3: 1})"
      ]
     },
     "execution_count": 9,
     "metadata": {},
     "output_type": "execute_result"
    }
   ],
   "source": [
    "A.eigenvals(), B.eigenvals() # The solution is in the form {eigenvalue:how many times that that value occur...}"
   ]
  },
  {
   "cell_type": "markdown",
   "metadata": {},
   "source": [
    "* All similar-sized matrices with the same eigenvalues are similar matrices\n",
    "* The most *special* member of this family is the diagonal matrix with the eigenvalues on the main diagonal"
   ]
  },
  {
   "cell_type": "markdown",
   "metadata": {},
   "source": [
    "$$ Ax=\\lambda x\\\\ A{ M }^{ -1 }x=\\lambda { M }^{ -1 }x\\\\ \\because \\quad { M }^{ -1 }M=I\\\\ { M }^{ -1 }AM{ M }^{ -1 }x=\\lambda { M }^{ -1 }x\\\\ \\because \\quad B={ M }^{ -1 }AM\\\\ B{ M }^{ -1 }x=\\lambda { M }^{ -1 }x $$"
   ]
  },
  {
   "cell_type": "markdown",
   "metadata": {},
   "source": [
    "* The eigenvectors are not the same though"
   ]
  },
  {
   "cell_type": "code",
   "execution_count": 10,
   "metadata": {
    "collapsed": false
   },
   "outputs": [
    {
     "data": {
      "text/latex": [
       "$$\\begin{pmatrix}\\begin{bmatrix}\\begin{pmatrix}1, & 1, & \\begin{bmatrix}\\left[\\begin{matrix}-1\\\\1\\end{matrix}\\right]\\end{bmatrix}\\end{pmatrix}, & \\begin{pmatrix}3, & 1, & \\begin{bmatrix}\\left[\\begin{matrix}1\\\\1\\end{matrix}\\right]\\end{bmatrix}\\end{pmatrix}\\end{bmatrix}, & \\begin{bmatrix}\\begin{pmatrix}1, & 1, & \\begin{bmatrix}\\left[\\begin{matrix}-5\\\\1\\end{matrix}\\right]\\end{bmatrix}\\end{pmatrix}, & \\begin{pmatrix}3, & 1, & \\begin{bmatrix}\\left[\\begin{matrix}-3\\\\1\\end{matrix}\\right]\\end{bmatrix}\\end{pmatrix}\\end{bmatrix}\\end{pmatrix}$$"
      ],
      "text/plain": [
       "⎛⎡⎛1, 1, ⎡⎡-1⎤⎤⎞, ⎛3, 1, ⎡⎡1⎤⎤⎞⎤, ⎡⎛1, 1, ⎡⎡-5⎤⎤⎞, ⎛3, 1, ⎡⎡-3⎤⎤⎞⎤⎞\n",
       "⎜⎢⎜      ⎢⎢  ⎥⎥⎟  ⎜      ⎢⎢ ⎥⎥⎟⎥  ⎢⎜      ⎢⎢  ⎥⎥⎟  ⎜      ⎢⎢  ⎥⎥⎟⎥⎟\n",
       "⎝⎣⎝      ⎣⎣1 ⎦⎦⎠  ⎝      ⎣⎣1⎦⎦⎠⎦  ⎣⎝      ⎣⎣1 ⎦⎦⎠  ⎝      ⎣⎣1 ⎦⎦⎠⎦⎠"
      ]
     },
     "execution_count": 10,
     "metadata": {},
     "output_type": "execute_result"
    }
   ],
   "source": [
    "A.eigenvects(), B.eigenvects()"
   ]
  },
  {
   "cell_type": "markdown",
   "metadata": {},
   "source": [
    "* Remember that we have a problem when eigenvalues are repeated for a matrix\n",
    "* If this is so, we might not have a *full set* of eigenvectors and we cannot diagonalize"
   ]
  },
  {
   "cell_type": "code",
   "execution_count": 11,
   "metadata": {
    "collapsed": true
   },
   "outputs": [],
   "source": [
    "A1 = Matrix([[4, 0], [0, 4]])\n",
    "A2 = Matrix([[4, 1], [0, 4]])"
   ]
  },
  {
   "cell_type": "code",
   "execution_count": 12,
   "metadata": {
    "collapsed": false
   },
   "outputs": [
    {
     "data": {
      "text/latex": [
       "$$\\begin{Bmatrix}4 : 2\\end{Bmatrix}$$"
      ],
      "text/plain": [
       "{4: 2}"
      ]
     },
     "execution_count": 12,
     "metadata": {},
     "output_type": "execute_result"
    }
   ],
   "source": [
    "A1.eigenvals()"
   ]
  },
  {
   "cell_type": "code",
   "execution_count": 13,
   "metadata": {
    "collapsed": false
   },
   "outputs": [
    {
     "data": {
      "text/latex": [
       "$$\\begin{Bmatrix}4 : 2\\end{Bmatrix}$$"
      ],
      "text/plain": [
       "{4: 2}"
      ]
     },
     "execution_count": 13,
     "metadata": {},
     "output_type": "execute_result"
    }
   ],
   "source": [
    "A2.eigenvals()"
   ]
  },
  {
   "cell_type": "markdown",
   "metadata": {},
   "source": [
    "* Both the two matrices A<sub>1</sub>1 and A<sub>2</sub> have two similar eigenvalues each, namely 4\n",
    "* They are not similar, though\n",
    "* There is no matrix M to use with A<sub>1</sub> to produce A<sub>2</sub>"
   ]
  },
  {
   "cell_type": "markdown",
   "metadata": {},
   "source": [
    "* Note that A<sub>1</sub> is 4 multiplied by the identity matrix of size 2\n",
    "* It is a small family, with only this member\n",
    "* A<sub>2</sub> is the *neatest* member of its much larger family\n",
    "* Diagonalizing it is not possible, though, as if it was, it would results in A<sub>2</sub> which is not in the same family, leaving A<sub>1</sub> as the *neatest* family member"
   ]
  },
  {
   "cell_type": "markdown",
   "metadata": {},
   "source": [
    "* The *nicest* (most diagonal one) is called the **Jordan form** of the family"
   ]
  },
  {
   "cell_type": "markdown",
   "metadata": {},
   "source": [
    "* Let's find more members of A<sub>1</sub>"
   ]
  },
  {
   "cell_type": "markdown",
   "metadata": {},
   "source": [
    "* The matrix A<sub>1</sub> is\n",
    "$$ \\begin{bmatrix} 4 & 1 \\\\ 0 & 4 \\end{bmatrix} $$\n",
    "* The trace is 8, so let's choose 5 and 3\n",
    "$$ \\begin{bmatrix} 5 &  \\\\  & 3 \\end{bmatrix} $$\n",
    "* The determinant must remain 16, so let's choose 1 and -1\n",
    "$$ \\begin{bmatrix} 5 & 1 \\\\ -1 & 3 \\end{bmatrix} $$"
   ]
  },
  {
   "cell_type": "code",
   "execution_count": 14,
   "metadata": {
    "collapsed": false
   },
   "outputs": [
    {
     "data": {
      "text/plain": [
       "True"
      ]
     },
     "execution_count": 14,
     "metadata": {},
     "output_type": "execute_result"
    }
   ],
   "source": [
    "A3 = Matrix([[5, 1], [-1, 3]])\n",
    "A1.eigenvals() == A3.eigenvals() # Check to see if the eigenvalues are similar"
   ]
  },
  {
   "cell_type": "markdown",
   "metadata": {},
   "source": [
    "* So we have to add, similar independent columns of eigenvectors to the definition of similar matrices\n",
    "* It's more than that, though"
   ]
  },
  {
   "cell_type": "code",
   "execution_count": 15,
   "metadata": {
    "collapsed": false
   },
   "outputs": [
    {
     "data": {
      "text/latex": [
       "$$\\left[\\begin{matrix}0 & 1 & 0 & 0\\\\0 & 0 & 1 & 0\\\\0 & 0 & 0 & 0\\\\0 & 0 & 0 & 0\\end{matrix}\\right]$$"
      ],
      "text/plain": [
       "⎡0  1  0  0⎤\n",
       "⎢          ⎥\n",
       "⎢0  0  1  0⎥\n",
       "⎢          ⎥\n",
       "⎢0  0  0  0⎥\n",
       "⎢          ⎥\n",
       "⎣0  0  0  0⎦"
      ]
     },
     "execution_count": 15,
     "metadata": {},
     "output_type": "execute_result"
    }
   ],
   "source": [
    "A4 = Matrix([[0, 1, 0, 0], [0, 0, 1, 0], [0, 0, 0, 0], [0, 0, 0, 0]])\n",
    "A4"
   ]
  },
  {
   "cell_type": "code",
   "execution_count": 16,
   "metadata": {
    "collapsed": false
   },
   "outputs": [
    {
     "data": {
      "text/latex": [
       "$$\\begin{Bmatrix}0 : 4\\end{Bmatrix}$$"
      ],
      "text/plain": [
       "{0: 4}"
      ]
     },
     "execution_count": 16,
     "metadata": {},
     "output_type": "execute_result"
    }
   ],
   "source": [
    "A4.eigenvals() # Four zeros"
   ]
  },
  {
   "cell_type": "code",
   "execution_count": 17,
   "metadata": {
    "collapsed": false
   },
   "outputs": [
    {
     "data": {
      "text/latex": [
       "$$\\begin{bmatrix}\\begin{pmatrix}0, & 4, & \\begin{bmatrix}\\left[\\begin{matrix}1\\\\0\\\\0\\\\0\\end{matrix}\\right], & \\left[\\begin{matrix}0\\\\0\\\\0\\\\1\\end{matrix}\\right]\\end{bmatrix}\\end{pmatrix}\\end{bmatrix}$$"
      ],
      "text/plain": [
       "⎡⎛0, 4, ⎡⎡1⎤, ⎡0⎤⎤⎞⎤\n",
       "⎢⎜      ⎢⎢ ⎥  ⎢ ⎥⎥⎟⎥\n",
       "⎢⎜      ⎢⎢0⎥  ⎢0⎥⎥⎟⎥\n",
       "⎢⎜      ⎢⎢ ⎥  ⎢ ⎥⎥⎟⎥\n",
       "⎢⎜      ⎢⎢0⎥  ⎢0⎥⎥⎟⎥\n",
       "⎢⎜      ⎢⎢ ⎥  ⎢ ⎥⎥⎟⎥\n",
       "⎣⎝      ⎣⎣0⎦  ⎣1⎦⎦⎠⎦"
      ]
     },
     "execution_count": 17,
     "metadata": {},
     "output_type": "execute_result"
    }
   ],
   "source": [
    "A4.eigenvects() # Rank of 2"
   ]
  },
  {
   "cell_type": "code",
   "execution_count": 18,
   "metadata": {
    "collapsed": false
   },
   "outputs": [
    {
     "data": {
      "text/latex": [
       "$$\\left[\\begin{matrix}0 & 1 & 7 & 0\\\\0 & 0 & 1 & 0\\\\0 & 0 & 0 & 0\\\\0 & 0 & 0 & 0\\end{matrix}\\right]$$"
      ],
      "text/plain": [
       "⎡0  1  7  0⎤\n",
       "⎢          ⎥\n",
       "⎢0  0  1  0⎥\n",
       "⎢          ⎥\n",
       "⎢0  0  0  0⎥\n",
       "⎢          ⎥\n",
       "⎣0  0  0  0⎦"
      ]
     },
     "execution_count": 18,
     "metadata": {},
     "output_type": "execute_result"
    }
   ],
   "source": [
    "A5 = Matrix([[0, 1, 7, 0], [0, 0, 1, 0], [0, 0, 0, 0], [0, 0, 0, 0]])\n",
    "A5"
   ]
  },
  {
   "cell_type": "code",
   "execution_count": 19,
   "metadata": {
    "collapsed": false
   },
   "outputs": [
    {
     "data": {
      "text/latex": [
       "$$\\begin{Bmatrix}0 : 4\\end{Bmatrix}$$"
      ],
      "text/plain": [
       "{0: 4}"
      ]
     },
     "execution_count": 19,
     "metadata": {},
     "output_type": "execute_result"
    }
   ],
   "source": [
    "A5.eigenvals()"
   ]
  },
  {
   "cell_type": "code",
   "execution_count": 20,
   "metadata": {
    "collapsed": false
   },
   "outputs": [
    {
     "data": {
      "text/latex": [
       "$$\\begin{bmatrix}\\begin{pmatrix}0, & 4, & \\begin{bmatrix}\\left[\\begin{matrix}1\\\\0\\\\0\\\\0\\end{matrix}\\right], & \\left[\\begin{matrix}0\\\\0\\\\0\\\\1\\end{matrix}\\right]\\end{bmatrix}\\end{pmatrix}\\end{bmatrix}$$"
      ],
      "text/plain": [
       "⎡⎛0, 4, ⎡⎡1⎤, ⎡0⎤⎤⎞⎤\n",
       "⎢⎜      ⎢⎢ ⎥  ⎢ ⎥⎥⎟⎥\n",
       "⎢⎜      ⎢⎢0⎥  ⎢0⎥⎥⎟⎥\n",
       "⎢⎜      ⎢⎢ ⎥  ⎢ ⎥⎥⎟⎥\n",
       "⎢⎜      ⎢⎢0⎥  ⎢0⎥⎥⎟⎥\n",
       "⎢⎜      ⎢⎢ ⎥  ⎢ ⎥⎥⎟⎥\n",
       "⎣⎝      ⎣⎣0⎦  ⎣1⎦⎦⎠⎦"
      ]
     },
     "execution_count": 20,
     "metadata": {},
     "output_type": "execute_result"
    }
   ],
   "source": [
    "A5.eigenvects()"
   ]
  },
  {
   "cell_type": "code",
   "execution_count": 21,
   "metadata": {
    "collapsed": false
   },
   "outputs": [
    {
     "data": {
      "text/latex": [
       "$$\\left[\\begin{matrix}0 & 1 & 0 & 0\\\\0 & 0 & 0 & 0\\\\0 & 0 & 0 & 1\\\\0 & 0 & 0 & 0\\end{matrix}\\right]$$"
      ],
      "text/plain": [
       "⎡0  1  0  0⎤\n",
       "⎢          ⎥\n",
       "⎢0  0  0  0⎥\n",
       "⎢          ⎥\n",
       "⎢0  0  0  1⎥\n",
       "⎢          ⎥\n",
       "⎣0  0  0  0⎦"
      ]
     },
     "execution_count": 21,
     "metadata": {},
     "output_type": "execute_result"
    }
   ],
   "source": [
    "A6 = Matrix([[0, 1, 0, 0], [0, 0, 0, 0], [0, 0, 0, 1], [0, 0, 0, 0]])\n",
    "A6"
   ]
  },
  {
   "cell_type": "code",
   "execution_count": 22,
   "metadata": {
    "collapsed": false
   },
   "outputs": [
    {
     "data": {
      "text/latex": [
       "$$\\begin{Bmatrix}0 : 4\\end{Bmatrix}$$"
      ],
      "text/plain": [
       "{0: 4}"
      ]
     },
     "execution_count": 22,
     "metadata": {},
     "output_type": "execute_result"
    }
   ],
   "source": [
    "A6.eigenvals()"
   ]
  },
  {
   "cell_type": "code",
   "execution_count": 23,
   "metadata": {
    "collapsed": false
   },
   "outputs": [
    {
     "data": {
      "text/latex": [
       "$$\\begin{bmatrix}\\begin{pmatrix}0, & 4, & \\begin{bmatrix}\\left[\\begin{matrix}1\\\\0\\\\0\\\\0\\end{matrix}\\right], & \\left[\\begin{matrix}0\\\\0\\\\1\\\\0\\end{matrix}\\right]\\end{bmatrix}\\end{pmatrix}\\end{bmatrix}$$"
      ],
      "text/plain": [
       "⎡⎛0, 4, ⎡⎡1⎤, ⎡0⎤⎤⎞⎤\n",
       "⎢⎜      ⎢⎢ ⎥  ⎢ ⎥⎥⎟⎥\n",
       "⎢⎜      ⎢⎢0⎥  ⎢0⎥⎥⎟⎥\n",
       "⎢⎜      ⎢⎢ ⎥  ⎢ ⎥⎥⎟⎥\n",
       "⎢⎜      ⎢⎢0⎥  ⎢1⎥⎥⎟⎥\n",
       "⎢⎜      ⎢⎢ ⎥  ⎢ ⎥⎥⎟⎥\n",
       "⎣⎝      ⎣⎣0⎦  ⎣0⎦⎦⎠⎦"
      ]
     },
     "execution_count": 23,
     "metadata": {},
     "output_type": "execute_result"
    }
   ],
   "source": [
    "A6.eigenvects()"
   ]
  },
  {
   "cell_type": "code",
   "execution_count": 24,
   "metadata": {
    "collapsed": false
   },
   "outputs": [
    {
     "data": {
      "text/plain": [
       "True"
      ]
     },
     "execution_count": 24,
     "metadata": {},
     "output_type": "execute_result"
    }
   ],
   "source": [
    "A4.eigenvects() == A5.eigenvects()"
   ]
  },
  {
   "cell_type": "code",
   "execution_count": 25,
   "metadata": {
    "collapsed": false
   },
   "outputs": [
    {
     "data": {
      "text/plain": [
       "False"
      ]
     },
     "execution_count": 25,
     "metadata": {},
     "output_type": "execute_result"
    }
   ],
   "source": [
    "A4.eigenvects() == A6.eigenvects()"
   ]
  },
  {
   "cell_type": "markdown",
   "metadata": {},
   "source": [
    "* Jordan's theorem\n",
    "    * Every square matrix A is similar to a Jordan matrix J\n",
    "    * There is one eigenvector per block\n",
    "    * The eigenvalues sit along the main diagonal\n",
    "    * The matrices are not similar if the blocks are not of similar size\n",
    "    * See problem 3 below where Jordan blocks are formed (they must actually both be broken down further into true Jordan blocks which will show the blocks to be of unequal size, instead I keep them in non-Jordan form (not correct) and show different number of pivots and thereby different eigenvectors)"
   ]
  },
  {
   "cell_type": "markdown",
   "metadata": {},
   "source": [
    "## Example problems"
   ]
  },
  {
   "cell_type": "markdown",
   "metadata": {},
   "source": [
    "### Example problem 1"
   ]
  },
  {
   "cell_type": "markdown",
   "metadata": {},
   "source": [
    "* If A and B are similar matrices, why are the following similar?\n",
    "$$ 2{A}^{3}+{A}-3{I} \\\\ 2{B}^{3}+{B}-3{I} $$"
   ]
  },
  {
   "cell_type": "markdown",
   "metadata": {},
   "source": [
    "#### Solution"
   ]
  },
  {
   "cell_type": "markdown",
   "metadata": {},
   "source": [
    "* There is some matrix such that the following is true\n",
    "$$ {M}{A}{M}^{-1}={B} $$\n",
    "* From this follows\n",
    "$$ {M}\\left(2{A}^{3}+{A}-3{I}\\right){M}^{-1} \\\\ =\\quad 2\\left( MA{ M }^{ -1 }MA{ M }^{ -1 }MA{ M }^{ -1 } \\right) +MA{ M }^{ -1 }-3MI{ M }^{ -1 }\\\\ =\\quad 2{ B }^{ 3 }+B-3I  $$"
   ]
  },
  {
   "cell_type": "markdown",
   "metadata": {},
   "source": [
    "* I.e. if two matrices (A and B) are similar any polynomial involving them (replacing A with B) are similar"
   ]
  },
  {
   "cell_type": "markdown",
   "metadata": {},
   "source": [
    "### Example problem 2"
   ]
  },
  {
   "cell_type": "markdown",
   "metadata": {},
   "source": [
    "* Are the two 3&times;3 matrices A and B , with eigenvalues 1, 0, -1 similar?"
   ]
  },
  {
   "cell_type": "markdown",
   "metadata": {},
   "source": [
    "#### Solution"
   ]
  },
  {
   "cell_type": "markdown",
   "metadata": {},
   "source": [
    "* Yes, because the eigenvalues are distinct (and diagonalizable)"
   ]
  },
  {
   "cell_type": "markdown",
   "metadata": {},
   "source": [
    "### Example problem 3"
   ]
  },
  {
   "cell_type": "markdown",
   "metadata": {},
   "source": [
    "* Are these two matrices similar?\n",
    "$$ {J}_{1}=\\begin{bmatrix}-1&1&0\\\\0&-1&1\\\\0&0&-1\\end{bmatrix} \\\\ {J}_{2}=\\begin{bmatrix}-1&1&0\\\\0&-1&0\\\\0&0&-1\\end{bmatrix} $$"
   ]
  },
  {
   "cell_type": "markdown",
   "metadata": {},
   "source": [
    "#### Solution"
   ]
  },
  {
   "cell_type": "markdown",
   "metadata": {},
   "source": [
    "* No"
   ]
  },
  {
   "cell_type": "code",
   "execution_count": 26,
   "metadata": {
    "collapsed": false
   },
   "outputs": [
    {
     "data": {
      "text/latex": [
       "$$\\begin{pmatrix}\\left[\\begin{matrix}-1 & 1 & 0\\\\0 & -1 & 1\\\\0 & 0 & -1\\end{matrix}\\right], & \\left[\\begin{matrix}-1 & 1 & 0\\\\0 & -1 & 0\\\\0 & 0 & -1\\end{matrix}\\right]\\end{pmatrix}$$"
      ],
      "text/plain": [
       "⎛⎡-1  1   0 ⎤, ⎡-1  1   0 ⎤⎞\n",
       "⎜⎢          ⎥  ⎢          ⎥⎟\n",
       "⎜⎢0   -1  1 ⎥  ⎢0   -1  0 ⎥⎟\n",
       "⎜⎢          ⎥  ⎢          ⎥⎟\n",
       "⎝⎣0   0   -1⎦  ⎣0   0   -1⎦⎠"
      ]
     },
     "execution_count": 26,
     "metadata": {},
     "output_type": "execute_result"
    }
   ],
   "source": [
    "J1 = Matrix([[-1, 1, 0], [0, -1, 1], [0, 0, -1]])\n",
    "J2 = Matrix([[-1, 1, 0], [0, -1, 0], [0, 0, -1]])\n",
    "J1, J2"
   ]
  },
  {
   "cell_type": "markdown",
   "metadata": {},
   "source": [
    "* Let's create Jordan block from these"
   ]
  },
  {
   "cell_type": "code",
   "execution_count": 27,
   "metadata": {
    "collapsed": false
   },
   "outputs": [
    {
     "data": {
      "text/latex": [
       "$$\\begin{pmatrix}\\left[\\begin{matrix}0 & 1 & 0\\\\0 & 0 & 1\\\\0 & 0 & 0\\end{matrix}\\right], & \\left[\\begin{matrix}0 & 1 & 0\\\\0 & 0 & 0\\\\0 & 0 & 0\\end{matrix}\\right]\\end{pmatrix}$$"
      ],
      "text/plain": [
       "⎛⎡0  1  0⎤, ⎡0  1  0⎤⎞\n",
       "⎜⎢       ⎥  ⎢       ⎥⎟\n",
       "⎜⎢0  0  1⎥  ⎢0  0  0⎥⎟\n",
       "⎜⎢       ⎥  ⎢       ⎥⎟\n",
       "⎝⎣0  0  0⎦  ⎣0  0  0⎦⎠"
      ]
     },
     "execution_count": 27,
     "metadata": {},
     "output_type": "execute_result"
    }
   ],
   "source": [
    "J1 + eye(3), J2 + eye(3)"
   ]
  },
  {
   "cell_type": "markdown",
   "metadata": {},
   "source": [
    "* Jordan blocks have zeros on the main diagonal and various forms of 1 just above the main diagonal\n",
    "* Note the difference between the Jordan blocks of J<sub>1</sub> and J<sub>2</sub>\n",
    "* The first now contains two pivots and the second only 1; they will not have the same number of eigenvectors and cannot be similar"
   ]
  },
  {
   "cell_type": "code",
   "execution_count": null,
   "metadata": {
    "collapsed": true
   },
   "outputs": [],
   "source": []
  }
 ],
 "metadata": {
  "kernelspec": {
   "display_name": "Python 3",
   "language": "python",
   "name": "python3"
  },
  "language_info": {
   "codemirror_mode": {
    "name": "ipython",
    "version": 3
   },
   "file_extension": ".py",
   "mimetype": "text/x-python",
   "name": "python",
   "nbconvert_exporter": "python",
   "pygments_lexer": "ipython3",
   "version": "3.4.3"
  }
 },
 "nbformat": 4,
 "nbformat_minor": 0
}
