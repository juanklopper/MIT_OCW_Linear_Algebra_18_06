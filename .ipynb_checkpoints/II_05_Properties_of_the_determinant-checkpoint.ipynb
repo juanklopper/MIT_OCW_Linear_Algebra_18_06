{
 "cells": [
  {
   "cell_type": "markdown",
   "metadata": {},
   "source": [
    "+ This notebook is part of lecture 18 *Properties of determinants* in the OCW MIT course 18.06 by Prof Gilbert Strang [1]\n",
    "+ Created by me, Dr Juan H Klopper\n",
    "    + Head of Acute Care Surgery\n",
    "    + Groote Schuur Hospital\n",
    "    + University Cape Town\n",
    "    + <a href=\"mailto:juan.klopper@uct.ac.za\">Email me with your thoughts, comments, suggestions and corrections</a> \n",
    "<a rel=\"license\" href=\"http://creativecommons.org/licenses/by-nc/4.0/\"><img alt=\"Creative Commons Licence\" style=\"border-width:0\" src=\"https://i.creativecommons.org/l/by-nc/4.0/88x31.png\" /></a><br /><span xmlns:dct=\"http://purl.org/dc/terms/\" href=\"http://purl.org/dc/dcmitype/InteractiveResource\" property=\"dct:title\" rel=\"dct:type\">Linear Algebra OCW MIT18.06</span> <span xmlns:cc=\"http://creativecommons.org/ns#\" property=\"cc:attributionName\">IPython notebook [2] study notes by Dr Juan H Klopper</span> is licensed under a <a rel=\"license\" href=\"http://creativecommons.org/licenses/by-nc/4.0/\">Creative Commons Attribution-NonCommercial 4.0 International License</a>.\n",
    "\n",
    "+ [1] <a href=\"http://ocw.mit.edu/courses/mathematics/18-06sc-linear-algebra-fall-2011/index.htm\">OCW MIT 18.06</a>\n",
    "+ [2] Fernando Pérez, Brian E. Granger, IPython: A System for Interactive Scientific Computing, Computing in Science and Engineering, vol. 9, no. 3, pp. 21-29, May/June 2007, doi:10.1109/MCSE.2007.53. URL: http://ipython.org"
   ]
  },
  {
   "cell_type": "code",
   "execution_count": 1,
   "metadata": {
    "collapsed": false
   },
   "outputs": [
    {
     "data": {
      "text/html": [
       "<link href='http://fonts.googleapis.com/css?family=Alegreya+Sans:100,300,400,500,700,800,900,100italic,300italic,400italic,500italic,700italic,800italic,900italic' rel='stylesheet' type='text/css'>\n",
       "<link href='http://fonts.googleapis.com/css?family=Arvo:400,700,400italic' rel='stylesheet' type='text/css'>\n",
       "<link href='http://fonts.googleapis.com/css?family=PT+Mono' rel='stylesheet' type='text/css'>\n",
       "<link href='http://fonts.googleapis.com/css?family=Shadows+Into+Light' rel='stylesheet' type='text/css'>\n",
       "<link href='http://fonts.googleapis.com/css?family=Philosopher:400,700,400italic,700italic' rel='stylesheet' type='text/css'>\n",
       "\n",
       "<style>\n",
       "\n",
       "@font-face {\n",
       "    font-family: \"Computer Modern\";\n",
       "    src: url('http://mirrors.ctan.org/fonts/cm-unicode/fonts/otf/cmunss.otf');\n",
       "}\n",
       "\n",
       "#notebook_panel { /* main background */\n",
       "    background: #ddd;\n",
       "    color: #000000;\n",
       "}\n",
       "\n",
       "\n",
       "\n",
       "/* Formatting for header cells */\n",
       ".text_cell_render h1 {\n",
       "    font-family: 'Philosopher', sans-serif;\n",
       "    font-weight: 400;\n",
       "    font-size: 2.2em;\n",
       "    line-height: 100%;\n",
       "    color: rgb(0, 80, 120);\n",
       "    margin-bottom: 0.1em;\n",
       "    margin-top: 0.1em;\n",
       "    display: block;\n",
       "}\t\n",
       ".text_cell_render h2 {\n",
       "    font-family: 'Philosopher', serif;\n",
       "    font-weight: 400;\n",
       "    font-size: 1.9em;\n",
       "    line-height: 100%;\n",
       "    color: rgb(200,100,0);\n",
       "    margin-bottom: 0.1em;\n",
       "    margin-top: 0.1em;\n",
       "    display: block;\n",
       "}\t\n",
       "\n",
       ".text_cell_render h3 {\n",
       "    font-family: 'Philosopher', serif;\n",
       "    margin-top:12px;\n",
       "    margin-bottom: 3px;\n",
       "    font-style: italic;\n",
       "    color: rgb(94,127,192);\n",
       "}\n",
       "\n",
       ".text_cell_render h4 {\n",
       "    font-family: 'Philosopher', serif;\n",
       "}\n",
       "\n",
       ".text_cell_render h5 {\n",
       "    font-family: 'Alegreya Sans', sans-serif;\n",
       "    font-weight: 300;\n",
       "    font-size: 16pt;\n",
       "    color: grey;\n",
       "    font-style: italic;\n",
       "    margin-bottom: .1em;\n",
       "    margin-top: 0.1em;\n",
       "    display: block;\n",
       "}\n",
       "\n",
       ".text_cell_render h6 {\n",
       "    font-family: 'PT Mono', sans-serif;\n",
       "    font-weight: 300;\n",
       "    font-size: 10pt;\n",
       "    color: grey;\n",
       "    margin-bottom: 1px;\n",
       "    margin-top: 1px;\n",
       "}\n",
       "\n",
       ".CodeMirror{\n",
       "        font-family: \"PT Mono\";\n",
       "        font-size: 100%;\n",
       "}\n",
       "\n",
       "</style>\n",
       "\n"
      ],
      "text/plain": [
       "<IPython.core.display.HTML object>"
      ]
     },
     "execution_count": 1,
     "metadata": {},
     "output_type": "execute_result"
    }
   ],
   "source": [
    "from IPython.core.display import HTML, Image\n",
    "css_file = 'style.css'\n",
    "HTML(open(css_file, 'r').read())"
   ]
  },
  {
   "cell_type": "code",
   "execution_count": 2,
   "metadata": {
    "collapsed": true
   },
   "outputs": [],
   "source": [
    "from sympy import init_printing, Matrix, symbols\n",
    "from IPython.display import HTML\n",
    "from warnings import filterwarnings"
   ]
  },
  {
   "cell_type": "code",
   "execution_count": 3,
   "metadata": {
    "collapsed": true
   },
   "outputs": [],
   "source": [
    "init_printing(use_latex = 'mathjax')\n",
    "filterwarnings('ignore')"
   ]
  },
  {
   "cell_type": "code",
   "execution_count": 4,
   "metadata": {
    "collapsed": true
   },
   "outputs": [],
   "source": [
    "a, b, c = symbols('a b c')"
   ]
  },
  {
   "cell_type": "markdown",
   "metadata": {},
   "source": [
    "# Properties of the determinant"
   ]
  },
  {
   "cell_type": "markdown",
   "metadata": {},
   "source": [
    "## Notation"
   ]
  },
  {
   "cell_type": "markdown",
   "metadata": {},
   "source": [
    "* The determinant of a matrix A is written as det(A) or |A|"
   ]
  },
  {
   "cell_type": "markdown",
   "metadata": {},
   "source": [
    "## Main properties"
   ]
  },
  {
   "cell_type": "markdown",
   "metadata": {},
   "source": [
    "* There are three main properties (first three listed below) and seven that follow from them"
   ]
  },
  {
   "cell_type": "markdown",
   "metadata": {},
   "source": [
    "* det(I)=1\n",
    "* A row exchange changes the sign of the determinant\n",
    "    * We now know the determinant of every permutation matrix\n",
    "* Multiplying any row with a constant results in the determinant also being multiplied by that constant\n",
    "        * Only works when altering a single row (the determinant is a linear function of each row separately)\n",
    "        * An alternate way of seeing this is\n",
    "$$ \\begin{vmatrix} a+a' & b+b' \\\\ c & d \\end{vmatrix}=\\begin{vmatrix} a & b \\\\ c & d \\end{vmatrix}+\\begin{vmatrix} a' & b' \\\\ c & d \\end{vmatrix} $$\n",
    "* If two rows are equal then the determinant is zero\n",
    "    * This follows from property number two, where if we interchange rows the sign must change\n",
    "    * This only works for zero, since row exchange leaves the matrix unchanged, which now can't have a different determinant (opposite sign)\n",
    "* Subtracting a constant multiple of one row from another leaves the determinant unchanged\n",
    "    * This flows from property three above\n",
    "$$ \\begin{vmatrix} a & b \\\\ c-la & d-lb \\end{vmatrix}=\\begin{vmatrix} a & b \\\\ c & d \\end{vmatrix}+\\begin{vmatrix} a & b \\\\ -la & -lb \\end{vmatrix} $$\n",
    "    * From property four (determinant of matrix with two similar rows equal zero) we now have the following\n",
    "$$ =\\begin{vmatrix} a & b \\\\ c & d \\end{vmatrix}+\\left( -l \\right) \\begin{vmatrix} a & b \\\\ a & b \\end{vmatrix}\\\\ =\\begin{vmatrix} a & b \\\\ c & d \\end{vmatrix}+0\\\\ =\\begin{vmatrix} a & b \\\\ c & d \\end{vmatrix} $$\n",
    "* The determinant of a matrix with a complete row (or columns) of zero is zero\n",
    "    * This also follows from property three above, but multiplying a row by zero\n",
    "* The determinant of an upper triangular matrix is the product of the elements of the main diagonal (the pivots)\n",
    "    * Same goes for a diagonal matrix\n",
    "        * This helps us to develop the expression for the determinant of a 2&#215;2 matrix\n",
    "$$ \\begin{bmatrix} a & b \\\\ c & d \\end{bmatrix}\\\\ \\begin{bmatrix} \\frac { c }{ a } a & \\frac { c }{ a } b \\\\ c & d \\end{bmatrix}\\\\ \\begin{bmatrix} a & b \\\\ c-\\frac { c }{ a } a & d-\\frac { c }{ a } b \\end{bmatrix}\\\\ \\begin{bmatrix} a & b \\\\ 0 & d-\\frac { c }{ a } b \\end{bmatrix}\\\\ \\therefore \\quad \\begin{vmatrix} a & b \\\\ 0 & d-\\frac { c }{ a } b \\end{vmatrix}\\\\ =\\left( a \\right) \\left( d-\\frac { c }{ a } b \\right) \\\\ =ad-a\\frac { c }{ a } b\\\\ =ad-bc $$\n",
    "    * We can change an upper triangular matrix into a diagonal matrix by row operations (leaving the determinant unchanged by property five)\n",
    "    * Now we can use the first part of the third property and take out each pivot\n",
    "    * Eventually we are left with the identity matrix and the product of all the pivots\n",
    "    * For a zero on the main diagonal we can use the property of a row of zeros and know the determinant is zero\n",
    "* If the determinant is zero, the matrix is singular (only has the zero solution / not invertible)\n",
    "* The determinant of the product of matrices\n",
    "$$ \\left| AB \\right| =\\left| A \\right| \\left| B \\right| \\\\ \\left| { A }^{ -1 } \\right| =\\frac { 1 }{ \\left| A \\right|  } \\\\ \\left| { A }^{ 2 } \\right| =\\left| A \\right| \\left| A \\right| ={ \\left| A \\right|  }^{ 2 }\\\\ \\left| cA \\right| ={ c }^{ n }\\left| A \\right|  $$\n",
    "* For the determinant of a transpose of a matrix we have\n",
    "$$ \\left| { A }^{ T } \\right| =\\left| A \\right|  $$"
   ]
  },
  {
   "cell_type": "markdown",
   "metadata": {
    "collapsed": true
   },
   "source": [
    "## Example problems"
   ]
  },
  {
   "cell_type": "markdown",
   "metadata": {},
   "source": [
    "* Do the following by making use of the properties above"
   ]
  },
  {
   "cell_type": "markdown",
   "metadata": {},
   "source": [
    "### Example problem 1"
   ]
  },
  {
   "cell_type": "code",
   "execution_count": 5,
   "metadata": {
    "collapsed": false
   },
   "outputs": [
    {
     "data": {
      "text/latex": [
       "$$\\left[\\begin{matrix}101 & 201 & 301\\\\102 & 202 & 302\\\\103 & 203 & 303\\end{matrix}\\right]$$"
      ],
      "text/plain": [
       "⎡101  201  301⎤\n",
       "⎢             ⎥\n",
       "⎢102  202  302⎥\n",
       "⎢             ⎥\n",
       "⎣103  203  303⎦"
      ]
     },
     "execution_count": 5,
     "metadata": {},
     "output_type": "execute_result"
    }
   ],
   "source": [
    "A = Matrix([[101, 201, 301], [102, 202, 302], [103, 203, 303]])\n",
    "A"
   ]
  },
  {
   "cell_type": "markdown",
   "metadata": {},
   "source": [
    "#### Solution"
   ]
  },
  {
   "cell_type": "markdown",
   "metadata": {},
   "source": [
    "* By constant multiple subtraction we get\n",
    "$$ \\begin{bmatrix} 101 & 201 & 301 \\\\ 1 & 1 & 1 \\\\ 1 & 1 & 1 \\end{bmatrix} $$\n",
    "* Two identical rows, thus the determinant is zero"
   ]
  },
  {
   "cell_type": "code",
   "execution_count": 6,
   "metadata": {
    "collapsed": false
   },
   "outputs": [
    {
     "data": {
      "text/latex": [
       "$$0$$"
      ],
      "text/plain": [
       "0"
      ]
     },
     "execution_count": 6,
     "metadata": {},
     "output_type": "execute_result"
    }
   ],
   "source": [
    "A.det()"
   ]
  },
  {
   "cell_type": "markdown",
   "metadata": {},
   "source": [
    "### Example problem 2"
   ]
  },
  {
   "cell_type": "code",
   "execution_count": 7,
   "metadata": {
    "collapsed": false
   },
   "outputs": [
    {
     "data": {
      "text/latex": [
       "$$\\left[\\begin{matrix}1 & a & a^{2}\\\\1 & b & b^{2}\\\\1 & c & c^{2}\\end{matrix}\\right]$$"
      ],
      "text/plain": [
       "⎡       2⎤\n",
       "⎢1  a  a ⎥\n",
       "⎢        ⎥\n",
       "⎢       2⎥\n",
       "⎢1  b  b ⎥\n",
       "⎢        ⎥\n",
       "⎢       2⎥\n",
       "⎣1  c  c ⎦"
      ]
     },
     "execution_count": 7,
     "metadata": {},
     "output_type": "execute_result"
    }
   ],
   "source": [
    "A = Matrix([[1, a, a ** 2], [1, b, b ** 2], [1, c, c ** 2]])\n",
    "A"
   ]
  },
  {
   "cell_type": "markdown",
   "metadata": {},
   "source": [
    "#### Solution"
   ]
  },
  {
   "cell_type": "markdown",
   "metadata": {},
   "source": [
    "* Subtracting constant multiple of row 1 from rows 2 and three and expanding the elements\n",
    "$$ =\\begin{vmatrix} 1 & a & { a }^{ 2 } \\\\ 0 & b-a & { b }^{ 2 }-{ a }^{ 2 } \\\\ 0 & c-a & { c }^{ 2 }-{ a }^{ 2 } \\end{vmatrix}\\\\ =\\begin{vmatrix} 1 & a & { a }^{ 2 } \\\\ 0 & b-a & \\left( b-a \\right) \\left( b+a \\right)  \\\\ 0 & c-a & \\left( c-a \\right) \\left( c+a \\right)  \\end{vmatrix} $$\n",
    "* Using property three that states that the determinant is a linear property of each row\n",
    "$$ =\\left( b-a \\right) \\left( c-a \\right) =\\begin{vmatrix} 1 & a & { a }^{ 2 } \\\\ 0 & 1 & \\left( b+a \\right)  \\\\ 0 & 1 & \\left( c+a \\right)  \\end{vmatrix} $$\n",
    "* Another elimination on row three\n",
    "$$ \\left( b-a \\right) \\left( c-a \\right) =\\begin{vmatrix} 1 & a & { a }^{ 2 } \\\\ 0 & 1 & \\left( b+a \\right)  \\\\ 0 & 1 & \\left( c+a \\right)  \\end{vmatrix} $$\n",
    "* Now we have upper triangular form and the determinant is the product of the elements in the main diagonal and also multiplying the (*b*-*a*)(*c*-*a*)\n",
    "$$ =\\left( b-a \\right) \\left( c-a \\right) \\left( b-c \\right)  $$"
   ]
  },
  {
   "cell_type": "code",
   "execution_count": 8,
   "metadata": {
    "collapsed": false
   },
   "outputs": [
    {
     "data": {
      "text/latex": [
       "$$- \\left(a - b\\right) \\left(a - c\\right) \\left(b - c\\right)$$"
      ],
      "text/plain": [
       "-(a - b)⋅(a - c)⋅(b - c)"
      ]
     },
     "execution_count": 8,
     "metadata": {},
     "output_type": "execute_result"
    }
   ],
   "source": [
    "(A.det()).factor() # Calculating the determinant and factorizing the result"
   ]
  },
  {
   "cell_type": "markdown",
   "metadata": {},
   "source": [
    "* This is called a Vandermonde matrix\n",
    "* http://en.wikipedia.org/wiki/Vandermonde_matrix"
   ]
  },
  {
   "cell_type": "markdown",
   "metadata": {},
   "source": [
    "### Example problem 3"
   ]
  },
  {
   "cell_type": "code",
   "execution_count": 9,
   "metadata": {
    "collapsed": false
   },
   "outputs": [
    {
     "data": {
      "text/latex": [
       "$$\\left[\\begin{matrix}1 & -4 & 5\\\\2 & -8 & 10\\\\3 & -12 & 15\\end{matrix}\\right]$$"
      ],
      "text/plain": [
       "⎡1  -4   5 ⎤\n",
       "⎢          ⎥\n",
       "⎢2  -8   10⎥\n",
       "⎢          ⎥\n",
       "⎣3  -12  15⎦"
      ]
     },
     "execution_count": 9,
     "metadata": {},
     "output_type": "execute_result"
    }
   ],
   "source": [
    "A = Matrix([1, 2, 3]) * Matrix([[1, -4, 5]])\n",
    "A"
   ]
  },
  {
   "cell_type": "markdown",
   "metadata": {},
   "source": [
    "#### Solution"
   ]
  },
  {
   "cell_type": "markdown",
   "metadata": {},
   "source": [
    "* The rows of the resultant 3&#215;3 matrix is linearly dependent, i.e. they are 1 times the row (1,-4,5), then twice this same row for row two and lastly three times the same row for row three\n",
    "* This means that the determinant will be zero"
   ]
  },
  {
   "cell_type": "code",
   "execution_count": 10,
   "metadata": {
    "collapsed": false
   },
   "outputs": [
    {
     "data": {
      "text/latex": [
       "$$0$$"
      ],
      "text/plain": [
       "0"
      ]
     },
     "execution_count": 10,
     "metadata": {},
     "output_type": "execute_result"
    }
   ],
   "source": [
    "A.det()"
   ]
  },
  {
   "cell_type": "markdown",
   "metadata": {},
   "source": [
    "### Example problem 4"
   ]
  },
  {
   "cell_type": "code",
   "execution_count": 11,
   "metadata": {
    "collapsed": false
   },
   "outputs": [
    {
     "data": {
      "text/latex": [
       "$$\\left[\\begin{matrix}0 & 1 & 3\\\\-1 & 0 & 4\\\\-3 & -4 & 0\\end{matrix}\\right]$$"
      ],
      "text/plain": [
       "⎡0   1   3⎤\n",
       "⎢         ⎥\n",
       "⎢-1  0   4⎥\n",
       "⎢         ⎥\n",
       "⎣-3  -4  0⎦"
      ]
     },
     "execution_count": 11,
     "metadata": {},
     "output_type": "execute_result"
    }
   ],
   "source": [
    "A = Matrix([[0, 1, 3], [-1, 0, 4], [-3, -4, 0]])\n",
    "A"
   ]
  },
  {
   "cell_type": "markdown",
   "metadata": {},
   "source": [
    "#### Solution"
   ]
  },
  {
   "cell_type": "markdown",
   "metadata": {},
   "source": [
    "* Note how this matrix is *skew* symmetric\n",
    "* This means that A<sup>T</sup>=-A\n",
    "* With the matrices A<sup>T</sup> and -A being equal, their determinant are equal\n",
    "* Remember, though that the determinant of a matrix is the same as the determinant of the transpose of the matrix\n",
    "$$ \\left| A \\right| =\\left| { A }^{ T } \\right| =\\left| -A \\right| ={ \\left( -1 \\right)  }^{ 3 }\\left| A \\right| =-\\left| A \\right| \\\\ \\left| A \\right| =-\\left| A \\right| \\\\ \\therefore \\quad \\left| A \\right| =0 $$"
   ]
  },
  {
   "cell_type": "code",
   "execution_count": 12,
   "metadata": {
    "collapsed": false
   },
   "outputs": [
    {
     "data": {
      "text/latex": [
       "$$0$$"
      ],
      "text/plain": [
       "0"
      ]
     },
     "execution_count": 12,
     "metadata": {},
     "output_type": "execute_result"
    }
   ],
   "source": [
    "A.det()"
   ]
  },
  {
   "cell_type": "markdown",
   "metadata": {},
   "source": [
    "* Not all skew symmetric matrices have a zero determinant\n",
    "* It only works because *n* is odd for this size matrix being 3&#215;3 allowing for the negative"
   ]
  },
  {
   "cell_type": "code",
   "execution_count": null,
   "metadata": {
    "collapsed": true
   },
   "outputs": [],
   "source": []
  }
 ],
 "metadata": {
  "kernelspec": {
   "display_name": "Python 3",
   "language": "python",
   "name": "python3"
  },
  "language_info": {
   "codemirror_mode": {
    "name": "ipython",
    "version": 3
   },
   "file_extension": ".py",
   "mimetype": "text/x-python",
   "name": "python",
   "nbconvert_exporter": "python",
   "pygments_lexer": "ipython3",
   "version": "3.4.3"
  }
 },
 "nbformat": 4,
 "nbformat_minor": 0
}
