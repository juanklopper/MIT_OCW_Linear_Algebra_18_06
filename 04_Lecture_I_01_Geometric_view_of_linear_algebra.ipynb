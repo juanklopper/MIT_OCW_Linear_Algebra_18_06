{
 "cells": [
  {
   "cell_type": "markdown",
   "metadata": {},
   "source": [
    "+ This notebook is part of the lecture **GEOMETRIC VIEW OF LINEAR ALGEBRA** in the OCW MIT course 18.06 by Prof Gilbert Strang [1]\n",
    "+ Created Dr J H Klopper\n",
    "    + Associate Professor\n",
    "    + Department of Biostatistics and Bioinformatics\n",
    "    + Milken Institute School of Public Health\n",
    "    + The George Washington University\n",
    "    + <a href=\"mailto:juanklopper@gwu.edu\">Email me with your thoughts, comments, suggestions and corrections</a> \n",
    "<a rel=\"license\" href=\"http://creativecommons.org/licenses/by-nc/4.0/\"><img alt=\"Creative Commons Licence\" style=\"border-width:0\" src=\"https://i.creativecommons.org/l/by-nc/4.0/88x31.png\" /></a><br /><span xmlns:dct=\"http://purl.org/dc/terms/\" href=\"http://purl.org/dc/dcmitype/InteractiveResource\" property=\"dct:title\" rel=\"dct:type\">Linear Algebra OCW MIT18.06</span> <span xmlns:cc=\"http://creativecommons.org/ns#\" property=\"cc:attributionName\">Jupyter notebook study notes by Dr Juan H Klopper</span> is licensed under a <a rel=\"license\" href=\"http://creativecommons.org/licenses/by-nc/4.0/\">Creative Commons Attribution-NonCommercial 4.0 International License</a>.\n",
    "\n",
    "+ [1] <a href=\"https://ocw.mit.edu/courses/18-06-linear-algebra-spring-2010/video_galleries/video-lectures/\">OCW MIT 18.06</a>"
   ]
  },
  {
   "cell_type": "markdown",
   "metadata": {},
   "source": [
    "![GWU LOGO](GWU_Logo_Horizontal.png)"
   ]
  },
  {
   "cell_type": "markdown",
   "metadata": {},
   "source": [
    "# Geometrical view"
   ]
  },
  {
   "cell_type": "markdown",
   "metadata": {},
   "source": [
    "## Preamble"
   ]
  },
  {
   "cell_type": "markdown",
   "metadata": {},
   "source": [
    "The initial exploration of linear algebra is done in the context of linear equations and vectors in two- and three-dimensional space.  This is a geometrical view of linear algebra."
   ]
  },
  {
   "cell_type": "markdown",
   "metadata": {},
   "source": [
    "## System of linear equations"
   ]
  },
  {
   "cell_type": "markdown",
   "metadata": {},
   "source": [
    "Most courses and textbooks introduce linear algebra as a method of solving systems of linear equations.  <span style=\"color:green\"><b>Linear equations</b></span> have variables that are each of power one, do not multiply or divide each other, are not transformed by trigonometric, exponential, and logarithmic functions, and are not part of derivatives, integrals, or any othe roperations.  Examples are shown in (1) below."
   ]
  },
  {
   "cell_type": "markdown",
   "metadata": {},
   "source": [
    "$$ \\begin{align} {2x}-{y}&={3} \\\\ -{x} + 2{y} &= {0} \\end{align} \\tag{1} $$"
   ]
  },
  {
   "cell_type": "markdown",
   "metadata": {},
   "source": [
    "<span style=\"color:green\"><b>System of linear equations</b></span> or <span style=\"color:green\"><b>linear system</b></span> is a collection of linear equations involving the same set of variables. Solving systems of linear equations attempts at finding numerical solutions for the variables that solve all the equations in the linear system.  A solution to (1) is shown in (2) below."
   ]
  },
  {
   "cell_type": "markdown",
   "metadata": {},
   "source": [
    "$$\\begin{align}2 &\\left( 2 \\right) - 1 \\left( 1 \\right) = 3 \\\\ - &\\left( 2 \\right) + 2 \\left( 1 \\right) = 0\\end{align}\\tag{2}$$"
   ]
  },
  {
   "cell_type": "markdown",
   "metadata": {},
   "source": [
    "We note from (2) that $x=2$ and $y=1$. This is the solution to the linear system in (1).  The solution to a linear system is the set of values for the variables that satisfies all the equations in the linear system.  The solution to a linear system is also called a <span style=\"color:green\"><b>root</b></span> or <span style=\"color:green\"><b>solution set</b></span>."
   ]
  },
  {
   "cell_type": "markdown",
   "metadata": {},
   "source": [
    "The linear system in (1) can be written as a matrix using only the coefficients of the variables toghether with the constants on the right-hand side of the equations. Such a matrix that includes the right-hand side constants is termed an <span style=\"color:green\"><b>augmented matrix</b></span>."
   ]
  },
  {
   "cell_type": "markdown",
   "metadata": {},
   "source": [
    "We can create an augmented matrix from the system in (1).  To do this, we create a matrix of coefficients, including those from both sides of the equations.  We store the matrix as a computer variable called `A_augm` using the `Matrix` function from the `sympy` package, which we import in the code cell below."
   ]
  },
  {
   "cell_type": "code",
   "execution_count": 1,
   "metadata": {},
   "outputs": [],
   "source": [
    "from sympy import Matrix"
   ]
  },
  {
   "cell_type": "code",
   "execution_count": 2,
   "metadata": {},
   "outputs": [
    {
     "data": {
      "text/latex": [
       "$\\displaystyle \\left[\\begin{matrix}2 & -1 & 3\\\\-1 & 2 & 0\\end{matrix}\\right]$"
      ],
      "text/plain": [
       "Matrix([\n",
       "[ 2, -1, 3],\n",
       "[-1,  2, 0]])"
      ]
     },
     "execution_count": 2,
     "metadata": {},
     "output_type": "execute_result"
    }
   ],
   "source": [
    "A_augm = Matrix([[2, -1, 3], [-1, 2, 0]]) # Note the placement of ()'s and []'s\n",
    "A_augm # A_augm is a computer variable that contains the matrix"
   ]
  },
  {
   "cell_type": "markdown",
   "metadata": {},
   "source": [
    "With two equations and two unknowns (variables $x$ and $y$), together with the right-hand side constants, we see an array of values along two rows and three columns, written in a set of brackets. Some textbooks use parentheses instead of brackets."
   ]
  },
  {
   "cell_type": "markdown",
   "metadata": {},
   "source": [
    "Because `A_augm` was created using the `Matrix()` function from `sympy`, it is an instance of this type.  The `type()` indicates it more specificically as a _mutable, dense matrix_."
   ]
  },
  {
   "cell_type": "code",
   "execution_count": 43,
   "metadata": {},
   "outputs": [
    {
     "data": {
      "text/plain": [
       "sympy.matrices.dense.MutableDenseMatrix"
      ]
     },
     "execution_count": 43,
     "metadata": {},
     "output_type": "execute_result"
    }
   ],
   "source": [
    "# We can ask python what type of computer variable A_augm holds\n",
    "type(A_augm)  # We see that it is a mutable dense matrix"
   ]
  },
  {
   "cell_type": "markdown",
   "metadata": {},
   "source": [
    "Mutable means that we can change the values of the elements (coefficients in this case) and dense because the value of each position in the matrix is stored.  (When there are many zeros, a sparse matrix can be created, that only stores the values that are not zero and their positions.)"
   ]
  },
  {
   "cell_type": "markdown",
   "metadata": {},
   "source": [
    "We can also create a <span style=\"color:green\"><b>matrix of coefficients</b></span>.  It includes only the left-hand side coefficients and because there are two equations and two unknows, the result is a matrix along two rows and two columns. We state the the shape of the matrix is $2 \\times 2$. We create the matrix of coefficients for the linear system in (1) using the `Matrix` function and assign the matrix to the variable `A`."
   ]
  },
  {
   "cell_type": "code",
   "execution_count": 5,
   "metadata": {},
   "outputs": [
    {
     "data": {
      "text/latex": [
       "$\\displaystyle \\left[\\begin{matrix}2 & -1\\\\-1 & 2\\end{matrix}\\right]$"
      ],
      "text/plain": [
       "Matrix([\n",
       "[ 2, -1],\n",
       "[-1,  2]])"
      ]
     },
     "execution_count": 5,
     "metadata": {},
     "output_type": "execute_result"
    }
   ],
   "source": [
    "A = Matrix([[2, -1], [-1, 2]])  # Matrix of coefficients\n",
    "A"
   ]
  },
  {
   "cell_type": "markdown",
   "metadata": {},
   "source": [
    "The variables (unknowns) can be expressed as a column vector, saved as the computer variable `x_vect` below.  First, we specify the variable `x`, and `y` as mathematical variables using the `symbols` function, which we import below."
   ]
  },
  {
   "cell_type": "code",
   "execution_count": 8,
   "metadata": {},
   "outputs": [],
   "source": [
    "from sympy import symbols"
   ]
  },
  {
   "cell_type": "markdown",
   "metadata": {},
   "source": [
    "We create the mathematical variable $x$ and $y$ and assign them to the computer variable `x` and `y`."
   ]
  },
  {
   "cell_type": "code",
   "execution_count": 9,
   "metadata": {},
   "outputs": [],
   "source": [
    "x, y = symbols('x y') # Creating symbolic mathematical variables as opposed to computer variables\n",
    "# These symbols can no longer be used as computer variable names"
   ]
  },
  {
   "cell_type": "code",
   "execution_count": 10,
   "metadata": {},
   "outputs": [
    {
     "data": {
      "text/latex": [
       "$\\displaystyle \\left[\\begin{matrix}x\\\\y\\end{matrix}\\right]$"
      ],
      "text/plain": [
       "Matrix([\n",
       "[x],\n",
       "[y]])"
      ]
     },
     "execution_count": 10,
     "metadata": {},
     "output_type": "execute_result"
    }
   ],
   "source": [
    "x_vect = Matrix([x, y])\n",
    "x_vect"
   ]
  },
  {
   "cell_type": "markdown",
   "metadata": {},
   "source": [
    "The same goes for the column vector of solutions, saved as the computer variable `b_vect`."
   ]
  },
  {
   "cell_type": "code",
   "execution_count": 11,
   "metadata": {},
   "outputs": [
    {
     "data": {
      "text/latex": [
       "$\\displaystyle \\left[\\begin{matrix}3\\\\0\\end{matrix}\\right]$"
      ],
      "text/plain": [
       "Matrix([\n",
       "[3],\n",
       "[0]])"
      ]
     },
     "execution_count": 11,
     "metadata": {},
     "output_type": "execute_result"
    }
   ],
   "source": [
    "b_vect = Matrix([3, 0])\n",
    "b_vect"
   ]
  },
  {
   "cell_type": "markdown",
   "metadata": {},
   "source": [
    "In (3) we see the matrix times the column vector results in the vector of solutions.  The (row, column) sizes are also shown. Note that matrices are ususally written as uppercase letters and that vector are written as lowercase letters in bold-face type."
   ]
  },
  {
   "cell_type": "markdown",
   "metadata": {},
   "source": [
    "$$ \\begin{align} A_{2 \\times 2} \\quad \\mathbf{x}_{2 \\times 1} = \\mathbf{b}_{2 \\times 1} \\\\ \\\\ \\begin{bmatrix} 2 && -1 \\\\ -1 && 2 \\end{bmatrix} \\begin{bmatrix} x \\\\ y\\end{bmatrix} = \\begin{bmatrix} 3 \\\\ 0 \\end{bmatrix} \\end{align} \\tag{3}$$"
   ]
  },
  {
   "cell_type": "markdown",
   "metadata": {},
   "source": [
    "Since we created the matrix of coefficients `A` and the vector of unknowns `x_vect`, we can use Python to show the result of this multiplication."
   ]
  },
  {
   "cell_type": "code",
   "execution_count": 14,
   "metadata": {},
   "outputs": [
    {
     "data": {
      "text/latex": [
       "$\\displaystyle \\left[\\begin{matrix}2 x - y\\\\- x + 2 y\\end{matrix}\\right]$"
      ],
      "text/plain": [
       "Matrix([\n",
       "[ 2*x - y],\n",
       "[-x + 2*y]])"
      ]
     },
     "execution_count": 14,
     "metadata": {},
     "output_type": "execute_result"
    }
   ],
   "source": [
    "A * x_vect # Matrix multiplication"
   ]
  },
  {
   "cell_type": "markdown",
   "metadata": {},
   "source": [
    "The result is the left-hand side of the linear system in (1)."
   ]
  },
  {
   "cell_type": "markdown",
   "metadata": {},
   "source": [
    "The `Eq` function in `sympy` is used below to create the matrix times the vector on the left-hand side (resulting in a column vector) and the solution vector on the right.  It gives a visual idea of how we use linear algebra to solve these systems."
   ]
  },
  {
   "cell_type": "code",
   "execution_count": 12,
   "metadata": {},
   "outputs": [],
   "source": [
    "from sympy import Eq"
   ]
  },
  {
   "cell_type": "code",
   "execution_count": 13,
   "metadata": {},
   "outputs": [
    {
     "data": {
      "text/latex": [
       "$\\displaystyle \\left[\\begin{matrix}2 x - y\\\\- x + 2 y\\end{matrix}\\right] = \\left[\\begin{matrix}3\\\\0\\end{matrix}\\right]$"
      ],
      "text/plain": [
       "Eq(Matrix([\n",
       "[ 2*x - y],\n",
       "[-x + 2*y]]), Matrix([\n",
       "[3],\n",
       "[0]]))"
      ]
     },
     "execution_count": 13,
     "metadata": {},
     "output_type": "execute_result"
    }
   ],
   "source": [
    "Eq(A * x_vect, b_vect) # From Ax = b\n",
    "# The Eq function takes the arguments left-hand-side (LHS), right-handside (RHS) of the equation"
   ]
  },
  {
   "cell_type": "markdown",
   "metadata": {},
   "source": [
    "## The row picture"
   ]
  },
  {
   "cell_type": "markdown",
   "metadata": {},
   "source": [
    "Each linear equation in (1) is an equation of a straight line.  This represents the __row picture__ of a linear system.  The solutions to both equations is at the point where the lines in the plane intersect.  Take a look at the plot below. Don't be too concerned about the code for plotting.  It does not form part of this series of notebooks."
   ]
  },
  {
   "cell_type": "code",
   "execution_count": 15,
   "metadata": {},
   "outputs": [],
   "source": [
    "import numpy as np\n",
    "%matplotlib inline\n",
    "import matplotlib.pyplot as plt"
   ]
  },
  {
   "cell_type": "code",
   "execution_count": 25,
   "metadata": {},
   "outputs": [
    {
     "data": {
      "image/png": "[encoded data removed]",
      "text/plain": [
       "<Figure size 1000x800 with 1 Axes>"
      ]
     },
     "metadata": {},
     "output_type": "display_data"
    }
   ],
   "source": [
    "x_vals = np.linspace(-3, 3, 100) # Create 100 values between -3 and 3\n",
    "# Note that we cannot use the computer variable x, because it has been reserved above as a mathematical variable in\n",
    "# the symbols function\n",
    "plt.figure(figsize = (10,8)) # Create a graph of size 10 by 8\n",
    "plt.plot(x_vals, 2 * x_vals - 3) # Plot every single value created above with 2 times that values\n",
    "# Taken from the first equation which was y = 2x or f(x) = 2x\n",
    "# The plot takes the arguments (code between parentheses) of x,y\n",
    "plt.plot(x_vals, ((x_vals / 2))) # Also plot the second equation\n",
    "plt.grid(True) # Add a grid to the plot\n",
    "# Set the x limits to -1 and 3\n",
    "plt.xlim([-1, 3]) # Set the x limits to -1 and 4\n",
    "#Set the y limit to -6 to 3\n",
    "plt.ylim([-6, 3]) # Set the y limit to -6 to 3\n",
    "# Remove the spines\n",
    "ax = plt.gca() # Get current axes\n",
    "ax.spines['top'].set_visible(False) # Remove top spine\n",
    "ax.spines['right'].set_visible(False) # Remove right spine\n",
    "ax.spines['bottom'].set_position('zero') # Move bottom spine to zero\n",
    "ax.spines['left'].set_position('zero') # Move left spine to zero\n",
    "# Add a horizontal line at y = 0\n",
    "plt.axhline(y = 0, color = 'k') # Add a horizontal line at y = 0\n",
    "# Add a vertical line at x = 0\n",
    "plt.axvline(x = 0, color = 'k') # Add a vertical line at x = 0\n",
    "# Add the equations to the plot\n",
    "plt.text(1, 1, r'$y = 2x - 3$', fontsize = 12) # Add the first equation\n",
    "plt.text(2.6, 0.7, r'$y = \\frac{x}{2}$', fontsize = 12) # Add the second equation\n",
    "plt.show; # Draw the plot on screen"
   ]
  },
  {
   "cell_type": "markdown",
   "metadata": {},
   "source": [
    "We note that the two line intersect at the point $\\left( 2, 1 \\right)$.  It should be clear that there are three possible outcomes for a system with two variables and two equations.  Either the lines intersect with a single solution, or they do not intersect at all (parallel lines), with no solutions, or they coincide, with infinitely many solutions."
   ]
  },
  {
   "cell_type": "markdown",
   "metadata": {},
   "source": [
    "## The column picture"
   ]
  },
  {
   "cell_type": "markdown",
   "metadata": {},
   "source": [
    "We can view the same system as a vector problem.  Here the coefficients of each separate variable as a column vector.  This problem now becomes a linear combination of vectors.  We are thus asking how many (scalar multiplication) of one vector plus how many of the other vector will equal the vector on the right hand side.  This should be clear from (4) below."
   ]
  },
  {
   "cell_type": "markdown",
   "metadata": {},
   "source": [
    "$$ x\\begin{bmatrix} 2 \\\\ -1 \\end{bmatrix}+y\\begin{bmatrix} -1 \\\\ 2 \\end{bmatrix}=\\begin{bmatrix} 3 \\\\ 0 \\end{bmatrix} \\tag{4}$$"
   ]
  },
  {
   "cell_type": "markdown",
   "metadata": {},
   "source": [
    "As before, we create separate computer variables and show that the end-result is the same."
   ]
  },
  {
   "cell_type": "code",
   "execution_count": 53,
   "metadata": {},
   "outputs": [
    {
     "data": {
      "text/latex": [
       "$\\displaystyle \\left[\\begin{matrix}2\\\\-1\\end{matrix}\\right]$"
      ],
      "text/plain": [
       "Matrix([\n",
       "[ 2],\n",
       "[-1]])"
      ]
     },
     "execution_count": 53,
     "metadata": {},
     "output_type": "execute_result"
    }
   ],
   "source": [
    "x_var_vect = Matrix([2, -1])\n",
    "x_var_vect"
   ]
  },
  {
   "cell_type": "code",
   "execution_count": 54,
   "metadata": {},
   "outputs": [
    {
     "data": {
      "text/latex": [
       "$\\displaystyle \\left[\\begin{matrix}-1\\\\2\\end{matrix}\\right]$"
      ],
      "text/plain": [
       "Matrix([\n",
       "[-1],\n",
       "[ 2]])"
      ]
     },
     "execution_count": 54,
     "metadata": {},
     "output_type": "execute_result"
    }
   ],
   "source": [
    "y_var_vect = Matrix([-1, 2])\n",
    "y_var_vect"
   ]
  },
  {
   "cell_type": "code",
   "execution_count": 55,
   "metadata": {},
   "outputs": [
    {
     "data": {
      "text/latex": [
       "$\\displaystyle \\left[\\begin{matrix}2 x - y\\\\- x + 2 y\\end{matrix}\\right] = \\left[\\begin{matrix}3\\\\0\\end{matrix}\\right]$"
      ],
      "text/plain": [
       "Eq(Matrix([\n",
       "[ 2*x - y],\n",
       "[-x + 2*y]]), Matrix([\n",
       "[3],\n",
       "[0]]))"
      ]
     },
     "execution_count": 55,
     "metadata": {},
     "output_type": "execute_result"
    }
   ],
   "source": [
    "Eq(x * x_var_vect + y * y_var_vect, b_vect)"
   ]
  },
  {
   "cell_type": "markdown",
   "metadata": {},
   "source": [
    "In the image below, we see the two vectors (blue and green) and the resultant vector (orange)."
   ]
  },
  {
   "cell_type": "code",
   "execution_count": 70,
   "metadata": {},
   "outputs": [
    {
     "data": {
      "image/png": "[encoded data removed]",
      "text/plain": [
       "<Figure size 432x288 with 1 Axes>"
      ]
     },
     "metadata": {
      "needs_background": "light"
     },
     "output_type": "display_data"
    }
   ],
   "source": [
    "ax = plt.axes()\n",
    "\n",
    "ax.arrow(0.0, 0.0, 2.0, -1.0,\n",
    "        length_includes_head=True,\n",
    "        head_width=0.5,\n",
    "         head_length=0.7,\n",
    "         fc='lightblue',\n",
    "         ec='black')\n",
    "ax.arrow(0.0, 0.0, -1.0, 2.0,\n",
    "        length_includes_head=True,\n",
    "        head_width=0.5,\n",
    "        head_length=0.7,\n",
    "        fc='lightgreen',\n",
    "        ec='black')\n",
    "ax.arrow(0.0, 0.0, 3.0, 0.0,\n",
    "        length_includes_head=True,\n",
    "        head_width=0.5,\n",
    "         head_length=0.7,\n",
    "         fc='orange',\n",
    "         ec='black')\n",
    "\n",
    "plt.grid()\n",
    "\n",
    "plt.xlim(-5,5)\n",
    "plt.ylim(-5,5)\n",
    "\n",
    "plt.title('Vector view',fontsize=10)\n",
    "\n",
    "plt.show();"
   ]
  },
  {
   "cell_type": "markdown",
   "metadata": {},
   "source": [
    "We know that it takes twice the blue vector and one time the green vector to give us the orange vector."
   ]
  },
  {
   "cell_type": "code",
   "execution_count": 69,
   "metadata": {},
   "outputs": [
    {
     "data": {
      "image/png": "[encoded data removed]",
      "text/plain": [
       "<Figure size 432x288 with 1 Axes>"
      ]
     },
     "metadata": {
      "needs_background": "light"
     },
     "output_type": "display_data"
    }
   ],
   "source": [
    "ax = plt.axes()\n",
    "\n",
    "ax.arrow(0.0, 0.0, 2.0, -1.0,\n",
    "        length_includes_head=True,\n",
    "        head_width=0.5,\n",
    "         head_length=0.7,\n",
    "         fc='lightblue',\n",
    "         ec='black')\n",
    "ax.arrow(2.0, -1.0, 2.0, -1.0,\n",
    "        length_includes_head=True,\n",
    "        head_width=0.5,\n",
    "         head_length=0.7,\n",
    "         fc='lightblue',\n",
    "         ec='black')\n",
    "\n",
    "ax.arrow(4.0, -2.0, -1.0, 2.0,\n",
    "        length_includes_head=True,\n",
    "        head_width=0.5,\n",
    "        head_length=0.7,\n",
    "        fc='lightgreen',\n",
    "        ec='black')\n",
    "ax.arrow(0.0, 0.0, 3.0, 0.0,\n",
    "        length_includes_head=True,\n",
    "        head_width=0.5,\n",
    "         head_length=0.7,\n",
    "         fc='orange',\n",
    "         ec='black')\n",
    "\n",
    "plt.grid()\n",
    "\n",
    "plt.xlim(-5,5)\n",
    "plt.ylim(-5,5)\n",
    "\n",
    "plt.title('Vector view',fontsize=10)\n",
    "\n",
    "plt.show();"
   ]
  },
  {
   "cell_type": "markdown",
   "metadata": {},
   "source": [
    "It should be very clear that the two vectors are special in that linear combinations of them will allow us to fill a plane in $\\mathbb{R}^{2}$ (in which they both lie)."
   ]
  },
  {
   "cell_type": "markdown",
   "metadata": {},
   "source": [
    "It should also be clear to see that these two vectors are not linear combinations of each other.  If this were so, they are linearly independent and linear combinations of them fill only a line in $\\mathbb{R}$. "
   ]
  },
  {
   "cell_type": "markdown",
   "metadata": {},
   "source": [
    "We can imagine that the $xy$-plane is filled with (all the points are created by) vectors, i.e. I can find any coordinate by drawing a vector to it.  All these vectors together can be called a _set_ and they fill $\\mathbb{R}^{2}$.  Later we will learn about _basis vectors_ and how they _span_ a space."
   ]
  },
  {
   "cell_type": "markdown",
   "metadata": {},
   "source": [
    "## The 3-space picture"
   ]
  },
  {
   "cell_type": "markdown",
   "metadata": {},
   "source": [
    "To end this section, we take a look at the three equation with three variables."
   ]
  },
  {
   "cell_type": "markdown",
   "metadata": {},
   "source": [
    "$$ \\begin{align} {3x}+{2y}-{z}&=2 \\\\ {x}-{2y}-{z}&=3 \\\\ {2x}+{y}-{z}&={1} \\end{align} \\tag{5}$$"
   ]
  },
  {
   "cell_type": "markdown",
   "metadata": {},
   "source": [
    "We can create an augmented matrix from the coefficents, stored in the computer variable `A_augm` below."
   ]
  },
  {
   "cell_type": "code",
   "execution_count": 30,
   "metadata": {},
   "outputs": [
    {
     "data": {
      "text/latex": [
       "$\\displaystyle \\left[\\begin{matrix}3 & 2 & -1 & 2\\\\1 & -2 & -1 & 3\\\\2 & 1 & -1 & 1\\end{matrix}\\right]$"
      ],
      "text/plain": [
       "Matrix([\n",
       "[3,  2, -1, 2],\n",
       "[1, -2, -1, 3],\n",
       "[2,  1, -1, 1]])"
      ]
     },
     "execution_count": 30,
     "metadata": {},
     "output_type": "execute_result"
    }
   ],
   "source": [
    "A_augm = Matrix([[3, 2, -1, 2], [1, -2, -1, 3], [2, 1, -1, 1]])\n",
    "A_augm"
   ]
  },
  {
   "cell_type": "markdown",
   "metadata": {},
   "source": [
    "The `.rref()` method will quickly solve the linear system for use."
   ]
  },
  {
   "cell_type": "code",
   "execution_count": 31,
   "metadata": {},
   "outputs": [
    {
     "data": {
      "text/plain": [
       "(Matrix([\n",
       " [1, 0, 0,  5/2],\n",
       " [0, 1, 0, -3/2],\n",
       " [0, 0, 1,  5/2]]), (0, 1, 2))"
      ]
     },
     "execution_count": 31,
     "metadata": {},
     "output_type": "execute_result"
    }
   ],
   "source": [
    "A_augm.rref()"
   ]
  },
  {
   "cell_type": "markdown",
   "metadata": {},
   "source": [
    "The solution is where three planes in $\\mathbb{R}^{3}$ _cross_.  We can once again imagine that the planes (each equation) may never cross or lie on-top of each other.  Below is an image of three planes crossing at one point."
   ]
  },
  {
   "cell_type": "code",
   "execution_count": 33,
   "metadata": {},
   "outputs": [],
   "source": [
    "from sympy.plotting import plot3d"
   ]
  },
  {
   "cell_type": "code",
   "execution_count": 35,
   "metadata": {},
   "outputs": [
    {
     "data": {
      "image/png": "[encoded data removed]",
      "text/plain": [
       "<Figure size 432x288 with 1 Axes>"
      ]
     },
     "metadata": {
      "needs_background": "light"
     },
     "output_type": "display_data"
    }
   ],
   "source": [
    "plot3d((3*x+2*y-2, (x,-5,5), (y,-5,5)),\n",
    "      (x-2*y-3, (x,-5,5), (y,-5,5)),\n",
    "      (2*x+y-1, (x,-5,5), (y,-5,5)));"
   ]
  },
  {
   "cell_type": "markdown",
   "metadata": {},
   "source": [
    "As before, we can view this problem as a column picture."
   ]
  },
  {
   "cell_type": "markdown",
   "metadata": {},
   "source": [
    "## Conclusion"
   ]
  },
  {
   "cell_type": "markdown",
   "metadata": {},
   "source": [
    "We have seen how linear systems can be viewed as rows or columns and how they can be seen as matrices and vectors."
   ]
  },
  {
   "cell_type": "code",
   "execution_count": null,
   "metadata": {},
   "outputs": [],
   "source": []
  }
 ],
 "metadata": {
  "kernelspec": {
   "display_name": "Python 3",
   "language": "python",
   "name": "python3"
  },
  "language_info": {
   "codemirror_mode": {
    "name": "ipython",
    "version": 3
   },
   "file_extension": ".py",
   "mimetype": "text/x-python",
   "name": "python",
   "nbconvert_exporter": "python",
   "pygments_lexer": "ipython3",
   "version": "3.10.9"
  }
 },
 "nbformat": 4,
 "nbformat_minor": 1
}
