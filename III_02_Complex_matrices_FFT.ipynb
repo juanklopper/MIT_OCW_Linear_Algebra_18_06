{
 "cells": [
  {
   "cell_type": "markdown",
   "metadata": {},
   "source": [
    "+ This notebook is part of lecture 26 *Complex matrices and the fast Fourier transform* in the OCW MIT course 18.06 by Prof Gilbert Strang [1]\n",
    "+ Created by me, Dr Juan H Klopper\n",
    "    + Head of Acute Care Surgery\n",
    "    + Groote Schuur Hospital\n",
    "    + University Cape Town\n",
    "    + <a href=\"mailto:juan.klopper@uct.ac.za\">Email me with your thoughts, comments, suggestions and corrections</a> \n",
    "<a rel=\"license\" href=\"http://creativecommons.org/licenses/by-nc/4.0/\"><img alt=\"Creative Commons Licence\" style=\"border-width:0\" src=\"https://i.creativecommons.org/l/by-nc/4.0/88x31.png\" /></a><br /><span xmlns:dct=\"http://purl.org/dc/terms/\" href=\"http://purl.org/dc/dcmitype/InteractiveResource\" property=\"dct:title\" rel=\"dct:type\">Linear Algebra OCW MIT18.06</span> <span xmlns:cc=\"http://creativecommons.org/ns#\" property=\"cc:attributionName\">IPython notebook [2] study notes by Dr Juan H Klopper</span> is licensed under a <a rel=\"license\" href=\"http://creativecommons.org/licenses/by-nc/4.0/\">Creative Commons Attribution-NonCommercial 4.0 International License</a>.\n",
    "\n",
    "+ [1] <a href=\"http://ocw.mit.edu/courses/mathematics/18-06sc-linear-algebra-fall-2011/index.htm\">OCW MIT 18.06</a>\n",
    "+ [2] Fernando Pérez, Brian E. Granger, IPython: A System for Interactive Scientific Computing, Computing in Science and Engineering, vol. 9, no. 3, pp. 21-29, May/June 2007, doi:10.1109/MCSE.2007.53. URL: http://ipython.org"
   ]
  },
  {
   "cell_type": "code",
   "execution_count": 1,
   "metadata": {
    "collapsed": false
   },
   "outputs": [
    {
     "data": {
      "text/html": [
       "<link href='http://fonts.googleapis.com/css?family=Alegreya+Sans:100,300,400,500,700,800,900,100italic,300italic,400italic,500italic,700italic,800italic,900italic' rel='stylesheet' type='text/css'>\n",
       "<link href='http://fonts.googleapis.com/css?family=Arvo:400,700,400italic' rel='stylesheet' type='text/css'>\n",
       "<link href='http://fonts.googleapis.com/css?family=PT+Mono' rel='stylesheet' type='text/css'>\n",
       "<link href='http://fonts.googleapis.com/css?family=Shadows+Into+Light' rel='stylesheet' type='text/css'>\n",
       "<link href='http://fonts.googleapis.com/css?family=Philosopher:400,700,400italic,700italic' rel='stylesheet' type='text/css'>\n",
       "\n",
       "<style>\n",
       "\n",
       "@font-face {\n",
       "    font-family: \"Computer Modern\";\n",
       "    src: url('http://mirrors.ctan.org/fonts/cm-unicode/fonts/otf/cmunss.otf');\n",
       "}\n",
       "\n",
       "#notebook_panel { /* main background */\n",
       "    background: #ddd;\n",
       "    color: #000000;\n",
       "}\n",
       "\n",
       "\n",
       "\n",
       "/* Formatting for header cells */\n",
       ".text_cell_render h1 {\n",
       "    font-family: 'Philosopher', sans-serif;\n",
       "    font-weight: 400;\n",
       "    font-size: 2.2em;\n",
       "    line-height: 100%;\n",
       "    color: rgb(0, 80, 120);\n",
       "    margin-bottom: 0.1em;\n",
       "    margin-top: 0.1em;\n",
       "    display: block;\n",
       "}\t\n",
       ".text_cell_render h2 {\n",
       "    font-family: 'Philosopher', serif;\n",
       "    font-weight: 400;\n",
       "    font-size: 1.9em;\n",
       "    line-height: 100%;\n",
       "    color: rgb(200,100,0);\n",
       "    margin-bottom: 0.1em;\n",
       "    margin-top: 0.1em;\n",
       "    display: block;\n",
       "}\t\n",
       "\n",
       ".text_cell_render h3 {\n",
       "    font-family: 'Philosopher', serif;\n",
       "    margin-top:12px;\n",
       "    margin-bottom: 3px;\n",
       "    font-style: italic;\n",
       "    color: rgb(94,127,192);\n",
       "}\n",
       "\n",
       ".text_cell_render h4 {\n",
       "    font-family: 'Philosopher', serif;\n",
       "}\n",
       "\n",
       ".text_cell_render h5 {\n",
       "    font-family: 'Alegreya Sans', sans-serif;\n",
       "    font-weight: 300;\n",
       "    font-size: 16pt;\n",
       "    color: grey;\n",
       "    font-style: italic;\n",
       "    margin-bottom: .1em;\n",
       "    margin-top: 0.1em;\n",
       "    display: block;\n",
       "}\n",
       "\n",
       ".text_cell_render h6 {\n",
       "    font-family: 'PT Mono', sans-serif;\n",
       "    font-weight: 300;\n",
       "    font-size: 10pt;\n",
       "    color: grey;\n",
       "    margin-bottom: 1px;\n",
       "    margin-top: 1px;\n",
       "}\n",
       "\n",
       ".CodeMirror{\n",
       "        font-family: \"PT Mono\";\n",
       "        font-size: 100%;\n",
       "}\n",
       "\n",
       "</style>\n",
       "\n"
      ],
      "text/plain": [
       "<IPython.core.display.HTML object>"
      ]
     },
     "execution_count": 1,
     "metadata": {},
     "output_type": "execute_result"
    }
   ],
   "source": [
    "from IPython.core.display import HTML, Image\n",
    "css_file = 'style.css'\n",
    "HTML(open(css_file, 'r').read())"
   ]
  },
  {
   "cell_type": "code",
   "execution_count": 2,
   "metadata": {
    "collapsed": true
   },
   "outputs": [],
   "source": [
    "from sympy import init_printing, Matrix, symbols, I, sqrt, Rational\n",
    "from IPython.display import Image\n",
    "from warnings import filterwarnings"
   ]
  },
  {
   "cell_type": "code",
   "execution_count": 3,
   "metadata": {
    "collapsed": true
   },
   "outputs": [],
   "source": [
    "init_printing(use_latex = 'mathjax')\n",
    "filterwarnings('ignore')"
   ]
  },
  {
   "cell_type": "markdown",
   "metadata": {},
   "source": [
    "# Complex vectors, matrices\n",
    "# Fast Fourier transform"
   ]
  },
  {
   "cell_type": "markdown",
   "metadata": {},
   "source": [
    "## Complex vectors"
   ]
  },
  {
   "cell_type": "markdown",
   "metadata": {},
   "source": [
    "* Consider the following vector with complex entries (from this point on I will not use the underscore to indicate a vector, so as not to create confusion with the bar, noting complex conjugate, instead, inferring from context)\n",
    "$$ {z} = \\begin{bmatrix} {z}_{1} \\\\ {z}_{2} \\\\ \\vdots \\\\ {z}_{n} \\end{bmatrix} $$"
   ]
  },
  {
   "cell_type": "markdown",
   "metadata": {},
   "source": [
    "* The length (actually length squared) of this vector is *no good*, since it should be positive\n",
    "$$ {z}^{T}{z} $$\n",
    "* Instead we consider the following\n",
    "$$ z\\bar { z } ={ \\left| { z } \\right|  }^{ 2 }\\\\ \\therefore \\quad \\bar { z } ^{ T }z\\\\ \\left[ { \\bar { z }  }_{ 1 },{ \\bar { z }  }_{ 2 },\\dots ,{ \\bar { z }  }_{ n } \\right] \\begin{bmatrix} { z }_{ 1 } \\\\ { z }_{ 2 } \\\\ \\vdots  \\\\ { z }_{ n } \\end{bmatrix} $$"
   ]
  },
  {
   "cell_type": "code",
   "execution_count": 4,
   "metadata": {
    "collapsed": false
   },
   "outputs": [
    {
     "data": {
      "text/latex": [
       "$$\\left[\\begin{matrix}1\\\\i\\end{matrix}\\right]$$"
      ],
      "text/plain": [
       "⎡1⎤\n",
       "⎢ ⎥\n",
       "⎣ⅈ⎦"
      ]
     },
     "execution_count": 4,
     "metadata": {},
     "output_type": "execute_result"
    }
   ],
   "source": [
    "z = Matrix([1, I]) # I is the sympy symbol for the imaginary number i\n",
    "z"
   ]
  },
  {
   "cell_type": "markdown",
   "metadata": {},
   "source": [
    "* Let's calculate this manually"
   ]
  },
  {
   "cell_type": "code",
   "execution_count": 5,
   "metadata": {
    "collapsed": false
   },
   "outputs": [
    {
     "data": {
      "text/latex": [
       "$$\\sqrt{2}$$"
      ],
      "text/plain": [
       "  ___\n",
       "╲╱ 2 "
      ]
     },
     "execution_count": 5,
     "metadata": {},
     "output_type": "execute_result"
    }
   ],
   "source": [
    "z.norm() # The length of a vector"
   ]
  },
  {
   "cell_type": "code",
   "execution_count": 6,
   "metadata": {
    "collapsed": false
   },
   "outputs": [
    {
     "data": {
      "text/latex": [
       "$$\\left[\\begin{matrix}1\\\\- i\\end{matrix}\\right]$$"
      ],
      "text/plain": [
       "⎡1 ⎤\n",
       "⎢  ⎥\n",
       "⎣-ⅈ⎦"
      ]
     },
     "execution_count": 6,
     "metadata": {},
     "output_type": "execute_result"
    }
   ],
   "source": [
    "z_cc = Matrix([1, -I])\n",
    "z_cc"
   ]
  },
  {
   "cell_type": "code",
   "execution_count": 7,
   "metadata": {
    "collapsed": false
   },
   "outputs": [
    {
     "data": {
      "text/latex": [
       "$$\\left(\\left[\\begin{matrix}2\\end{matrix}\\right]\\right)^{\\frac{1}{2}}$$"
      ],
      "text/plain": [
       "     1/2\n",
       "([2])   "
      ]
     },
     "execution_count": 7,
     "metadata": {},
     "output_type": "execute_result"
    }
   ],
   "source": [
    "sqrt(z_cc.transpose() * z)"
   ]
  },
  {
   "cell_type": "markdown",
   "metadata": {},
   "source": [
    "* Taking the transpose of the complex conjugate is called the Hermitian\n",
    "$$ {z}^{H}{z} $$"
   ]
  },
  {
   "cell_type": "markdown",
   "metadata": {},
   "source": [
    "* We can use the Hermitian for non-complex (or mixed complex) vectors **u** and **v** too\n",
    "$$ \\bar{y}^{T}{x} \\\\ {y}^{H}{x} $$"
   ]
  },
  {
   "cell_type": "code",
   "execution_count": 8,
   "metadata": {
    "collapsed": true
   },
   "outputs": [],
   "source": [
    "from sympy.physics.quantum.dagger import Dagger # A fun way to quickly get the Hermitian"
   ]
  },
  {
   "cell_type": "code",
   "execution_count": 9,
   "metadata": {
    "collapsed": false
   },
   "outputs": [
    {
     "data": {
      "text/latex": [
       "$$\\left[\\begin{matrix}1 & - i\\end{matrix}\\right]$$"
      ],
      "text/plain": [
       "[1  -ⅈ]"
      ]
     },
     "execution_count": 9,
     "metadata": {},
     "output_type": "execute_result"
    }
   ],
   "source": [
    "Dagger(z)"
   ]
  },
  {
   "cell_type": "code",
   "execution_count": 10,
   "metadata": {
    "collapsed": false
   },
   "outputs": [
    {
     "data": {
      "text/latex": [
       "$$\\left(\\left[\\begin{matrix}2\\end{matrix}\\right]\\right)^{\\frac{1}{2}}$$"
      ],
      "text/plain": [
       "     1/2\n",
       "([2])   "
      ]
     },
     "execution_count": 10,
     "metadata": {},
     "output_type": "execute_result"
    }
   ],
   "source": [
    "sqrt(Dagger(z) * z)"
   ]
  },
  {
   "cell_type": "markdown",
   "metadata": {},
   "source": [
    "## Complex symmetric matrices"
   ]
  },
  {
   "cell_type": "markdown",
   "metadata": {},
   "source": [
    "### The transpose"
   ]
  },
  {
   "cell_type": "markdown",
   "metadata": {},
   "source": [
    "* If the symmetric matrix has complex entries then A<sup>T</sup>=A is *no good*"
   ]
  },
  {
   "cell_type": "code",
   "execution_count": 11,
   "metadata": {
    "collapsed": false
   },
   "outputs": [
    {
     "data": {
      "text/latex": [
       "$$\\left[\\begin{matrix}2 & 3 + i\\\\3 - i & 5\\end{matrix}\\right]$$"
      ],
      "text/plain": [
       "⎡  2    3 + ⅈ⎤\n",
       "⎢            ⎥\n",
       "⎣3 - ⅈ    5  ⎦"
      ]
     },
     "execution_count": 11,
     "metadata": {},
     "output_type": "execute_result"
    }
   ],
   "source": [
    "A = Matrix([[2, 3 + I], [3 - I, 5]])\n",
    "A # A Hermitian matrix"
   ]
  },
  {
   "cell_type": "code",
   "execution_count": 12,
   "metadata": {
    "collapsed": false
   },
   "outputs": [
    {
     "data": {
      "text/plain": [
       "False"
      ]
     },
     "execution_count": 12,
     "metadata": {},
     "output_type": "execute_result"
    }
   ],
   "source": [
    "A.transpose() == A"
   ]
  },
  {
   "cell_type": "code",
   "execution_count": 13,
   "metadata": {
    "collapsed": false
   },
   "outputs": [
    {
     "data": {
      "text/latex": [
       "$$\\left[\\begin{matrix}2 & 3 + i\\\\3 - i & 5\\end{matrix}\\right]$$"
      ],
      "text/plain": [
       "⎡  2    3 + ⅈ⎤\n",
       "⎢            ⎥\n",
       "⎣3 - ⅈ    5  ⎦"
      ]
     },
     "execution_count": 13,
     "metadata": {},
     "output_type": "execute_result"
    }
   ],
   "source": [
    "Dagger(A)"
   ]
  },
  {
   "cell_type": "code",
   "execution_count": 14,
   "metadata": {
    "collapsed": false
   },
   "outputs": [
    {
     "data": {
      "text/plain": [
       "True"
      ]
     },
     "execution_count": 14,
     "metadata": {},
     "output_type": "execute_result"
    }
   ],
   "source": [
    "Dagger(A) == A"
   ]
  },
  {
   "cell_type": "markdown",
   "metadata": {},
   "source": [
    "* This will work for real-values symmetric matrices as well"
   ]
  },
  {
   "cell_type": "code",
   "execution_count": 15,
   "metadata": {
    "collapsed": false
   },
   "outputs": [
    {
     "data": {
      "text/latex": [
       "$$\\left[\\begin{matrix}3 & 4\\\\4 & 2\\end{matrix}\\right]$$"
      ],
      "text/plain": [
       "⎡3  4⎤\n",
       "⎢    ⎥\n",
       "⎣4  2⎦"
      ]
     },
     "execution_count": 15,
     "metadata": {},
     "output_type": "execute_result"
    }
   ],
   "source": [
    "A = Matrix([[3, 4], [4, 2]])\n",
    "A"
   ]
  },
  {
   "cell_type": "code",
   "execution_count": 16,
   "metadata": {
    "collapsed": false
   },
   "outputs": [
    {
     "data": {
      "text/plain": [
       "True"
      ]
     },
     "execution_count": 16,
     "metadata": {},
     "output_type": "execute_result"
    }
   ],
   "source": [
    "A.transpose() == A"
   ]
  },
  {
   "cell_type": "code",
   "execution_count": 17,
   "metadata": {
    "collapsed": false
   },
   "outputs": [
    {
     "data": {
      "text/plain": [
       "True"
      ]
     },
     "execution_count": 17,
     "metadata": {},
     "output_type": "execute_result"
    }
   ],
   "source": [
    "Dagger(A) == A"
   ]
  },
  {
   "cell_type": "markdown",
   "metadata": {},
   "source": [
    "### The eigenvalues and eigenvectors"
   ]
  },
  {
   "cell_type": "markdown",
   "metadata": {},
   "source": [
    "* Back to the complex matrix A"
   ]
  },
  {
   "cell_type": "code",
   "execution_count": 18,
   "metadata": {
    "collapsed": false
   },
   "outputs": [
    {
     "data": {
      "text/latex": [
       "$$\\left[\\begin{matrix}2 & 3 + i\\\\3 - i & 5\\end{matrix}\\right]$$"
      ],
      "text/plain": [
       "⎡  2    3 + ⅈ⎤\n",
       "⎢            ⎥\n",
       "⎣3 - ⅈ    5  ⎦"
      ]
     },
     "execution_count": 18,
     "metadata": {},
     "output_type": "execute_result"
    }
   ],
   "source": [
    "A = Matrix([[2, 3 + I], [3 - I, 5]])\n",
    "A"
   ]
  },
  {
   "cell_type": "code",
   "execution_count": 19,
   "metadata": {
    "collapsed": false
   },
   "outputs": [
    {
     "data": {
      "text/latex": [
       "$$\\begin{Bmatrix}0 : 1, & 7 : 1\\end{Bmatrix}$$"
      ],
      "text/plain": [
       "{0: 1, 7: 1}"
      ]
     },
     "execution_count": 19,
     "metadata": {},
     "output_type": "execute_result"
    }
   ],
   "source": [
    "A.eigenvals()"
   ]
  },
  {
   "cell_type": "markdown",
   "metadata": {},
   "source": [
    "$$ A=\\begin{bmatrix} 2 & 3+i \\\\ 3-i & 5 \\end{bmatrix}\\\\ A-\\lambda I=\\mathbf { 0 } \\\\ \\left| \\begin{bmatrix} 2 & 3+i \\\\ 3-i & 5 \\end{bmatrix}-\\begin{bmatrix} \\lambda  & 0 \\\\ 0 & \\lambda  \\end{bmatrix} \\right| =0\\\\ \\begin{vmatrix} 2-\\lambda  & 3+i \\\\ 3-i & 5-\\lambda  \\end{vmatrix}=0\\\\ \\left( 2-\\lambda  \\right) \\left( 5-\\lambda  \\right) -\\left( 3+i \\right) \\left( 3-i \\right) =0\\\\ 10-7\\lambda +{ \\lambda  }^{ 2 }-\\left( 9+1 \\right) =0\\\\ { \\lambda  }^{ 2 }-7\\lambda =0\\\\ { \\lambda  }_{ 1 }=0\\\\ { \\lambda  }_{ 2 }=7 $$"
   ]
  },
  {
   "cell_type": "code",
   "execution_count": 20,
   "metadata": {
    "collapsed": false
   },
   "outputs": [
    {
     "data": {
      "text/latex": [
       "$$\\begin{bmatrix}\\begin{pmatrix}0, & 1, & \\begin{bmatrix}\\left[\\begin{matrix}- \\frac{3}{2} - \\frac{i}{2}\\\\1\\end{matrix}\\right]\\end{bmatrix}\\end{pmatrix}, & \\begin{pmatrix}7, & 1, & \\begin{bmatrix}\\left[\\begin{matrix}\\frac{3}{5} + \\frac{i}{5}\\\\1\\end{matrix}\\right]\\end{bmatrix}\\end{pmatrix}\\end{bmatrix}$$"
      ],
      "text/plain": [
       "⎡⎛      ⎡⎡  3   ⅈ⎤⎤⎞  ⎛      ⎡⎡3   ⅈ⎤⎤⎞⎤\n",
       "⎢⎜0, 1, ⎢⎢- ─ - ─⎥⎥⎟, ⎜7, 1, ⎢⎢─ + ─⎥⎥⎟⎥\n",
       "⎢⎜      ⎢⎢  2   2⎥⎥⎟  ⎜      ⎢⎢5   5⎥⎥⎟⎥\n",
       "⎢⎜      ⎢⎢       ⎥⎥⎟  ⎜      ⎢⎢     ⎥⎥⎟⎥\n",
       "⎣⎝      ⎣⎣   1   ⎦⎦⎠  ⎝      ⎣⎣  1  ⎦⎦⎠⎦"
      ]
     },
     "execution_count": 20,
     "metadata": {},
     "output_type": "execute_result"
    }
   ],
   "source": [
    "A.eigenvects()"
   ]
  },
  {
   "cell_type": "code",
   "execution_count": 21,
   "metadata": {
    "collapsed": true
   },
   "outputs": [],
   "source": [
    "S, D = A.diagonalize()"
   ]
  },
  {
   "cell_type": "code",
   "execution_count": 22,
   "metadata": {
    "collapsed": false
   },
   "outputs": [
    {
     "data": {
      "text/latex": [
       "$$\\left[\\begin{matrix}-3 - i & 3 + i\\\\2 & 5\\end{matrix}\\right]$$"
      ],
      "text/plain": [
       "⎡-3 - ⅈ  3 + ⅈ⎤\n",
       "⎢             ⎥\n",
       "⎣  2       5  ⎦"
      ]
     },
     "execution_count": 22,
     "metadata": {},
     "output_type": "execute_result"
    }
   ],
   "source": [
    "S"
   ]
  },
  {
   "cell_type": "code",
   "execution_count": 23,
   "metadata": {
    "collapsed": false
   },
   "outputs": [
    {
     "data": {
      "text/latex": [
       "$$\\left[\\begin{matrix}0 & 0\\\\0 & 7\\end{matrix}\\right]$$"
      ],
      "text/plain": [
       "⎡0  0⎤\n",
       "⎢    ⎥\n",
       "⎣0  7⎦"
      ]
     },
     "execution_count": 23,
     "metadata": {},
     "output_type": "execute_result"
    }
   ],
   "source": [
    "D"
   ]
  },
  {
   "cell_type": "markdown",
   "metadata": {},
   "source": [
    "* What about S now?\n",
    "* We have to use its transpose, but it is complex, so we have to take the Hermitian"
   ]
  },
  {
   "cell_type": "code",
   "execution_count": 24,
   "metadata": {
    "collapsed": false
   },
   "outputs": [
    {
     "data": {
      "text/latex": [
       "$$\\left[\\begin{matrix}-3 + i & 2\\\\3 - i & 5\\end{matrix}\\right]$$"
      ],
      "text/plain": [
       "⎡-3 + ⅈ  2⎤\n",
       "⎢         ⎥\n",
       "⎣3 - ⅈ   5⎦"
      ]
     },
     "execution_count": 24,
     "metadata": {},
     "output_type": "execute_result"
    }
   ],
   "source": [
    "Dagger(S)"
   ]
  },
  {
   "cell_type": "code",
   "execution_count": 25,
   "metadata": {
    "collapsed": false
   },
   "outputs": [
    {
     "data": {
      "text/plain": [
       "False"
      ]
     },
     "execution_count": 25,
     "metadata": {},
     "output_type": "execute_result"
    }
   ],
   "source": [
    "S == Dagger(S) # Don't get confused here, S is not symmetric"
   ]
  },
  {
   "cell_type": "markdown",
   "metadata": {},
   "source": [
    "* Remember that for a symmetric matrix the column vectors in S (usually called Q, the matrix of eigenvectors) are orthogonal, with Q<sup>T</sup>Q=I\n",
    "* With complex entries we have to consider the Hermitian here, not just the simple transpose\n",
    "* Here we call Q *unitary*"
   ]
  },
  {
   "cell_type": "markdown",
   "metadata": {},
   "source": [
    "## The fast Fourier transform"
   ]
  },
  {
   "cell_type": "markdown",
   "metadata": {},
   "source": [
    "* Look at this special matrix (where we start counting rows and columns at zero)"
   ]
  },
  {
   "cell_type": "markdown",
   "metadata": {},
   "source": [
    "$$ { F }_{ n }=\\begin{bmatrix} W^{ \\left( 0 \\right) \\left( 0 \\right)  } & { W }^{ \\left( 0 \\right) \\left( 1 \\right)  } & { W }^{ \\left( 0 \\right) \\left( 2 \\right)  } & \\dots  & { W }^{ \\left( 0 \\right) \\left( n-1 \\right)  } \\\\ W^{ \\left( 1 \\right) \\left( 0 \\right)  } & { W }^{ \\left( 1 \\right) \\left( 1 \\right)  } & { W }^{ \\left( 1 \\right) \\left( 2 \\right)  } & \\dots  & { W }^{ \\left( 1 \\right) \\left( n-1 \\right)  } \\\\ { W }^{ \\left( 2 \\right) \\left( 0 \\right)  } & { W }^{ \\left( 2 \\right) \\left( 1 \\right)  } & { W }^{ \\left( 2 \\right) \\left( 2 \\right)  } & \\dots  & { W }^{ \\left( 2 \\right) \\left( n-1 \\right)  } \\\\ \\vdots  & \\vdots  & \\vdots  & \\dots  & \\vdots  \\\\ { W }^{ \\left( n-1 \\right) \\left( 0 \\right)  } & { W }^{ \\left( n-1 \\right) \\left( 1 \\right)  } & { W }^{ \\left( n-1 \\right) \\left( 2 \\right)  } & \\dots  & { W }^{ \\left( n-1 \\right) \\left( n-1 \\right)  } \\end{bmatrix} \\\\ \\left({F}_{n}\\right)_{ij}={W}^{ij}; i,j=0,1,2,\\dots,n-1 $$"
   ]
  },
  {
   "cell_type": "markdown",
   "metadata": {},
   "source": [
    "* W is a special number whose *n*<sup>th</sup> power equals 1\n",
    "$$ {W}^{n}=1 \\\\ W={ e }^{ \\frac { i2\\pi  }{ n }  }=\\cos { \\frac { 2\\pi  }{ n } +i\\sin { \\frac { 2\\pi  }{ n }  }  }  $$\n",
    "* It is in the complex plane of course (as written in *sin* and *cos* above)"
   ]
  },
  {
   "cell_type": "markdown",
   "metadata": {},
   "source": [
    "* Remember than *n* here refers to the size the matrix\n",
    "* Here it also refers to the *n*<sup>th</sup> *n* roots (if that makes any sense, else look at the image below)"
   ]
  },
  {
   "cell_type": "code",
   "execution_count": 26,
   "metadata": {
    "collapsed": false
   },
   "outputs": [
    {
     "data": {
      "image/png": "[encoded data removed]",
      "text/plain": [
       "<IPython.core.display.Image object>"
      ]
     },
     "execution_count": 26,
     "metadata": {},
     "output_type": "execute_result"
    }
   ],
   "source": [
    "Image(filename = 'W.png')"
   ]
  },
  {
   "cell_type": "markdown",
   "metadata": {},
   "source": [
    "* So for *n*=4 we will have the following\n",
    "$$ { F }_{ 4 }=\\begin{bmatrix} 1 & 1 & 1 & 1 \\\\ 1 & \\left( { e }^{ \\frac { 2\\pi i }{ 4 }  } \\right) ^{ 1 } & { \\left( { e }^{ \\frac { 2\\pi i }{ 4 }  } \\right) ^{ 2 } } & { \\left( { e }^{ \\frac { 2\\pi i }{ 4 }  } \\right) ^{ 3 } } \\\\ 1 & \\left( { e }^{ \\frac { 2\\pi i }{ 4 }  } \\right) ^{ 2 } & { \\left( { e }^{ \\frac { 2\\pi i }{ 4 }  } \\right) ^{ 4 } } & { \\left( { e }^{ \\frac { 2\\pi i }{ 4 }  } \\right) ^{ 6 } } \\\\ 1 & \\left( { e }^{ \\frac { 2\\pi i }{ 4 }  } \\right) ^{ 3 } & { \\left( { e }^{ \\frac { 2\\pi i }{ 4 }  } \\right) ^{ 6 } } & { \\left( { e }^{ \\frac { 2\\pi i }{ 4 }  } \\right) ^{ 9 } } \\end{bmatrix} $$"
   ]
  },
  {
   "cell_type": "markdown",
   "metadata": {},
   "source": [
    "* We note that a quarter of the way around is *i*\n",
    "$$ {e}^{\\frac{2\\pi{i}}{4}}={i} $$\n",
    "* We thus have the following\n",
    "$$ { F }_{ 4 }=\\begin{bmatrix} 1 & 1 & 1 & 1 \\\\ 1 & i & { i }^{ 2 } & { i }^{ 3 } \\\\ 1 & { i }^{ 2 } & { i }^{ 4 } & { i }^{ 6 } \\\\ 1 & { i }^{ 3 } & { i }^{ 6 } & { i }^{ 9 } \\end{bmatrix}\\\\ { F }_{ 4 }=\\begin{bmatrix} 1 & 1 & 1 & 1 \\\\ 1 & i & -1 & -i \\\\ 1 & -1 & 1 & -1 \\\\ 1 & -i & -1 & i \\end{bmatrix} $$"
   ]
  },
  {
   "cell_type": "markdown",
   "metadata": {},
   "source": [
    "* Note how the columns are orthogonal"
   ]
  },
  {
   "cell_type": "code",
   "execution_count": 27,
   "metadata": {
    "collapsed": false
   },
   "outputs": [
    {
     "data": {
      "text/latex": [
       "$$\\left[\\begin{matrix}1 & 1 & 1 & 1\\\\1 & i & -1 & - i\\\\1 & -1 & 1 & -1\\\\1 & - i & -1 & i\\end{matrix}\\right]$$"
      ],
      "text/plain": [
       "⎡1  1   1   1 ⎤\n",
       "⎢             ⎥\n",
       "⎢1  ⅈ   -1  -ⅈ⎥\n",
       "⎢             ⎥\n",
       "⎢1  -1  1   -1⎥\n",
       "⎢             ⎥\n",
       "⎣1  -ⅈ  -1  ⅈ ⎦"
      ]
     },
     "execution_count": 27,
     "metadata": {},
     "output_type": "execute_result"
    }
   ],
   "source": [
    "F = Matrix([[1, 1, 1, 1], [1, I, -1, -I], [1, -1, 1, -1], [1, -I, -1, I]])\n",
    "F"
   ]
  },
  {
   "cell_type": "code",
   "execution_count": 28,
   "metadata": {
    "collapsed": false
   },
   "outputs": [
    {
     "data": {
      "text/latex": [
       "$$\\left[\\begin{matrix}1\\\\1\\\\1\\\\1\\end{matrix}\\right]$$"
      ],
      "text/plain": [
       "⎡1⎤\n",
       "⎢ ⎥\n",
       "⎢1⎥\n",
       "⎢ ⎥\n",
       "⎢1⎥\n",
       "⎢ ⎥\n",
       "⎣1⎦"
      ]
     },
     "execution_count": 28,
     "metadata": {},
     "output_type": "execute_result"
    }
   ],
   "source": [
    "F.col(0) # Calling only the selected column (counting starts at 0)"
   ]
  },
  {
   "cell_type": "markdown",
   "metadata": {},
   "source": [
    "* The columns are supposed to be orthogonal, i.e. inner (dot) product should be zero\n",
    "* Clearly below it is not"
   ]
  },
  {
   "cell_type": "code",
   "execution_count": 29,
   "metadata": {
    "collapsed": false
   },
   "outputs": [
    {
     "data": {
      "text/latex": [
       "$$4$$"
      ],
      "text/plain": [
       "4"
      ]
     },
     "execution_count": 29,
     "metadata": {},
     "output_type": "execute_result"
    }
   ],
   "source": [
    "F.col(1).dot(F.col(3))"
   ]
  },
  {
   "cell_type": "markdown",
   "metadata": {},
   "source": [
    "* Remember, though, that this is a complex matrix and we have to use the Hermitian"
   ]
  },
  {
   "cell_type": "code",
   "execution_count": 30,
   "metadata": {
    "collapsed": false
   },
   "outputs": [
    {
     "data": {
      "text/latex": [
       "$$\\begin{pmatrix}\\left[\\begin{matrix}1\\\\i\\\\-1\\\\- i\\end{matrix}\\right], & \\left[\\begin{matrix}1\\\\- i\\\\-1\\\\i\\end{matrix}\\right]\\end{pmatrix}$$"
      ],
      "text/plain": [
       "⎛⎡1 ⎤, ⎡1 ⎤⎞\n",
       "⎜⎢  ⎥  ⎢  ⎥⎟\n",
       "⎜⎢ⅈ ⎥  ⎢-ⅈ⎥⎟\n",
       "⎜⎢  ⎥  ⎢  ⎥⎟\n",
       "⎜⎢-1⎥  ⎢-1⎥⎟\n",
       "⎜⎢  ⎥  ⎢  ⎥⎟\n",
       "⎝⎣-ⅈ⎦  ⎣ⅈ ⎦⎠"
      ]
     },
     "execution_count": 30,
     "metadata": {},
     "output_type": "execute_result"
    }
   ],
   "source": [
    "col1 = F.col(1)\n",
    "col3 = F.col(3)\n",
    "col1, col3"
   ]
  },
  {
   "cell_type": "code",
   "execution_count": 31,
   "metadata": {
    "collapsed": false
   },
   "outputs": [
    {
     "data": {
      "text/latex": [
       "$$\\begin{pmatrix}\\left[\\begin{matrix}1 & i & -1 & - i\\end{matrix}\\right], & \\left[\\begin{matrix}1\\\\i\\\\-1\\\\- i\\end{matrix}\\right]\\end{pmatrix}$$"
      ],
      "text/plain": [
       "⎛[1  ⅈ  -1  -ⅈ], ⎡1 ⎤⎞\n",
       "⎜                ⎢  ⎥⎟\n",
       "⎜                ⎢ⅈ ⎥⎟\n",
       "⎜                ⎢  ⎥⎟\n",
       "⎜                ⎢-1⎥⎟\n",
       "⎜                ⎢  ⎥⎟\n",
       "⎝                ⎣-ⅈ⎦⎠"
      ]
     },
     "execution_count": 31,
     "metadata": {},
     "output_type": "execute_result"
    }
   ],
   "source": [
    "Dagger(col3), col1"
   ]
  },
  {
   "cell_type": "code",
   "execution_count": 32,
   "metadata": {
    "collapsed": false
   },
   "outputs": [
    {
     "data": {
      "text/latex": [
       "$$\\left[\\begin{matrix}0\\end{matrix}\\right]$$"
      ],
      "text/plain": [
       "[0]"
      ]
     },
     "execution_count": 32,
     "metadata": {},
     "output_type": "execute_result"
    }
   ],
   "source": [
    "Dagger(col3) * col1 # Another way to do the dot product"
   ]
  },
  {
   "cell_type": "markdown",
   "metadata": {},
   "source": [
    "* So, these columns are all orthogonal, but they are not orthonormal\n",
    "* Note, though that the are all of length 2, so we can normalize each"
   ]
  },
  {
   "cell_type": "code",
   "execution_count": 33,
   "metadata": {
    "collapsed": false
   },
   "outputs": [
    {
     "data": {
      "text/latex": [
       "$$\\left[\\begin{matrix}\\frac{1}{2} & \\frac{1}{2} & \\frac{1}{2} & \\frac{1}{2}\\\\\\frac{1}{2} & \\frac{i}{2} & - \\frac{1}{2} & - \\frac{i}{2}\\\\\\frac{1}{2} & - \\frac{1}{2} & \\frac{1}{2} & - \\frac{1}{2}\\\\\\frac{1}{2} & - \\frac{i}{2} & - \\frac{1}{2} & \\frac{i}{2}\\end{matrix}\\right]$$"
      ],
      "text/plain": [
       "⎡1/2  1/2   1/2   1/2 ⎤\n",
       "⎢                     ⎥\n",
       "⎢      ⅈ          -ⅈ  ⎥\n",
       "⎢1/2   ─    -1/2  ─── ⎥\n",
       "⎢      2           2  ⎥\n",
       "⎢                     ⎥\n",
       "⎢1/2  -1/2  1/2   -1/2⎥\n",
       "⎢                     ⎥\n",
       "⎢     -ⅈ           ⅈ  ⎥\n",
       "⎢1/2  ───   -1/2   ─  ⎥\n",
       "⎣      2           2  ⎦"
      ]
     },
     "execution_count": 33,
     "metadata": {},
     "output_type": "execute_result"
    }
   ],
   "source": [
    "Rational(1, 2) * F"
   ]
  },
  {
   "cell_type": "markdown",
   "metadata": {},
   "source": [
    "* We also note the following\n",
    "$$ {F}_{n}^{H}{F}_{n}={I} $$\n",
    "* Just remember to normalize them"
   ]
  },
  {
   "cell_type": "code",
   "execution_count": 34,
   "metadata": {
    "collapsed": false
   },
   "outputs": [
    {
     "data": {
      "text/latex": [
       "$$\\left[\\begin{matrix}\\frac{1}{2} & \\frac{1}{2} & \\frac{1}{2} & \\frac{1}{2}\\\\\\frac{1}{2} & - \\frac{i}{2} & - \\frac{1}{2} & \\frac{i}{2}\\\\\\frac{1}{2} & - \\frac{1}{2} & \\frac{1}{2} & - \\frac{1}{2}\\\\\\frac{1}{2} & \\frac{i}{2} & - \\frac{1}{2} & - \\frac{i}{2}\\end{matrix}\\right]$$"
      ],
      "text/plain": [
       "⎡1/2  1/2   1/2   1/2 ⎤\n",
       "⎢                     ⎥\n",
       "⎢     -ⅈ           ⅈ  ⎥\n",
       "⎢1/2  ───   -1/2   ─  ⎥\n",
       "⎢      2           2  ⎥\n",
       "⎢                     ⎥\n",
       "⎢1/2  -1/2  1/2   -1/2⎥\n",
       "⎢                     ⎥\n",
       "⎢      ⅈ          -ⅈ  ⎥\n",
       "⎢1/2   ─    -1/2  ─── ⎥\n",
       "⎣      2           2  ⎦"
      ]
     },
     "execution_count": 34,
     "metadata": {},
     "output_type": "execute_result"
    }
   ],
   "source": [
    "Dagger(Rational(1, 2) * F)"
   ]
  },
  {
   "cell_type": "code",
   "execution_count": 35,
   "metadata": {
    "collapsed": false
   },
   "outputs": [
    {
     "data": {
      "text/latex": [
       "$$\\left[\\begin{matrix}1 & 0 & 0 & 0\\\\0 & 1 & 0 & 0\\\\0 & 0 & 1 & 0\\\\0 & 0 & 0 & 1\\end{matrix}\\right]$$"
      ],
      "text/plain": [
       "⎡1  0  0  0⎤\n",
       "⎢          ⎥\n",
       "⎢0  1  0  0⎥\n",
       "⎢          ⎥\n",
       "⎢0  0  1  0⎥\n",
       "⎢          ⎥\n",
       "⎣0  0  0  1⎦"
      ]
     },
     "execution_count": 35,
     "metadata": {},
     "output_type": "execute_result"
    }
   ],
   "source": [
    "Dagger(Rational(1, 2) * F) * ((Rational(1, 2) * F))"
   ]
  },
  {
   "cell_type": "markdown",
   "metadata": {},
   "source": [
    "* Now why do we call it *fast* Fourier transform\n",
    "* Note the following\n",
    "$$ { W }_{ n }={ e }^{ \\frac { 2\\pi i }{ n }  }\\\\ { \\left( { W }_{ n } \\right)  }^{ p }={ \\left( { e }^{ \\frac { 2\\pi i }{ n }  } \\right)  }^{ p }\\\\ { \\left( { W }_{ 64 } \\right)  }^{ 2 }={ \\left( { e }^{ \\frac { 2\\pi i }{ 64 }  } \\right)  }^{ 2 };\\quad n=64,\\quad p=2\\\\ \\therefore \\quad { \\left( { W }_{ 64 } \\right)  }^{ 2 }={ W }_{ 32 } $$"
   ]
  },
  {
   "cell_type": "markdown",
   "metadata": {},
   "source": [
    "* Now we have the following connection between the two\n",
    "$$ \\left[ { F }_{ 64 } \\right] =\\begin{bmatrix} I & D \\\\ I & -D \\end{bmatrix}\\begin{bmatrix} { F }_{ 32 } & 0 \\\\ 0 & { F }_{ 32 } \\end{bmatrix}\\left[ P \\right] \\\\ D=\\begin{bmatrix} 1 & 0 & 0 & \\dots  & 0 \\\\ 0 & W & 0 & \\dots  & 0 \\\\ 0 & 0 & { W }^{ 2 } & \\dots  & 0 \\\\ \\vdots  & \\vdots  & \\vdots  & \\dots  & \\vdots  \\\\ 0 & 0 & 0 & \\dots  & { W }^{ 31 } \\end{bmatrix}$$\n",
    "* P is a permutation matrix"
   ]
  },
  {
   "cell_type": "markdown",
   "metadata": {},
   "source": [
    "* Going down to 16 will include the following\n",
    "$$ \\begin{bmatrix} I & D & 0 & 0 \\\\ I & -D & 0 & 0 \\\\ 0 & 0 & I & D \\\\ 0 & 0 & I & -D \\end{bmatrix}\\begin{bmatrix} { F }_{ 16 } & 0 & 0 & 0 \\\\ 0 & { F }_{ 16 } & 0 & 0 \\\\ 0 & 0 & { F }_{ 16 } & 0 \\\\ 0 & 0 & 0 & { F }_{ 16 } \\end{bmatrix}\\left[ P \\right]  $$"
   ]
  },
  {
   "cell_type": "markdown",
   "metadata": {},
   "source": [
    "* The recursive work above leads to decreasing the work that is required for working with these problems"
   ]
  },
  {
   "cell_type": "code",
   "execution_count": null,
   "metadata": {
    "collapsed": true
   },
   "outputs": [],
   "source": []
  }
 ],
 "metadata": {
  "kernelspec": {
   "display_name": "Python 3",
   "language": "python",
   "name": "python3"
  },
  "language_info": {
   "codemirror_mode": {
    "name": "ipython",
    "version": 3
   },
   "file_extension": ".py",
   "mimetype": "text/x-python",
   "name": "python",
   "nbconvert_exporter": "python",
   "pygments_lexer": "ipython3",
   "version": "3.4.3"
  }
 },
 "nbformat": 4,
 "nbformat_minor": 0
}
