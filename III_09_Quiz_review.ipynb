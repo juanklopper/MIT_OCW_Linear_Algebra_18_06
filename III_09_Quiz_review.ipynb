{
 "cells": [
  {
   "cell_type": "markdown",
   "metadata": {},
   "source": [
    "+ This notebook is part of *Quiz review 3* in the OCW MIT course 18.06 by Prof Gilbert Strang [1]\n",
    "+ Created by me, Dr Juan H Klopper\n",
    "    + Head of Acute Care Surgery\n",
    "    + Groote Schuur Hospital\n",
    "    + University Cape Town\n",
    "    + <a href=\"mailto:juan.klopper@uct.ac.za\">Email me with your thoughts, comments, suggestions and corrections</a> \n",
    "<a rel=\"license\" href=\"http://creativecommons.org/licenses/by-nc/4.0/\"><img alt=\"Creative Commons Licence\" style=\"border-width:0\" src=\"https://i.creativecommons.org/l/by-nc/4.0/88x31.png\" /></a><br /><span xmlns:dct=\"http://purl.org/dc/terms/\" href=\"http://purl.org/dc/dcmitype/InteractiveResource\" property=\"dct:title\" rel=\"dct:type\">Linear Algebra OCW MIT18.06</span> <span xmlns:cc=\"http://creativecommons.org/ns#\" property=\"cc:attributionName\">IPython notebook [2] study notes by Dr Juan H Klopper</span> is licensed under a <a rel=\"license\" href=\"http://creativecommons.org/licenses/by-nc/4.0/\">Creative Commons Attribution-NonCommercial 4.0 International License</a>.\n",
    "\n",
    "+ [1] <a href=\"http://ocw.mit.edu/courses/mathematics/18-06sc-linear-algebra-fall-2011/index.htm\">OCW MIT 18.06</a>\n",
    "+ [2] Fernando Pérez, Brian E. Granger, IPython: A System for Interactive Scientific Computing, Computing in Science and Engineering, vol. 9, no. 3, pp. 21-29, May/June 2007, doi:10.1109/MCSE.2007.53. URL: http://ipython.org"
   ]
  },
  {
   "cell_type": "code",
   "execution_count": 1,
   "metadata": {
    "collapsed": false
   },
   "outputs": [
    {
     "data": {
      "text/html": [
       "<link href='http://fonts.googleapis.com/css?family=Alegreya+Sans:100,300,400,500,700,800,900,100italic,300italic,400italic,500italic,700italic,800italic,900italic' rel='stylesheet' type='text/css'>\n",
       "<link href='http://fonts.googleapis.com/css?family=Arvo:400,700,400italic' rel='stylesheet' type='text/css'>\n",
       "<link href='http://fonts.googleapis.com/css?family=PT+Mono' rel='stylesheet' type='text/css'>\n",
       "<link href='http://fonts.googleapis.com/css?family=Shadows+Into+Light' rel='stylesheet' type='text/css'>\n",
       "<link href='http://fonts.googleapis.com/css?family=Philosopher:400,700,400italic,700italic' rel='stylesheet' type='text/css'>\n",
       "\n",
       "<style>\n",
       "\n",
       "@font-face {\n",
       "    font-family: \"Computer Modern\";\n",
       "    src: url('http://mirrors.ctan.org/fonts/cm-unicode/fonts/otf/cmunss.otf');\n",
       "}\n",
       "\n",
       "#notebook_panel { /* main background */\n",
       "    background: #ddd;\n",
       "    color: #000000;\n",
       "}\n",
       "\n",
       "\n",
       "\n",
       "/* Formatting for header cells */\n",
       ".text_cell_render h1 {\n",
       "    font-family: 'Philosopher', sans-serif;\n",
       "    font-weight: 400;\n",
       "    font-size: 2.2em;\n",
       "    line-height: 100%;\n",
       "    color: rgb(0, 80, 120);\n",
       "    margin-bottom: 0.1em;\n",
       "    margin-top: 0.1em;\n",
       "    display: block;\n",
       "}\t\n",
       ".text_cell_render h2 {\n",
       "    font-family: 'Philosopher', serif;\n",
       "    font-weight: 400;\n",
       "    font-size: 1.9em;\n",
       "    line-height: 100%;\n",
       "    color: rgb(200,100,0);\n",
       "    margin-bottom: 0.1em;\n",
       "    margin-top: 0.1em;\n",
       "    display: block;\n",
       "}\t\n",
       "\n",
       ".text_cell_render h3 {\n",
       "    font-family: 'Philosopher', serif;\n",
       "    margin-top:12px;\n",
       "    margin-bottom: 3px;\n",
       "    font-style: italic;\n",
       "    color: rgb(94,127,192);\n",
       "}\n",
       "\n",
       ".text_cell_render h4 {\n",
       "    font-family: 'Philosopher', serif;\n",
       "}\n",
       "\n",
       ".text_cell_render h5 {\n",
       "    font-family: 'Alegreya Sans', sans-serif;\n",
       "    font-weight: 300;\n",
       "    font-size: 16pt;\n",
       "    color: grey;\n",
       "    font-style: italic;\n",
       "    margin-bottom: .1em;\n",
       "    margin-top: 0.1em;\n",
       "    display: block;\n",
       "}\n",
       "\n",
       ".text_cell_render h6 {\n",
       "    font-family: 'PT Mono', sans-serif;\n",
       "    font-weight: 300;\n",
       "    font-size: 10pt;\n",
       "    color: grey;\n",
       "    margin-bottom: 1px;\n",
       "    margin-top: 1px;\n",
       "}\n",
       "\n",
       ".CodeMirror{\n",
       "        font-family: \"PT Mono\";\n",
       "        font-size: 100%;\n",
       "}\n",
       "\n",
       "</style>\n",
       "\n"
      ],
      "text/plain": [
       "<IPython.core.display.HTML object>"
      ]
     },
     "execution_count": 1,
     "metadata": {},
     "output_type": "execute_result"
    }
   ],
   "source": [
    "from IPython.core.display import HTML, Image\n",
    "css_file = 'style.css'\n",
    "HTML(open(css_file, 'r').read())"
   ]
  },
  {
   "cell_type": "code",
   "execution_count": 2,
   "metadata": {
    "collapsed": true
   },
   "outputs": [],
   "source": [
    "from sympy import init_printing, Matrix, symbols, sqrt, Rational\n",
    "from numpy import matrix, transpose, sqrt, eye\n",
    "from numpy.linalg import pinv, inv, det, svd, norm, eig\n",
    "from scipy.linalg import pinv2\n",
    "from warnings import filterwarnings"
   ]
  },
  {
   "cell_type": "code",
   "execution_count": 3,
   "metadata": {
    "collapsed": true
   },
   "outputs": [],
   "source": [
    "init_printing(use_latex = 'mathjax')\n",
    "filterwarnings('ignore')"
   ]
  },
  {
   "cell_type": "markdown",
   "metadata": {},
   "source": [
    "# Review of select topics"
   ]
  },
  {
   "cell_type": "markdown",
   "metadata": {},
   "source": [
    "## Quick facts"
   ]
  },
  {
   "cell_type": "markdown",
   "metadata": {},
   "source": [
    "+ Eigenvalues\n",
    "    + There are shortcuts that we can sometimes employ to calculate them\n",
    "+ In symmetric matrices A = A<sup>T</sup>\n",
    "    + Their eigenvalues are always real\n",
    "    + There are always enough eigenvectors and we can choose them to be orthogonal\n",
    "    + They van be diagonalized and factorized as Q&Lambda'Q<sup>T</sup>\n",
    "+ Similar matrices are any square matrices that are related by A = M<sup>-1</sup>BM\n",
    "    + They have the same eigenvalues (not eigenvectors)\n",
    "    + As one grows / decays so does the other A<sup>k</sup> = M<sup>-1</sup>B<sup>k</sup>M"
   ]
  },
  {
   "cell_type": "markdown",
   "metadata": {},
   "source": [
    "## Exercise problems"
   ]
  },
  {
   "cell_type": "markdown",
   "metadata": {},
   "source": [
    "### Differential equation matrix"
   ]
  },
  {
   "cell_type": "markdown",
   "metadata": {},
   "source": [
    "+ Consider the following and solve for a general solution and solve for *e*<sup>At</sup>\n",
    "$$ \\frac{du}{dt}={A}{u}=\\begin{bmatrix}0&-1&0\\\\1&0&-1\\\\0&1&0\\end{bmatrix}{u} $$"
   ]
  },
  {
   "cell_type": "markdown",
   "metadata": {},
   "source": [
    "+ There are no initial condition, so we need the general solutions\n",
    "    + They will be in the form\n",
    "    $$ u\\left(t\\right)={c}_{1}{e}^{{\\lambda}_{1}{t}}{x}_{1}+{c}_{2}{e}^{{\\lambda}_{2}{t}}{x}_{2}+{c}_{3}{e}^{{\\lambda}_{3}{t}}{x}_{3} $$"
   ]
  },
  {
   "cell_type": "code",
   "execution_count": 4,
   "metadata": {
    "collapsed": false
   },
   "outputs": [
    {
     "data": {
      "text/latex": [
       "$$\\begin{pmatrix}\\left[\\begin{matrix}0 & -1 & 0\\\\1 & 0 & -1\\\\0 & 1 & 0\\end{matrix}\\right], & 0\\end{pmatrix}$$"
      ],
      "text/plain": [
       "⎛⎡0  -1  0 ⎤, 0⎞\n",
       "⎜⎢         ⎥   ⎟\n",
       "⎜⎢1  0   -1⎥   ⎟\n",
       "⎜⎢         ⎥   ⎟\n",
       "⎝⎣0  1   0 ⎦   ⎠"
      ]
     },
     "execution_count": 4,
     "metadata": {},
     "output_type": "execute_result"
    }
   ],
   "source": [
    "A = Matrix([[0, -1, 0], [1, 0, -1], [0, 1, 0]])\n",
    "A, A.det()"
   ]
  },
  {
   "cell_type": "markdown",
   "metadata": {},
   "source": [
    "+ It is clearly singular (dependent rows and columns)"
   ]
  },
  {
   "cell_type": "code",
   "execution_count": 5,
   "metadata": {
    "collapsed": false
   },
   "outputs": [
    {
     "data": {
      "text/latex": [
       "$$\\left[\\begin{matrix}0 & 1 & 0\\\\-1 & 0 & 1\\\\0 & -1 & 0\\end{matrix}\\right]$$"
      ],
      "text/plain": [
       "⎡0   1   0⎤\n",
       "⎢         ⎥\n",
       "⎢-1  0   1⎥\n",
       "⎢         ⎥\n",
       "⎣0   -1  0⎦"
      ]
     },
     "execution_count": 5,
     "metadata": {},
     "output_type": "execute_result"
    }
   ],
   "source": [
    "A.transpose()"
   ]
  },
  {
   "cell_type": "markdown",
   "metadata": {},
   "source": [
    "+ It is skew-symmetric and therefor eigenvalues are purely complex numbers (including 0*i*)"
   ]
  },
  {
   "cell_type": "code",
   "execution_count": 6,
   "metadata": {
    "collapsed": false
   },
   "outputs": [
    {
     "data": {
      "text/latex": [
       "$$\\begin{Bmatrix}0 : 1, & - \\sqrt{2} i : 1, & \\sqrt{2} i : 1\\end{Bmatrix}$$"
      ],
      "text/plain": [
       "⎧         ___         ___     ⎫\n",
       "⎨0: 1, -╲╱ 2 ⋅ⅈ: 1, ╲╱ 2 ⋅ⅈ: 1⎬\n",
       "⎩                             ⎭"
      ]
     },
     "execution_count": 6,
     "metadata": {},
     "output_type": "execute_result"
    }
   ],
   "source": [
    "A.eigenvals()"
   ]
  },
  {
   "cell_type": "markdown",
   "metadata": {},
   "source": [
    "+ The solution is thus as follows\n",
    "$$ u\\left(t\\right)={c}_{1}{x}_{1}+{c}_{2}{e}^{{\\sqrt{2}i}{t}}{x}_{2}+{c}_{3}{e}^{{-\\sqrt{2}i}{t}}{x}_{3} $$\n",
    "+ The solution moves around the unit circle (doesn't grow / decay)\n",
    "+ It returns to the same value (it's periodic) after a certain time *t*\n",
    "$$ \\sqrt{2}{i}{T}=2{\\pi}{i};\\quad{e}^{0}=1 \\\\ \\sqrt{2}{T}=2{\\pi} \\\\ {T}={\\pi}\\sqrt{2} $$"
   ]
  },
  {
   "cell_type": "markdown",
   "metadata": {},
   "source": [
    "+ Finding *u*(*t*) allows the following\n",
    "$$ u\\left(t\\right)={e}^{At}u\\left(0\\right) $$"
   ]
  },
  {
   "cell_type": "markdown",
   "metadata": {},
   "source": [
    "+ If A is diagonalizable (A = S&Lambda;S<sup>-1</sup>) then we have the following\n",
    "$$ {e}^{At}=S{e}^{\\Lambda{t}}{S}^{-1} \\\\ { e }^{ \\Lambda t }=\\begin{bmatrix} { e }^{ { \\lambda  }_{ 1 }t } & 0 & 0 \\\\ 0 & \\ddots  & 0 \\\\ 0 & 0 & { e }^{ { \\lambda  }_{ n }t } \\end{bmatrix} $$"
   ]
  },
  {
   "cell_type": "markdown",
   "metadata": {},
   "source": [
    "### Orthogonal eigenvalues"
   ]
  },
  {
   "cell_type": "markdown",
   "metadata": {},
   "source": [
    "+ Which matrices have orthogonal eigenvectors?"
   ]
  },
  {
   "cell_type": "markdown",
   "metadata": {},
   "source": [
    "+ The following\n",
    "    + Symmetric matrices\n",
    "    + When A<sup>T</sup> = -A (skew-symmetric)\n",
    "    + Orthogonal matrices\n",
    "    + In general these are all when AA<sup>T</sup>=A<sup>T</sup>A"
   ]
  },
  {
   "cell_type": "markdown",
   "metadata": {},
   "source": [
    "### Definitions"
   ]
  },
  {
   "cell_type": "markdown",
   "metadata": {},
   "source": [
    "+ Given the following\n",
    "$$ { \\lambda  }_{ 1 }=0;\\quad { \\lambda  }_{ 2 }=c;\\quad { \\lambda  }_{ 3 }=2\\\\ { x }_{ 1 }=\\begin{bmatrix} 1 \\\\ 1 \\\\ 1 \\end{bmatrix},\\quad { x }_{ 2 }=\\begin{bmatrix} 1 \\\\ -1 \\\\ 0 \\end{bmatrix},\\quad { x }_{ 3 }=\\begin{bmatrix} 1 \\\\ 1 \\\\ 2 \\end{bmatrix} $$"
   ]
  },
  {
   "cell_type": "markdown",
   "metadata": {},
   "source": [
    "+ Is the matrix A diagonalizable and of so for which value(s) of *c*?\n",
    "    + So we need enough enough eigenvectors and they should be independent\n",
    "    + They are indeed\n",
    "    + More so they are orthogonal\n",
    "    + So, for all *c* the matrix is diagonalizable"
   ]
  },
  {
   "cell_type": "markdown",
   "metadata": {},
   "source": [
    "+ Is A symmetric and if so, for which value(s) of *s*?\n",
    "    + The eigenvalues all have to be real values\n",
    "    + Thus all real values for *c*"
   ]
  },
  {
   "cell_type": "markdown",
   "metadata": {},
   "source": [
    "+ Is A positive definite and if so, for which values of *c*?\n",
    "    + This is a sub-case of symmetric matrices\n",
    "    + There are a lot of tests for positive definite matrices\n",
    "    + One of the eigenvalues are zero, so it can, at best, be semi-definite, for *c* &ge; 0"
   ]
  },
  {
   "cell_type": "markdown",
   "metadata": {},
   "source": [
    "+ Is this a Markov matrix and if so, for which values of *c*?\n",
    "    + One of the eigenvalues must be 1 and the others must be smaller\n",
    "    + So, no"
   ]
  },
  {
   "cell_type": "markdown",
   "metadata": {},
   "source": [
    "+ Could &frac12;A be a projection matrix?\n",
    "    + They are symmetric and eigenvalues must be real\n",
    "    + Any projection matrix eigenvalues must be 0 and 1\n",
    "    $$ P=\\frac{A}{2} \\\\ {P}^{2}=P \\\\ \\therefore {\\lambda}^{2}=\\lambda \\\\ \\therefore \\lambda = 0; \\quad \\lambda = 1 $$\n",
    "    + Thus *c* = 0 or *c* = 2 will work (for &frac12;A we will have &frac12;&lambda;)"
   ]
  },
  {
   "cell_type": "markdown",
   "metadata": {},
   "source": [
    "### Singular value decomposition"
   ]
  },
  {
   "cell_type": "markdown",
   "metadata": {},
   "source": [
    "+ In SVD we have the following\n",
    "$$ A=U\\Sigma {V}^{T} $$\n",
    "+ Where U and V are orthogonal matrices and &Sigma; a diagonal matrix"
   ]
  },
  {
   "cell_type": "markdown",
   "metadata": {},
   "source": [
    "+ Every matrix has a SVD\n",
    "$$ {A}^{T}A=\\left( V {\\Sigma}^{T} {U}^{T} \\right) \\left( U {\\Sigma} {V}^{T} \\right) \\\\ {A}^{T} A = V \\left( {\\Sigma}^{T} {\\Sigma} \\right) {V}^{T} $$\n",
    "+ V is the eigenvector matrix for A<sup>T</sup>\n",
    "+ &Sigma: has along its main diagonal the square roots of the eigenvalues\n",
    "+ U is similarly calculated as the eigenvector matrix of AA<sup>T</sup>\n",
    "+ There is always, though, as sign issue when choosing V and U\n",
    "    + For whichever signs are chosen for V, this forces the signs for U which can be checked against the following\n",
    "    $$ A{v}_{i} = {\\sigma}_{i} {u}_{i} \\\\ AV = \\Sigma U $$\n",
    "+ &Sigma; can tell us a lot about A\n",
    "    + All values must be &ge; 0\n",
    "    + If it contains a 0 along the main diagonal, A is singular"
   ]
  },
  {
   "cell_type": "markdown",
   "metadata": {},
   "source": [
    "### Symmetric AND orthogonal matrices (matrices that are both)\n",
    "+ A = A<sup>T</sup> = A<sup>-1</sup>"
   ]
  },
  {
   "cell_type": "markdown",
   "metadata": {},
   "source": [
    "+ What can be said about the eigenvalues of these?\n",
    "    + Symmetric matrices have real eigenvalues and the orthogonal matrix eigenvalues must have length 1; ||&lambda;|| = 1"
   ]
  },
  {
   "cell_type": "markdown",
   "metadata": {},
   "source": [
    "+ Is A sure to be positive definite?\n",
    "    + No, as &lambda; can be -1"
   ]
  },
  {
   "cell_type": "markdown",
   "metadata": {},
   "source": [
    "+ Does it have repeated eigenvalues?\n",
    "    + Yes (if *n* &ge; 2, some eigenvalues must be repeated)"
   ]
  },
  {
   "cell_type": "markdown",
   "metadata": {},
   "source": [
    "+ Is it diagonalizable?\n",
    "    + Most definitely"
   ]
  },
  {
   "cell_type": "markdown",
   "metadata": {},
   "source": [
    "+ Is it non-singular\n",
    "    + Yes (no zero eigenvalues)"
   ]
  },
  {
   "cell_type": "markdown",
   "metadata": {},
   "source": [
    "+ Prove that the following is a projection matrix\n",
    "$$ \\frac{1}{2} \\left( A+I \\right) $$ \n",
    "    + Squaring it should result in the same\n",
    "    $$ \\frac{1}{4} \\left( {A}^{2} + 2A + I \\right) $$\n",
    "    + This begs the question, what is A<sup>2</sup>?\n",
    "    + Well, if A equals its inverse, A<sup>2</sup> = I\n",
    "    + As an aside the eigenvalues of A + I will be twice the eigenvalues of A"
   ]
  },
  {
   "cell_type": "markdown",
   "metadata": {},
   "source": [
    "## Example problems"
   ]
  },
  {
   "cell_type": "markdown",
   "metadata": {},
   "source": [
    "### Example problem 1"
   ]
  },
  {
   "cell_type": "markdown",
   "metadata": {},
   "source": [
    "+ Find the eigenvalues and eigenvectors of the following\n",
    "    + 1: The projection matrix P\n",
    "    $$ {P} = \\frac{{a}{a}^{T}}{{a}^{T}{a}}; \\quad a= \\begin{bmatrix}3\\\\4\\end{bmatrix} $$\n",
    "    + 2: The matrix Q\n",
    "    $$ Q = \\begin{bmatrix}0.6&-0.8\\\\0.8&0.6\\end{bmatrix} $$\n",
    "    + 3: The matrix R\n",
    "    $$ R = 2P - I $$"
   ]
  },
  {
   "cell_type": "markdown",
   "metadata": {},
   "source": [
    "#### Solution"
   ]
  },
  {
   "cell_type": "markdown",
   "metadata": {},
   "source": [
    "+ 1:"
   ]
  },
  {
   "cell_type": "code",
   "execution_count": 7,
   "metadata": {
    "collapsed": false
   },
   "outputs": [
    {
     "data": {
      "text/plain": [
       "matrix([[ 0.36,  0.48],\n",
       "        [ 0.48,  0.64]])"
      ]
     },
     "execution_count": 7,
     "metadata": {},
     "output_type": "execute_result"
    }
   ],
   "source": [
    "a = matrix([[3], [4]]) # Not using sympy\n",
    "P = (a * transpose(a)) / (transpose(a) * a)\n",
    "P"
   ]
  },
  {
   "cell_type": "markdown",
   "metadata": {},
   "source": [
    "+ The eigenvalues of a projection matrix are either 0 or 1"
   ]
  },
  {
   "cell_type": "code",
   "execution_count": 8,
   "metadata": {
    "collapsed": false
   },
   "outputs": [
    {
     "data": {
      "text/plain": [
       "(array([ 0.,  1.]), matrix([[-0.8, -0.6],\n",
       "         [ 0.6, -0.8]]))"
      ]
     },
     "execution_count": 8,
     "metadata": {},
     "output_type": "execute_result"
    }
   ],
   "source": [
    "eig(P) # eig() gives the eigenvalues and eigenvector matrix"
   ]
  },
  {
   "cell_type": "markdown",
   "metadata": {},
   "source": [
    "+ 2:"
   ]
  },
  {
   "cell_type": "code",
   "execution_count": 9,
   "metadata": {
    "collapsed": false
   },
   "outputs": [
    {
     "data": {
      "text/plain": [
       "matrix([[ 0.6, -0.8],\n",
       "        [ 0.8,  0.6]])"
      ]
     },
     "execution_count": 9,
     "metadata": {},
     "output_type": "execute_result"
    }
   ],
   "source": [
    "Q = matrix([[0.6, -0.8], [0.8, 0.6]])\n",
    "Q"
   ]
  },
  {
   "cell_type": "markdown",
   "metadata": {},
   "source": [
    "+ Note that Q is a projection matrix"
   ]
  },
  {
   "cell_type": "code",
   "execution_count": 10,
   "metadata": {
    "collapsed": false
   },
   "outputs": [
    {
     "data": {
      "text/plain": [
       "(array([ 0.6+0.8j,  0.6-0.8j]),\n",
       " matrix([[ 0.70710678+0.j        ,  0.70710678-0.j        ],\n",
       "         [ 0.00000000-0.70710678j,  0.00000000+0.70710678j]]))"
      ]
     },
     "execution_count": 10,
     "metadata": {},
     "output_type": "execute_result"
    }
   ],
   "source": [
    "eig(Q) # eigenvalues come in complex conjugate pairs"
   ]
  },
  {
   "cell_type": "markdown",
   "metadata": {},
   "source": [
    "+ 3:"
   ]
  },
  {
   "cell_type": "markdown",
   "metadata": {},
   "source": [
    "+ R will have the same eigenvectors, but (shifted) eigenvalues"
   ]
  },
  {
   "cell_type": "code",
   "execution_count": 11,
   "metadata": {
    "collapsed": false
   },
   "outputs": [
    {
     "data": {
      "text/plain": [
       "matrix([[-0.28,  0.96],\n",
       "        [ 0.96,  0.28]])"
      ]
     },
     "execution_count": 11,
     "metadata": {},
     "output_type": "execute_result"
    }
   ],
   "source": [
    "R = 2 * P - eye(2)\n",
    "R"
   ]
  },
  {
   "cell_type": "code",
   "execution_count": 12,
   "metadata": {
    "collapsed": false
   },
   "outputs": [
    {
     "data": {
      "text/plain": [
       "(array([-1.,  1.]), matrix([[-0.8, -0.6],\n",
       "         [ 0.6, -0.8]]))"
      ]
     },
     "execution_count": 12,
     "metadata": {},
     "output_type": "execute_result"
    }
   ],
   "source": [
    "eig(R)"
   ]
  },
  {
   "cell_type": "markdown",
   "metadata": {},
   "source": [
    "+ The eigenvalues of P was 0 and 1\n",
    "    + 2 &times; 0 - 1 = -1\n",
    "    + 2 &times; 1 - 1 = 1"
   ]
  },
  {
   "cell_type": "code",
   "execution_count": null,
   "metadata": {
    "collapsed": true
   },
   "outputs": [],
   "source": []
  }
 ],
 "metadata": {
  "kernelspec": {
   "display_name": "Python 3",
   "language": "python",
   "name": "python3"
  },
  "language_info": {
   "codemirror_mode": {
    "name": "ipython",
    "version": 3
   },
   "file_extension": ".py",
   "mimetype": "text/x-python",
   "name": "python",
   "nbconvert_exporter": "python",
   "pygments_lexer": "ipython3",
   "version": "3.4.3"
  }
 },
 "nbformat": 4,
 "nbformat_minor": 0
}
